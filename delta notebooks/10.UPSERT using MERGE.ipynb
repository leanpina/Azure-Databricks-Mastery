{
 "cells": [
  {
   "cell_type": "markdown",
   "metadata": {
    "application/vnd.databricks.v1+cell": {
     "cellMetadata": {},
     "inputWidgets": {},
     "nuid": "9ab06948-c9ea-4287-9332-aceb0dcb8021",
     "showTitle": false,
     "title": ""
    }
   },
   "source": [
    "## UPSERT com MERGE no Delta Lake\n",
    "\n",
    "O conceito de \"UPSERT\" (UPDATE + INSERT) é uma funcionalidade crucial em sistemas de gerenciamento de dados, permitindo a atualização eficiente de dados existentes e a inserção de novos dados em uma única operação. No contexto do Delta Lake, o comando `MERGE` fornece uma maneira poderosa e flexível de implementar a lógica UPSERT. \n",
    "\n",
    "Vamos analisar o funcionamento do UPSERT com `MERGE` com base nas informações fornecidas:\n",
    "\n",
    "**Entendendo o UPSERT**\n",
    "\n",
    "* **Objetivo:** O UPSERT visa simplificar o processo de atualização de dados em um sistema, realizando as seguintes ações em uma única operação:\n",
    "    * **Atualizar registros existentes:** Se um registro na fonte de dados corresponder a um registro na tabela de destino com base em uma coluna de junção, os valores da fonte serão usados para atualizar o registro correspondente na tabela de destino.\n",
    "    * **Inserir novos registros:** Se um registro na fonte de dados não tiver correspondência na tabela de destino (com base na coluna de junção), ele será inserido como um novo registro na tabela de destino.\n",
    "\n",
    "**O Comando `MERGE`**\n",
    "\n",
    "* **Sintaxe:** O comando `MERGE` no Delta Lake segue uma estrutura específica para realizar operações UPSERT:\n",
    "\n",
    "```sql\n",
    "MERGE INTO <tabela_destino> AS destino\n",
    "USING <tabela_fonte> AS fonte\n",
    "ON <condição_junção>\n",
    "WHEN MATCHED THEN\n",
    "  <ações_atualização>\n",
    "WHEN NOT MATCHED THEN\n",
    "  <ações_inserção>;\n",
    "```\n",
    "\n",
    "* **Elementos-chave:**\n",
    "\n",
    "    * **`MERGE INTO <tabela_destino> AS destino`:** Especifica a tabela Delta de destino onde as operações de atualização ou inserção serão realizadas.\n",
    "\n",
    "    * **`USING <tabela_fonte> AS fonte`:** Indica a tabela ou fonte de dados que contém os dados a serem mesclados na tabela de destino.\n",
    "\n",
    "    * **`ON <condição_junção>`:** Define a condição de junção usada para combinar registros da fonte e da tabela de destino, normalmente com base em uma coluna comum.\n",
    "\n",
    "    * **`WHEN MATCHED THEN <ações_atualização>`:** Especifica as ações a serem executadas quando um registro da fonte corresponder a um registro da tabela de destino com base na condição de junção. Normalmente, isso envolve a atualização de colunas na tabela de destino com valores da fonte.\n",
    "\n",
    "    * **`WHEN NOT MATCHED THEN <ações_inserção>`:** Determina as ações a serem realizadas quando um registro da fonte não tiver correspondência na tabela de destino. Geralmente, isso envolve a inserção de um novo registro na tabela de destino com valores da fonte.\n",
    "\n",
    "**Exemplo Prático:**\n",
    "\n",
    "As fontes fornecem um exemplo prático de como o comando `MERGE` é usado para implementar a lógica UPSERT no Delta Lake. O cenário envolve duas tabelas:\n",
    "\n",
    "* **`source_table`:** Contém os dados que serão mesclados na tabela de destino.\n",
    "* **`destination_table`:** A tabela Delta de destino que será atualizada ou receberá novas inserções.\n",
    "\n",
    "O exemplo demonstra como atualizar registros existentes na `destination_table` com base em valores correspondentes na `source_table` e como inserir novos registros da `source_table` na `destination_table` quando não houver correspondência.\n",
    "\n",
    "**Benefícios do UPSERT com `MERGE` no Delta Lake:**\n",
    "\n",
    "* **Eficiência:** Realiza atualizações e inserções em uma única operação, otimizando o processo.\n",
    "* **Atomicidade:** Garante que a operação seja atômica, ou seja, todas as atualizações e inserções são aplicadas como uma única unidade de trabalho, evitando inconsistências.\n",
    "* **Manutenção de Histórico:** Como todas as operações no Delta Lake são registradas no log de transações, as operações UPSERT com `MERGE` também são versionadas, permitindo auditoria e reversão.\n",
    "\n",
    "**Cenários de Uso:**\n",
    "\n",
    "O UPSERT com `MERGE` é particularmente útil em cenários como:\n",
    "\n",
    "* **Cargas incrementais:** Manter uma tabela Delta atualizada com dados provenientes de um sistema transacional, atualizando registros existentes e inserindo novos.\n",
    "* **Sincronização de dados:** Manter duas ou mais tabelas Delta sincronizadas, garantindo que as alterações em uma tabela sejam refletidas nas outras.\n",
    "\n",
    "Em resumo, o comando `MERGE` no Delta Lake fornece uma maneira robusta e eficiente de implementar a lógica UPSERT, simplificando o processo de atualização de dados e garantindo a integridade dos dados. Compreender seus elementos-chave, benefícios e casos de uso é essencial para utilizar totalmente os recursos do Delta Lake para o gerenciamento de dados.\n"
   ]
  },
  {
   "cell_type": "markdown",
   "metadata": {
    "application/vnd.databricks.v1+cell": {
     "cellMetadata": {},
     "inputWidgets": {},
     "nuid": "d3aec090-c243-4b83-b837-5b0838f1d0cf",
     "showTitle": false,
     "title": ""
    }
   },
   "source": [
    "\n",
    "## Creating a source Table"
   ]
  },
  {
   "cell_type": "markdown",
   "metadata": {
    "application/vnd.databricks.v1+cell": {
     "cellMetadata": {},
     "inputWidgets": {},
     "nuid": "9533c727-682e-4fe2-b9fc-5238068958c9",
     "showTitle": false,
     "title": ""
    }
   },
   "source": [
    "Como não foi especificado o catálogo, essa tabela será criada em \"default\""
   ]
  },
  {
   "cell_type": "code",
   "execution_count": 0,
   "metadata": {
    "application/vnd.databricks.v1+cell": {
     "cellMetadata": {
      "byteLimit": 2048000,
      "rowLimit": 10000
     },
     "inputWidgets": {},
     "nuid": "d3edf02f-a24e-4cce-b3ac-e5f3a0c4b218",
     "showTitle": false,
     "title": ""
    }
   },
   "outputs": [
    {
     "output_type": "display_data",
     "data": {
      "text/html": [
       "<style scoped>\n",
       "  .table-result-container {\n",
       "    max-height: 300px;\n",
       "    overflow: auto;\n",
       "  }\n",
       "  table, th, td {\n",
       "    border: 1px solid black;\n",
       "    border-collapse: collapse;\n",
       "  }\n",
       "  th, td {\n",
       "    padding: 5px;\n",
       "  }\n",
       "  th {\n",
       "    text-align: left;\n",
       "  }\n",
       "</style><div class='table-result-container'><table class='table-result'><thead style='background-color: white'><tr></tr></thead><tbody></tbody></table></div>"
      ]
     },
     "metadata": {
      "application/vnd.databricks.v1+output": {
       "addedWidgets": {},
       "aggData": [],
       "aggError": "",
       "aggOverflow": false,
       "aggSchema": [],
       "aggSeriesLimitReached": false,
       "aggType": "",
       "arguments": {},
       "columnCustomDisplayInfos": {},
       "data": [],
       "datasetInfos": [],
       "dbfsResultPath": null,
       "isJsonSchema": true,
       "metadata": {
        "isDbfsCommandResult": false
       },
       "overflow": false,
       "plotOptions": {
        "customPlotOptions": {},
        "displayType": "table",
        "pivotAggregation": null,
        "pivotColumns": null,
        "xColumns": null,
        "yColumns": null
       },
       "removedWidgets": [],
       "schema": [],
       "type": "table"
      }
     },
     "output_type": "display_data"
    }
   ],
   "source": [
    "CREATE TABLE Source_Table\n",
    "(\n",
    "    Education_Level VARCHAR(50),\n",
    "    Line_Number INT,\n",
    "    Employed INT,\n",
    "    Unemployed INT,\n",
    "    Industry VARCHAR(50),\n",
    "    Gender VARCHAR(10),\n",
    "    Date_Inserted DATE,\n",
    "    dense_rank INT\n",
    ")"
   ]
  },
  {
   "cell_type": "code",
   "execution_count": 0,
   "metadata": {
    "application/vnd.databricks.v1+cell": {
     "cellMetadata": {
      "byteLimit": 2048000,
      "rowLimit": 10000
     },
     "inputWidgets": {},
     "nuid": "4bcc873f-19a2-487a-b5e2-9575ab476c43",
     "showTitle": false,
     "title": ""
    }
   },
   "outputs": [
    {
     "output_type": "display_data",
     "data": {
      "text/html": [
       "<style scoped>\n",
       "  .table-result-container {\n",
       "    max-height: 300px;\n",
       "    overflow: auto;\n",
       "  }\n",
       "  table, th, td {\n",
       "    border: 1px solid black;\n",
       "    border-collapse: collapse;\n",
       "  }\n",
       "  th, td {\n",
       "    padding: 5px;\n",
       "  }\n",
       "  th {\n",
       "    text-align: left;\n",
       "  }\n",
       "</style><div class='table-result-container'><table class='table-result'><thead style='background-color: white'><tr><th>num_affected_rows</th><th>num_inserted_rows</th></tr></thead><tbody><tr><td>3</td><td>3</td></tr></tbody></table></div>"
      ]
     },
     "metadata": {
      "application/vnd.databricks.v1+output": {
       "addedWidgets": {},
       "aggData": [],
       "aggError": "",
       "aggOverflow": false,
       "aggSchema": [],
       "aggSeriesLimitReached": false,
       "aggType": "",
       "arguments": {},
       "columnCustomDisplayInfos": {},
       "data": [
        [
         3,
         3
        ]
       ],
       "datasetInfos": [],
       "dbfsResultPath": null,
       "isJsonSchema": true,
       "metadata": {
        "isDbfsCommandResult": false
       },
       "overflow": false,
       "plotOptions": {
        "customPlotOptions": {},
        "displayType": "table",
        "pivotAggregation": null,
        "pivotColumns": null,
        "xColumns": null,
        "yColumns": null
       },
       "removedWidgets": [],
       "schema": [
        {
         "metadata": "{}",
         "name": "num_affected_rows",
         "type": "\"long\""
        },
        {
         "metadata": "{}",
         "name": "num_inserted_rows",
         "type": "\"long\""
        }
       ],
       "type": "table"
      }
     },
     "output_type": "display_data"
    }
   ],
   "source": [
    "INSERT INTO Source_Table\n",
    "VALUES\n",
    "    ('Bachelor', 100, 4500, 500, 'Networking', 'Male', '2023-07-12', 1),\n",
    "    ('Master', 101, 6500, 1500, 'Networking', 'Female', '2023-07-12', 2),\n",
    "    ('Master', 103, 5500, 500, 'Networking', 'Female', '2023-07-12', 3);"
   ]
  },
  {
   "cell_type": "code",
   "execution_count": 0,
   "metadata": {
    "application/vnd.databricks.v1+cell": {
     "cellMetadata": {
      "byteLimit": 2048000,
      "rowLimit": 10000
     },
     "inputWidgets": {},
     "nuid": "0afd08db-0806-4fc7-922b-7d1748f6fb40",
     "showTitle": false,
     "title": ""
    }
   },
   "outputs": [
    {
     "output_type": "display_data",
     "data": {
      "text/html": [
       "<style scoped>\n",
       "  .table-result-container {\n",
       "    max-height: 300px;\n",
       "    overflow: auto;\n",
       "  }\n",
       "  table, th, td {\n",
       "    border: 1px solid black;\n",
       "    border-collapse: collapse;\n",
       "  }\n",
       "  th, td {\n",
       "    padding: 5px;\n",
       "  }\n",
       "  th {\n",
       "    text-align: left;\n",
       "  }\n",
       "</style><div class='table-result-container'><table class='table-result'><thead style='background-color: white'><tr><th>Education_Level</th><th>Line_Number</th><th>Employed</th><th>Unemployed</th><th>Industry</th><th>Gender</th><th>Date_Inserted</th><th>dense_rank</th></tr></thead><tbody><tr><td>Bachelor</td><td>100</td><td>4500</td><td>500</td><td>Networking</td><td>Male</td><td>2023-07-12</td><td>1</td></tr><tr><td>Master</td><td>101</td><td>6500</td><td>1500</td><td>Networking</td><td>Female</td><td>2023-07-12</td><td>2</td></tr><tr><td>Master</td><td>103</td><td>5500</td><td>500</td><td>Networking</td><td>Female</td><td>2023-07-12</td><td>3</td></tr></tbody></table></div>"
      ]
     },
     "metadata": {
      "application/vnd.databricks.v1+output": {
       "addedWidgets": {},
       "aggData": [],
       "aggError": "",
       "aggOverflow": false,
       "aggSchema": [],
       "aggSeriesLimitReached": false,
       "aggType": "",
       "arguments": {},
       "columnCustomDisplayInfos": {},
       "data": [
        [
         "Bachelor",
         100,
         4500,
         500,
         "Networking",
         "Male",
         "2023-07-12",
         1
        ],
        [
         "Master",
         101,
         6500,
         1500,
         "Networking",
         "Female",
         "2023-07-12",
         2
        ],
        [
         "Master",
         103,
         5500,
         500,
         "Networking",
         "Female",
         "2023-07-12",
         3
        ]
       ],
       "datasetInfos": [],
       "dbfsResultPath": null,
       "isJsonSchema": true,
       "metadata": {
        "isDbfsCommandResult": false
       },
       "overflow": false,
       "plotOptions": {
        "customPlotOptions": {},
        "displayType": "table",
        "pivotAggregation": null,
        "pivotColumns": null,
        "xColumns": null,
        "yColumns": null
       },
       "removedWidgets": [],
       "schema": [
        {
         "metadata": "{\"__CHAR_VARCHAR_TYPE_STRING\":\"varchar(50)\"}",
         "name": "Education_Level",
         "type": "\"string\""
        },
        {
         "metadata": "{}",
         "name": "Line_Number",
         "type": "\"integer\""
        },
        {
         "metadata": "{}",
         "name": "Employed",
         "type": "\"integer\""
        },
        {
         "metadata": "{}",
         "name": "Unemployed",
         "type": "\"integer\""
        },
        {
         "metadata": "{\"__CHAR_VARCHAR_TYPE_STRING\":\"varchar(50)\"}",
         "name": "Industry",
         "type": "\"string\""
        },
        {
         "metadata": "{\"__CHAR_VARCHAR_TYPE_STRING\":\"varchar(10)\"}",
         "name": "Gender",
         "type": "\"string\""
        },
        {
         "metadata": "{}",
         "name": "Date_Inserted",
         "type": "\"date\""
        },
        {
         "metadata": "{}",
         "name": "dense_rank",
         "type": "\"integer\""
        }
       ],
       "type": "table"
      }
     },
     "output_type": "display_data"
    }
   ],
   "source": [
    "SELECT * FROM source_table\n"
   ]
  },
  {
   "cell_type": "markdown",
   "metadata": {
    "application/vnd.databricks.v1+cell": {
     "cellMetadata": {},
     "inputWidgets": {},
     "nuid": "abeb2143-033f-48a5-8222-cdff8002e501",
     "showTitle": false,
     "title": ""
    }
   },
   "source": [
    "\n",
    "## Creating destination table"
   ]
  },
  {
   "cell_type": "code",
   "execution_count": 0,
   "metadata": {
    "application/vnd.databricks.v1+cell": {
     "cellMetadata": {
      "byteLimit": 2048000,
      "rowLimit": 10000
     },
     "inputWidgets": {},
     "nuid": "39a389a9-8430-4de0-827e-b3af23ab5bc6",
     "showTitle": false,
     "title": ""
    }
   },
   "outputs": [
    {
     "output_type": "display_data",
     "data": {
      "text/html": [
       "<style scoped>\n",
       "  .table-result-container {\n",
       "    max-height: 300px;\n",
       "    overflow: auto;\n",
       "  }\n",
       "  table, th, td {\n",
       "    border: 1px solid black;\n",
       "    border-collapse: collapse;\n",
       "  }\n",
       "  th, td {\n",
       "    padding: 5px;\n",
       "  }\n",
       "  th {\n",
       "    text-align: left;\n",
       "  }\n",
       "</style><div class='table-result-container'><table class='table-result'><thead style='background-color: white'><tr></tr></thead><tbody></tbody></table></div>"
      ]
     },
     "metadata": {
      "application/vnd.databricks.v1+output": {
       "addedWidgets": {},
       "aggData": [],
       "aggError": "",
       "aggOverflow": false,
       "aggSchema": [],
       "aggSeriesLimitReached": false,
       "aggType": "",
       "arguments": {},
       "columnCustomDisplayInfos": {},
       "data": [],
       "datasetInfos": [],
       "dbfsResultPath": null,
       "isJsonSchema": true,
       "metadata": {
        "isDbfsCommandResult": false
       },
       "overflow": false,
       "plotOptions": {
        "customPlotOptions": {},
        "displayType": "table",
        "pivotAggregation": null,
        "pivotColumns": null,
        "xColumns": null,
        "yColumns": null
       },
       "removedWidgets": [],
       "schema": [],
       "type": "table"
      }
     },
     "output_type": "display_data"
    }
   ],
   "source": [
    "CREATE TABLE `delta`.Dest_Table\n",
    "(\n",
    "    Education_Level VARCHAR(50),\n",
    "    Line_Number INT,\n",
    "    Employed INT,\n",
    "    Unemployed INT,\n",
    "    Industry VARCHAR(50),\n",
    "    Gender VARCHAR(10),\n",
    "    Date_Inserted DATE,\n",
    "    dense_rank INT\n",
    ")"
   ]
  },
  {
   "cell_type": "code",
   "execution_count": 0,
   "metadata": {
    "application/vnd.databricks.v1+cell": {
     "cellMetadata": {
      "byteLimit": 2048000,
      "rowLimit": 10000
     },
     "inputWidgets": {},
     "nuid": "ac25655f-7166-4ed8-b450-27dc7c1860ac",
     "showTitle": false,
     "title": ""
    }
   },
   "outputs": [
    {
     "output_type": "display_data",
     "data": {
      "text/html": [
       "<style scoped>\n",
       "  .table-result-container {\n",
       "    max-height: 300px;\n",
       "    overflow: auto;\n",
       "  }\n",
       "  table, th, td {\n",
       "    border: 1px solid black;\n",
       "    border-collapse: collapse;\n",
       "  }\n",
       "  th, td {\n",
       "    padding: 5px;\n",
       "  }\n",
       "  th {\n",
       "    text-align: left;\n",
       "  }\n",
       "</style><div class='table-result-container'><table class='table-result'><thead style='background-color: white'><tr><th>num_affected_rows</th><th>num_inserted_rows</th></tr></thead><tbody><tr><td>2</td><td>2</td></tr></tbody></table></div>"
      ]
     },
     "metadata": {
      "application/vnd.databricks.v1+output": {
       "addedWidgets": {},
       "aggData": [],
       "aggError": "",
       "aggOverflow": false,
       "aggSchema": [],
       "aggSeriesLimitReached": false,
       "aggType": "",
       "arguments": {},
       "columnCustomDisplayInfos": {},
       "data": [
        [
         2,
         2
        ]
       ],
       "datasetInfos": [],
       "dbfsResultPath": null,
       "isJsonSchema": true,
       "metadata": {
        "isDbfsCommandResult": false
       },
       "overflow": false,
       "plotOptions": {
        "customPlotOptions": {},
        "displayType": "table",
        "pivotAggregation": null,
        "pivotColumns": null,
        "xColumns": null,
        "yColumns": null
       },
       "removedWidgets": [],
       "schema": [
        {
         "metadata": "{}",
         "name": "num_affected_rows",
         "type": "\"long\""
        },
        {
         "metadata": "{}",
         "name": "num_inserted_rows",
         "type": "\"long\""
        }
       ],
       "type": "table"
      }
     },
     "output_type": "display_data"
    }
   ],
   "source": [
    "INSERT INTO delta.Dest_Table\n",
    "VALUES\n",
    "    ('Bachelor', 100, 1500, 1500, 'Networking', 'Male', '2023-07-12', 1),\n",
    "    ('Master', 101, 2500, 2000, 'Networking', 'Female', '2023-07-12', 2);"
   ]
  },
  {
   "cell_type": "markdown",
   "metadata": {
    "application/vnd.databricks.v1+cell": {
     "cellMetadata": {},
     "inputWidgets": {},
     "nuid": "d6022525-4f83-4021-90aa-85c4684ef994",
     "showTitle": false,
     "title": ""
    }
   },
   "source": [
    "\n",
    "## Applying UPSERT using MERGE"
   ]
  },
  {
   "cell_type": "code",
   "execution_count": 0,
   "metadata": {
    "application/vnd.databricks.v1+cell": {
     "cellMetadata": {
      "byteLimit": 2048000,
      "rowLimit": 10000
     },
     "inputWidgets": {},
     "nuid": "ff42b4be-6879-4799-aab4-b7a2acc2c3f0",
     "showTitle": false,
     "title": ""
    }
   },
   "outputs": [
    {
     "output_type": "display_data",
     "data": {
      "text/html": [
       "<style scoped>\n",
       "  .table-result-container {\n",
       "    max-height: 300px;\n",
       "    overflow: auto;\n",
       "  }\n",
       "  table, th, td {\n",
       "    border: 1px solid black;\n",
       "    border-collapse: collapse;\n",
       "  }\n",
       "  th, td {\n",
       "    padding: 5px;\n",
       "  }\n",
       "  th {\n",
       "    text-align: left;\n",
       "  }\n",
       "</style><div class='table-result-container'><table class='table-result'><thead style='background-color: white'><tr><th>num_affected_rows</th><th>num_updated_rows</th><th>num_deleted_rows</th><th>num_inserted_rows</th></tr></thead><tbody><tr><td>3</td><td>2</td><td>0</td><td>1</td></tr></tbody></table></div>"
      ]
     },
     "metadata": {
      "application/vnd.databricks.v1+output": {
       "addedWidgets": {},
       "aggData": [],
       "aggError": "",
       "aggOverflow": false,
       "aggSchema": [],
       "aggSeriesLimitReached": false,
       "aggType": "",
       "arguments": {},
       "columnCustomDisplayInfos": {},
       "data": [
        [
         3,
         2,
         0,
         1
        ]
       ],
       "datasetInfos": [],
       "dbfsResultPath": null,
       "isJsonSchema": true,
       "metadata": {
        "isDbfsCommandResult": false
       },
       "overflow": false,
       "plotOptions": {
        "customPlotOptions": {},
        "displayType": "table",
        "pivotAggregation": null,
        "pivotColumns": null,
        "xColumns": null,
        "yColumns": null
       },
       "removedWidgets": [],
       "schema": [
        {
         "metadata": "{}",
         "name": "num_affected_rows",
         "type": "\"long\""
        },
        {
         "metadata": "{}",
         "name": "num_updated_rows",
         "type": "\"long\""
        },
        {
         "metadata": "{}",
         "name": "num_deleted_rows",
         "type": "\"long\""
        },
        {
         "metadata": "{}",
         "name": "num_inserted_rows",
         "type": "\"long\""
        }
       ],
       "type": "table"
      }
     },
     "output_type": "display_data"
    }
   ],
   "source": [
    "MERGE INTO `delta`.Dest_Table AS Dest\n",
    "USING Source_Table as Source\n",
    "    on Dest.Line_Number = Source.Line_Number\n",
    "  WHEN MATCHED\n",
    "    THEN UPDATE SET\n",
    "  Dest.Education_Level = Source.Education_Level,\n",
    "  Dest.Line_Number = Source.Line_Number,\n",
    "  Dest.Employed = Source.Employed,\n",
    "  Dest.Unemployed = Source.Unemployed,\n",
    "  Dest.Industry = Source.Industry,\n",
    "  Dest.Gender = Source.Gender,\n",
    "  Dest.Date_Inserted = Source.Date_Inserted,\n",
    "  Dest.dense_rank = Source.dense_rank\n",
    "\n",
    "  WHEN NOT MATCHED\n",
    "  THEN INSERT\n",
    "    (Education_Level, Line_Number, Employed, Unemployed, Industry, Gender, Date_Inserted, dense_rank)\n",
    "    VALUES(Source.Education_Level, Source.Line_Number, Source.Employed, Source.Unemployed, Source.Industry, Source.Gender, Source.Date_Inserted, Source.dense_rank)"
   ]
  },
  {
   "cell_type": "code",
   "execution_count": 0,
   "metadata": {
    "application/vnd.databricks.v1+cell": {
     "cellMetadata": {
      "byteLimit": 2048000,
      "rowLimit": 10000
     },
     "inputWidgets": {},
     "nuid": "1acd4cf4-4131-4b57-872b-94a14bfee093",
     "showTitle": false,
     "title": ""
    }
   },
   "outputs": [
    {
     "output_type": "display_data",
     "data": {
      "text/html": [
       "<style scoped>\n",
       "  .table-result-container {\n",
       "    max-height: 300px;\n",
       "    overflow: auto;\n",
       "  }\n",
       "  table, th, td {\n",
       "    border: 1px solid black;\n",
       "    border-collapse: collapse;\n",
       "  }\n",
       "  th, td {\n",
       "    padding: 5px;\n",
       "  }\n",
       "  th {\n",
       "    text-align: left;\n",
       "  }\n",
       "</style><div class='table-result-container'><table class='table-result'><thead style='background-color: white'><tr><th>Education_Level</th><th>Line_Number</th><th>Employed</th><th>Unemployed</th><th>Industry</th><th>Gender</th><th>Date_Inserted</th><th>dense_rank</th></tr></thead><tbody><tr><td>Bachelor</td><td>100</td><td>4500</td><td>500</td><td>Networking</td><td>Male</td><td>2023-07-12</td><td>1</td></tr><tr><td>Master</td><td>101</td><td>6500</td><td>1500</td><td>Networking</td><td>Female</td><td>2023-07-12</td><td>2</td></tr><tr><td>Master</td><td>103</td><td>5500</td><td>500</td><td>Networking</td><td>Female</td><td>2023-07-12</td><td>3</td></tr></tbody></table></div>"
      ]
     },
     "metadata": {
      "application/vnd.databricks.v1+output": {
       "addedWidgets": {},
       "aggData": [],
       "aggError": "",
       "aggOverflow": false,
       "aggSchema": [],
       "aggSeriesLimitReached": false,
       "aggType": "",
       "arguments": {},
       "columnCustomDisplayInfos": {},
       "data": [
        [
         "Bachelor",
         100,
         4500,
         500,
         "Networking",
         "Male",
         "2023-07-12",
         1
        ],
        [
         "Master",
         101,
         6500,
         1500,
         "Networking",
         "Female",
         "2023-07-12",
         2
        ],
        [
         "Master",
         103,
         5500,
         500,
         "Networking",
         "Female",
         "2023-07-12",
         3
        ]
       ],
       "datasetInfos": [],
       "dbfsResultPath": null,
       "isJsonSchema": true,
       "metadata": {
        "isDbfsCommandResult": false
       },
       "overflow": false,
       "plotOptions": {
        "customPlotOptions": {},
        "displayType": "table",
        "pivotAggregation": null,
        "pivotColumns": null,
        "xColumns": null,
        "yColumns": null
       },
       "removedWidgets": [],
       "schema": [
        {
         "metadata": "{\"__CHAR_VARCHAR_TYPE_STRING\":\"varchar(50)\"}",
         "name": "Education_Level",
         "type": "\"string\""
        },
        {
         "metadata": "{}",
         "name": "Line_Number",
         "type": "\"integer\""
        },
        {
         "metadata": "{}",
         "name": "Employed",
         "type": "\"integer\""
        },
        {
         "metadata": "{}",
         "name": "Unemployed",
         "type": "\"integer\""
        },
        {
         "metadata": "{\"__CHAR_VARCHAR_TYPE_STRING\":\"varchar(50)\"}",
         "name": "Industry",
         "type": "\"string\""
        },
        {
         "metadata": "{\"__CHAR_VARCHAR_TYPE_STRING\":\"varchar(10)\"}",
         "name": "Gender",
         "type": "\"string\""
        },
        {
         "metadata": "{}",
         "name": "Date_Inserted",
         "type": "\"date\""
        },
        {
         "metadata": "{}",
         "name": "dense_rank",
         "type": "\"integer\""
        }
       ],
       "type": "table"
      }
     },
     "output_type": "display_data"
    }
   ],
   "source": [
    "SELECT * FROM `delta`.Dest_Table "
   ]
  },
  {
   "cell_type": "code",
   "execution_count": 0,
   "metadata": {
    "application/vnd.databricks.v1+cell": {
     "cellMetadata": {},
     "inputWidgets": {},
     "nuid": "2a3ff688-ef6a-441c-9c4d-8d168b094ff7",
     "showTitle": false,
     "title": ""
    }
   },
   "outputs": [],
   "source": []
  }
 ],
 "metadata": {
  "application/vnd.databricks.v1+notebook": {
   "dashboards": [],
   "environmentMetadata": null,
   "language": "sql",
   "notebookMetadata": {
    "pythonIndentUnit": 4
   },
   "notebookName": "10.UPSERT using MERGE",
   "widgets": {}
  }
 },
 "nbformat": 4,
 "nbformat_minor": 0
}
