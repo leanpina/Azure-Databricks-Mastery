{
 "cells": [
  {
   "cell_type": "code",
   "execution_count": 0,
   "metadata": {
    "application/vnd.databricks.v1+cell": {
     "cellMetadata": {
      "byteLimit": 2048000,
      "rowLimit": 10000
     },
     "inputWidgets": {},
     "nuid": "6393e167-5be2-48d5-918b-8987b6297263",
     "showTitle": false,
     "title": ""
    }
   },
   "outputs": [
    {
     "output_type": "display_data",
     "data": {
      "text/html": [
       "<style scoped>\n",
       "  .table-result-container {\n",
       "    max-height: 300px;\n",
       "    overflow: auto;\n",
       "  }\n",
       "  table, th, td {\n",
       "    border: 1px solid black;\n",
       "    border-collapse: collapse;\n",
       "  }\n",
       "  th, td {\n",
       "    padding: 5px;\n",
       "  }\n",
       "  th {\n",
       "    text-align: left;\n",
       "  }\n",
       "</style><div class='table-result-container'><table class='table-result'><thead style='background-color: white'><tr></tr></thead><tbody></tbody></table></div>"
      ]
     },
     "metadata": {
      "application/vnd.databricks.v1+output": {
       "addedWidgets": {},
       "aggData": [],
       "aggError": "",
       "aggOverflow": false,
       "aggSchema": [],
       "aggSeriesLimitReached": false,
       "aggType": "",
       "arguments": {},
       "columnCustomDisplayInfos": {},
       "data": [],
       "datasetInfos": [],
       "dbfsResultPath": null,
       "isJsonSchema": true,
       "metadata": {
        "isDbfsCommandResult": false
       },
       "overflow": false,
       "plotOptions": {
        "customPlotOptions": {},
        "displayType": "table",
        "pivotAggregation": null,
        "pivotColumns": null,
        "xColumns": null,
        "yColumns": null
       },
       "removedWidgets": [],
       "schema": [],
       "type": "table"
      }
     },
     "output_type": "display_data"
    }
   ],
   "source": [
    "CREATE SCHEMA IF NOT EXISTS delta;"
   ]
  },
  {
   "cell_type": "markdown",
   "metadata": {
    "application/vnd.databricks.v1+cell": {
     "cellMetadata": {},
     "inputWidgets": {},
     "nuid": "8aa8a8f0-ae05-4660-89ad-e4f6ba6e719e",
     "showTitle": false,
     "title": ""
    }
   },
   "source": [
    "Uso de apóstrofe no nome do schema.\\\n",
    "Se não especifica o schema ele é colocado como \"default\"."
   ]
  },
  {
   "cell_type": "code",
   "execution_count": 0,
   "metadata": {
    "application/vnd.databricks.v1+cell": {
     "cellMetadata": {
      "byteLimit": 2048000,
      "rowLimit": 10000
     },
     "inputWidgets": {},
     "nuid": "be8ef9a8-7a7f-4dcb-b4e4-0c82ef3f318e",
     "showTitle": false,
     "title": ""
    }
   },
   "outputs": [
    {
     "output_type": "display_data",
     "data": {
      "text/html": [
       "<style scoped>\n",
       "  .table-result-container {\n",
       "    max-height: 300px;\n",
       "    overflow: auto;\n",
       "  }\n",
       "  table, th, td {\n",
       "    border: 1px solid black;\n",
       "    border-collapse: collapse;\n",
       "  }\n",
       "  th, td {\n",
       "    padding: 5px;\n",
       "  }\n",
       "  th {\n",
       "    text-align: left;\n",
       "  }\n",
       "</style><div class='table-result-container'><table class='table-result'><thead style='background-color: white'><tr></tr></thead><tbody></tbody></table></div>"
      ]
     },
     "metadata": {
      "application/vnd.databricks.v1+output": {
       "addedWidgets": {},
       "aggData": [],
       "aggError": "",
       "aggOverflow": false,
       "aggSchema": [],
       "aggSeriesLimitReached": false,
       "aggType": "",
       "arguments": {},
       "columnCustomDisplayInfos": {},
       "data": [],
       "datasetInfos": [],
       "dbfsResultPath": null,
       "isJsonSchema": true,
       "metadata": {
        "isDbfsCommandResult": false
       },
       "overflow": false,
       "plotOptions": {
        "customPlotOptions": {},
        "displayType": "table",
        "pivotAggregation": null,
        "pivotColumns": null,
        "xColumns": null,
        "yColumns": null
       },
       "removedWidgets": [],
       "schema": [],
       "type": "table"
      }
     },
     "output_type": "display_data"
    }
   ],
   "source": [
    "CREATE TABLE `delta`.deltaFile\n",
    "(\n",
    "    Education_Level VARCHAR(50),\n",
    "    Line_Number INT,\n",
    "    Employed INT,\n",
    "    Unemployed INT,\n",
    "    Industry VARCHAR(50),\n",
    "    Gender VARCHAR(10),\n",
    "    Date_Inserted DATE,\n",
    "    dense_rank INT\n",
    ")"
   ]
  },
  {
   "cell_type": "markdown",
   "metadata": {
    "application/vnd.databricks.v1+cell": {
     "cellMetadata": {},
     "inputWidgets": {},
     "nuid": "9015ec9e-5de0-47ef-9a17-0f625449c4c1",
     "showTitle": false,
     "title": ""
    }
   },
   "source": [
    "A presença do diretório \"`_delta_log`\" indica que trata-se de um delta lake ou um delta table.\\\n",
    "Como não adicionamos nenhum dado ainda não temos parquet files "
   ]
  },
  {
   "cell_type": "code",
   "execution_count": 0,
   "metadata": {
    "application/vnd.databricks.v1+cell": {
     "cellMetadata": {
      "byteLimit": 2048000,
      "rowLimit": 10000
     },
     "inputWidgets": {},
     "nuid": "06203f82-1f94-4d8c-9228-854229fe58db",
     "showTitle": false,
     "title": ""
    }
   },
   "outputs": [
    {
     "output_type": "execute_result",
     "data": {
      "text/plain": [
       "[FileInfo(path='dbfs:/user/hive/warehouse/delta.db/deltafile/_delta_log/', name='_delta_log/', size=0, modificationTime=1727744319000)]"
      ]
     },
     "execution_count": 2,
     "metadata": {},
     "output_type": "execute_result"
    }
   ],
   "source": [
    "%python\n",
    "dbutils.fs.ls('dbfs:/user/hive/warehouse/delta.db/deltafile')"
   ]
  },
  {
   "cell_type": "code",
   "execution_count": 0,
   "metadata": {
    "application/vnd.databricks.v1+cell": {
     "cellMetadata": {
      "byteLimit": 2048000,
      "rowLimit": 10000
     },
     "inputWidgets": {},
     "nuid": "c00190d7-e71b-450d-845f-c34f58d08f71",
     "showTitle": false,
     "title": ""
    }
   },
   "outputs": [
    {
     "output_type": "execute_result",
     "data": {
      "text/plain": [
       "[FileInfo(path='dbfs:/user/hive/warehouse/delta.db/deltafile/_delta_log/00000000000000000000.crc', name='00000000000000000000.crc', size=2847, modificationTime=1727744323000),\n",
       " FileInfo(path='dbfs:/user/hive/warehouse/delta.db/deltafile/_delta_log/00000000000000000000.json', name='00000000000000000000.json', size=1778, modificationTime=1727744320000),\n",
       " FileInfo(path='dbfs:/user/hive/warehouse/delta.db/deltafile/_delta_log/__tmp_path_dir/', name='__tmp_path_dir/', size=0, modificationTime=1727744319000),\n",
       " FileInfo(path='dbfs:/user/hive/warehouse/delta.db/deltafile/_delta_log/_commits/', name='_commits/', size=0, modificationTime=1727744319000)]"
      ]
     },
     "execution_count": 3,
     "metadata": {},
     "output_type": "execute_result"
    }
   ],
   "source": [
    "%python\n",
    "dbutils.fs.ls('dbfs:/user/hive/warehouse/delta.db/deltafile/_delta_log')"
   ]
  },
  {
   "cell_type": "markdown",
   "metadata": {
    "application/vnd.databricks.v1+cell": {
     "cellMetadata": {},
     "inputWidgets": {},
     "nuid": "7bb603e2-4654-4ecd-97dc-cb827768a3f0",
     "showTitle": false,
     "title": ""
    }
   },
   "source": [
    "Examinando o arquivo json dentro de _delta_log, temos informações sobre a operação \"CREATE TABLE\" e sobre o schema criado."
   ]
  },
  {
   "cell_type": "code",
   "execution_count": 0,
   "metadata": {
    "application/vnd.databricks.v1+cell": {
     "cellMetadata": {
      "byteLimit": 2048000,
      "rowLimit": 10000
     },
     "inputWidgets": {},
     "nuid": "57ff3350-18c5-41bb-946f-c78a1a990df6",
     "showTitle": false,
     "title": ""
    }
   },
   "outputs": [
    {
     "output_type": "display_data",
     "data": {
      "text/html": [
       "<style scoped>\n",
       "  .table-result-container {\n",
       "    max-height: 300px;\n",
       "    overflow: auto;\n",
       "  }\n",
       "  table, th, td {\n",
       "    border: 1px solid black;\n",
       "    border-collapse: collapse;\n",
       "  }\n",
       "  th, td {\n",
       "    padding: 5px;\n",
       "  }\n",
       "  th {\n",
       "    text-align: left;\n",
       "  }\n",
       "</style><div class='table-result-container'><table class='table-result'><thead style='background-color: white'><tr><th>value</th></tr></thead><tbody><tr><td>{\"commitInfo\":{\"timestamp\":1727744319746,\"userId\":\"2239208310904017\",\"userName\":\"lepina73@hotmail.com\",\"operation\":\"CREATE TABLE\",\"operationParameters\":{\"partitionBy\":\"[]\",\"clusterBy\":\"[]\",\"description\":null,\"isManaged\":\"true\",\"properties\":\"{\\\"delta.enableDeletionVectors\\\":\\\"true\\\"}\",\"statsOnLoad\":false},\"notebook\":{\"notebookId\":\"4156582661638974\"},\"clusterId\":\"1001-004428-4ucqgjdm\",\"isolationLevel\":\"WriteSerializable\",\"isBlindAppend\":true,\"operationMetrics\":{},\"tags\":{\"restoresDeletedRows\":\"false\"},\"engineInfo\":\"Databricks-Runtime/15.4.x-scala2.12\",\"txnId\":\"36e071bc-0cf4-482c-a71c-cd9d6c273a88\"}}</td></tr><tr><td>{\"metaData\":{\"id\":\"9d717c9a-09fb-4ead-ad91-a67f1d7886ee\",\"format\":{\"provider\":\"parquet\",\"options\":{}},\"schemaString\":\"{\\\"type\\\":\\\"struct\\\",\\\"fields\\\":[{\\\"name\\\":\\\"Education_Level\\\",\\\"type\\\":\\\"string\\\",\\\"nullable\\\":true,\\\"metadata\\\":{\\\"__CHAR_VARCHAR_TYPE_STRING\\\":\\\"varchar(50)\\\"}},{\\\"name\\\":\\\"Line_Number\\\",\\\"type\\\":\\\"integer\\\",\\\"nullable\\\":true,\\\"metadata\\\":{}},{\\\"name\\\":\\\"Employed\\\",\\\"type\\\":\\\"integer\\\",\\\"nullable\\\":true,\\\"metadata\\\":{}},{\\\"name\\\":\\\"Unemployed\\\",\\\"type\\\":\\\"integer\\\",\\\"nullable\\\":true,\\\"metadata\\\":{}},{\\\"name\\\":\\\"Industry\\\",\\\"type\\\":\\\"string\\\",\\\"nullable\\\":true,\\\"metadata\\\":{\\\"__CHAR_VARCHAR_TYPE_STRING\\\":\\\"varchar(50)\\\"}},{\\\"name\\\":\\\"Gender\\\",\\\"type\\\":\\\"string\\\",\\\"nullable\\\":true,\\\"metadata\\\":{\\\"__CHAR_VARCHAR_TYPE_STRING\\\":\\\"varchar(10)\\\"}},{\\\"name\\\":\\\"Date_Inserted\\\",\\\"type\\\":\\\"date\\\",\\\"nullable\\\":true,\\\"metadata\\\":{}},{\\\"name\\\":\\\"dense_rank\\\",\\\"type\\\":\\\"integer\\\",\\\"nullable\\\":true,\\\"metadata\\\":{}}]}\",\"partitionColumns\":[],\"configuration\":{\"delta.enableDeletionVectors\":\"true\"},\"createdTime\":1727744319649}}</td></tr><tr><td>{\"protocol\":{\"minReaderVersion\":3,\"minWriterVersion\":7,\"readerFeatures\":[\"deletionVectors\"],\"writerFeatures\":[\"deletionVectors\"]}}</td></tr></tbody></table></div>"
      ]
     },
     "metadata": {
      "application/vnd.databricks.v1+output": {
       "addedWidgets": {},
       "aggData": [],
       "aggError": "",
       "aggOverflow": false,
       "aggSchema": [],
       "aggSeriesLimitReached": false,
       "aggType": "",
       "arguments": {},
       "columnCustomDisplayInfos": {},
       "data": [
        [
         "{\"commitInfo\":{\"timestamp\":1727744319746,\"userId\":\"2239208310904017\",\"userName\":\"lepina73@hotmail.com\",\"operation\":\"CREATE TABLE\",\"operationParameters\":{\"partitionBy\":\"[]\",\"clusterBy\":\"[]\",\"description\":null,\"isManaged\":\"true\",\"properties\":\"{\\\"delta.enableDeletionVectors\\\":\\\"true\\\"}\",\"statsOnLoad\":false},\"notebook\":{\"notebookId\":\"4156582661638974\"},\"clusterId\":\"1001-004428-4ucqgjdm\",\"isolationLevel\":\"WriteSerializable\",\"isBlindAppend\":true,\"operationMetrics\":{},\"tags\":{\"restoresDeletedRows\":\"false\"},\"engineInfo\":\"Databricks-Runtime/15.4.x-scala2.12\",\"txnId\":\"36e071bc-0cf4-482c-a71c-cd9d6c273a88\"}}"
        ],
        [
         "{\"metaData\":{\"id\":\"9d717c9a-09fb-4ead-ad91-a67f1d7886ee\",\"format\":{\"provider\":\"parquet\",\"options\":{}},\"schemaString\":\"{\\\"type\\\":\\\"struct\\\",\\\"fields\\\":[{\\\"name\\\":\\\"Education_Level\\\",\\\"type\\\":\\\"string\\\",\\\"nullable\\\":true,\\\"metadata\\\":{\\\"__CHAR_VARCHAR_TYPE_STRING\\\":\\\"varchar(50)\\\"}},{\\\"name\\\":\\\"Line_Number\\\",\\\"type\\\":\\\"integer\\\",\\\"nullable\\\":true,\\\"metadata\\\":{}},{\\\"name\\\":\\\"Employed\\\",\\\"type\\\":\\\"integer\\\",\\\"nullable\\\":true,\\\"metadata\\\":{}},{\\\"name\\\":\\\"Unemployed\\\",\\\"type\\\":\\\"integer\\\",\\\"nullable\\\":true,\\\"metadata\\\":{}},{\\\"name\\\":\\\"Industry\\\",\\\"type\\\":\\\"string\\\",\\\"nullable\\\":true,\\\"metadata\\\":{\\\"__CHAR_VARCHAR_TYPE_STRING\\\":\\\"varchar(50)\\\"}},{\\\"name\\\":\\\"Gender\\\",\\\"type\\\":\\\"string\\\",\\\"nullable\\\":true,\\\"metadata\\\":{\\\"__CHAR_VARCHAR_TYPE_STRING\\\":\\\"varchar(10)\\\"}},{\\\"name\\\":\\\"Date_Inserted\\\",\\\"type\\\":\\\"date\\\",\\\"nullable\\\":true,\\\"metadata\\\":{}},{\\\"name\\\":\\\"dense_rank\\\",\\\"type\\\":\\\"integer\\\",\\\"nullable\\\":true,\\\"metadata\\\":{}}]}\",\"partitionColumns\":[],\"configuration\":{\"delta.enableDeletionVectors\":\"true\"},\"createdTime\":1727744319649}}"
        ],
        [
         "{\"protocol\":{\"minReaderVersion\":3,\"minWriterVersion\":7,\"readerFeatures\":[\"deletionVectors\"],\"writerFeatures\":[\"deletionVectors\"]}}"
        ]
       ],
       "datasetInfos": [],
       "dbfsResultPath": null,
       "isJsonSchema": true,
       "metadata": {
        "isDbfsCommandResult": false
       },
       "overflow": false,
       "plotOptions": {
        "customPlotOptions": {},
        "displayType": "table",
        "pivotAggregation": null,
        "pivotColumns": null,
        "xColumns": null,
        "yColumns": null
       },
       "removedWidgets": [],
       "schema": [
        {
         "metadata": "{}",
         "name": "value",
         "type": "\"string\""
        }
       ],
       "type": "table"
      }
     },
     "output_type": "display_data"
    }
   ],
   "source": [
    "select *\n",
    "from TEXT.`dbfs:/user/hive/warehouse/delta.db/deltafile/_delta_log/00000000000000000000.json`"
   ]
  },
  {
   "cell_type": "markdown",
   "metadata": {
    "application/vnd.databricks.v1+cell": {
     "cellMetadata": {},
     "inputWidgets": {},
     "nuid": "046acad8-fd37-413a-a526-a7fb6c8cae3d",
     "showTitle": false,
     "title": ""
    }
   },
   "source": [
    "\n",
    "## Adding records to delta table"
   ]
  },
  {
   "cell_type": "markdown",
   "metadata": {
    "application/vnd.databricks.v1+cell": {
     "cellMetadata": {},
     "inputWidgets": {},
     "nuid": "fa2fcbfc-56a3-4ca2-b697-61414c38468c",
     "showTitle": false,
     "title": ""
    }
   },
   "source": [
    "Necessário especificar o schema para não ser criado dentro de `\"default\"`"
   ]
  },
  {
   "cell_type": "code",
   "execution_count": 0,
   "metadata": {
    "application/vnd.databricks.v1+cell": {
     "cellMetadata": {
      "byteLimit": 2048000,
      "rowLimit": 10000
     },
     "inputWidgets": {},
     "nuid": "a5c650b4-ece2-4535-8631-c210786acf65",
     "showTitle": false,
     "title": ""
    }
   },
   "outputs": [
    {
     "output_type": "display_data",
     "data": {
      "text/html": [
       "<style scoped>\n",
       "  .table-result-container {\n",
       "    max-height: 300px;\n",
       "    overflow: auto;\n",
       "  }\n",
       "  table, th, td {\n",
       "    border: 1px solid black;\n",
       "    border-collapse: collapse;\n",
       "  }\n",
       "  th, td {\n",
       "    padding: 5px;\n",
       "  }\n",
       "  th {\n",
       "    text-align: left;\n",
       "  }\n",
       "</style><div class='table-result-container'><table class='table-result'><thead style='background-color: white'><tr><th>num_affected_rows</th><th>num_inserted_rows</th></tr></thead><tbody><tr><td>4</td><td>4</td></tr></tbody></table></div>"
      ]
     },
     "metadata": {
      "application/vnd.databricks.v1+output": {
       "addedWidgets": {},
       "aggData": [],
       "aggError": "",
       "aggOverflow": false,
       "aggSchema": [],
       "aggSeriesLimitReached": false,
       "aggType": "",
       "arguments": {},
       "columnCustomDisplayInfos": {},
       "data": [
        [
         4,
         4
        ]
       ],
       "datasetInfos": [],
       "dbfsResultPath": null,
       "isJsonSchema": true,
       "metadata": {
        "isDbfsCommandResult": false
       },
       "overflow": false,
       "plotOptions": {
        "customPlotOptions": {},
        "displayType": "table",
        "pivotAggregation": null,
        "pivotColumns": null,
        "xColumns": null,
        "yColumns": null
       },
       "removedWidgets": [],
       "schema": [
        {
         "metadata": "{}",
         "name": "num_affected_rows",
         "type": "\"long\""
        },
        {
         "metadata": "{}",
         "name": "num_inserted_rows",
         "type": "\"long\""
        }
       ],
       "type": "table"
      }
     },
     "output_type": "display_data"
    }
   ],
   "source": [
    "INSERT INTO `delta`.deltafile\n",
    "VALUES\n",
    "    ('Bachelor', 1, 4500, 500, 'IT', 'Male', '2023-07-12',  1),\n",
    "    ('Master', 2, 6500, 500, 'Finance', 'Female', '2023-07-12', 2),\n",
    "    ('High School', 3, 3500, 500, 'Retail', 'Male', '2023-07-12', 3),\n",
    "    ('PhD', 4, 5500, 500, 'Healthcare', 'Female', '2023-07-12', 4);"
   ]
  },
  {
   "cell_type": "markdown",
   "metadata": {
    "application/vnd.databricks.v1+cell": {
     "cellMetadata": {},
     "inputWidgets": {},
     "nuid": "bf228ed4-3d49-4789-956f-53978f3916bb",
     "showTitle": false,
     "title": ""
    }
   },
   "source": [
    "\n",
    "## Querying the table"
   ]
  },
  {
   "cell_type": "code",
   "execution_count": 0,
   "metadata": {
    "application/vnd.databricks.v1+cell": {
     "cellMetadata": {
      "byteLimit": 2048000,
      "rowLimit": 10000
     },
     "inputWidgets": {},
     "nuid": "12253fca-1f53-4b83-993c-37fef890d54b",
     "showTitle": false,
     "title": ""
    }
   },
   "outputs": [
    {
     "output_type": "display_data",
     "data": {
      "text/html": [
       "<style scoped>\n",
       "  .table-result-container {\n",
       "    max-height: 300px;\n",
       "    overflow: auto;\n",
       "  }\n",
       "  table, th, td {\n",
       "    border: 1px solid black;\n",
       "    border-collapse: collapse;\n",
       "  }\n",
       "  th, td {\n",
       "    padding: 5px;\n",
       "  }\n",
       "  th {\n",
       "    text-align: left;\n",
       "  }\n",
       "</style><div class='table-result-container'><table class='table-result'><thead style='background-color: white'><tr><th>Education_Level</th><th>Line_Number</th><th>Employed</th><th>Unemployed</th><th>Industry</th><th>Gender</th><th>Date_Inserted</th><th>dense_rank</th></tr></thead><tbody><tr><td>Bachelor</td><td>1</td><td>4500</td><td>500</td><td>IT</td><td>Male</td><td>2023-07-12</td><td>1</td></tr><tr><td>Master</td><td>2</td><td>6500</td><td>500</td><td>Finance</td><td>Female</td><td>2023-07-12</td><td>2</td></tr><tr><td>High School</td><td>3</td><td>3500</td><td>500</td><td>Retail</td><td>Male</td><td>2023-07-12</td><td>3</td></tr><tr><td>PhD</td><td>4</td><td>5500</td><td>500</td><td>Healthcare</td><td>Female</td><td>2023-07-12</td><td>4</td></tr></tbody></table></div>"
      ]
     },
     "metadata": {
      "application/vnd.databricks.v1+output": {
       "addedWidgets": {},
       "aggData": [],
       "aggError": "",
       "aggOverflow": false,
       "aggSchema": [],
       "aggSeriesLimitReached": false,
       "aggType": "",
       "arguments": {},
       "columnCustomDisplayInfos": {},
       "data": [
        [
         "Bachelor",
         1,
         4500,
         500,
         "IT",
         "Male",
         "2023-07-12",
         1
        ],
        [
         "Master",
         2,
         6500,
         500,
         "Finance",
         "Female",
         "2023-07-12",
         2
        ],
        [
         "High School",
         3,
         3500,
         500,
         "Retail",
         "Male",
         "2023-07-12",
         3
        ],
        [
         "PhD",
         4,
         5500,
         500,
         "Healthcare",
         "Female",
         "2023-07-12",
         4
        ]
       ],
       "datasetInfos": [],
       "dbfsResultPath": null,
       "isJsonSchema": true,
       "metadata": {
        "isDbfsCommandResult": false
       },
       "overflow": false,
       "plotOptions": {
        "customPlotOptions": {},
        "displayType": "table",
        "pivotAggregation": null,
        "pivotColumns": null,
        "xColumns": null,
        "yColumns": null
       },
       "removedWidgets": [],
       "schema": [
        {
         "metadata": "{\"__CHAR_VARCHAR_TYPE_STRING\":\"varchar(50)\"}",
         "name": "Education_Level",
         "type": "\"string\""
        },
        {
         "metadata": "{}",
         "name": "Line_Number",
         "type": "\"integer\""
        },
        {
         "metadata": "{}",
         "name": "Employed",
         "type": "\"integer\""
        },
        {
         "metadata": "{}",
         "name": "Unemployed",
         "type": "\"integer\""
        },
        {
         "metadata": "{\"__CHAR_VARCHAR_TYPE_STRING\":\"varchar(50)\"}",
         "name": "Industry",
         "type": "\"string\""
        },
        {
         "metadata": "{\"__CHAR_VARCHAR_TYPE_STRING\":\"varchar(10)\"}",
         "name": "Gender",
         "type": "\"string\""
        },
        {
         "metadata": "{}",
         "name": "Date_Inserted",
         "type": "\"date\""
        },
        {
         "metadata": "{}",
         "name": "dense_rank",
         "type": "\"integer\""
        }
       ],
       "type": "table"
      }
     },
     "output_type": "display_data"
    }
   ],
   "source": [
    "SELECT *\n",
    "FROM `delta`.deltafile"
   ]
  },
  {
   "cell_type": "markdown",
   "metadata": {
    "application/vnd.databricks.v1+cell": {
     "cellMetadata": {},
     "inputWidgets": {},
     "nuid": "e28ed3ee-72b1-442d-b195-69d64f48e36a",
     "showTitle": false,
     "title": ""
    }
   },
   "source": [
    "Houve a geração de um parquet file com as informações dos dados coletados."
   ]
  },
  {
   "cell_type": "code",
   "execution_count": 0,
   "metadata": {
    "application/vnd.databricks.v1+cell": {
     "cellMetadata": {
      "byteLimit": 2048000,
      "rowLimit": 10000
     },
     "inputWidgets": {},
     "nuid": "f47d0ca3-e0b4-48fd-9940-8000bbfcb49c",
     "showTitle": false,
     "title": ""
    }
   },
   "outputs": [
    {
     "output_type": "execute_result",
     "data": {
      "text/plain": [
       "[FileInfo(path='dbfs:/user/hive/warehouse/delta.db/deltafile/_delta_log/', name='_delta_log/', size=0, modificationTime=1727744319000),\n",
       " FileInfo(path='dbfs:/user/hive/warehouse/delta.db/deltafile/part-00000-058db2f9-644c-43a9-98d5-51ca1de2eb8c-c000.snappy.parquet', name='part-00000-058db2f9-644c-43a9-98d5-51ca1de2eb8c-c000.snappy.parquet', size=2556, modificationTime=1727744601000)]"
      ]
     },
     "execution_count": 4,
     "metadata": {},
     "output_type": "execute_result"
    }
   ],
   "source": [
    "%python\n",
    "dbutils.fs.ls('dbfs:/user/hive/warehouse/delta.db/deltafile')"
   ]
  },
  {
   "cell_type": "markdown",
   "metadata": {
    "application/vnd.databricks.v1+cell": {
     "cellMetadata": {},
     "inputWidgets": {},
     "nuid": "db4a0d03-3882-44ae-81ff-ff7d38167b2e",
     "showTitle": false,
     "title": ""
    }
   },
   "source": [
    "Houve a geração de um arquivo json"
   ]
  },
  {
   "cell_type": "code",
   "execution_count": 0,
   "metadata": {
    "application/vnd.databricks.v1+cell": {
     "cellMetadata": {
      "byteLimit": 2048000,
      "rowLimit": 10000
     },
     "inputWidgets": {},
     "nuid": "2c61a178-bbcf-4226-9762-d36929d40270",
     "showTitle": false,
     "title": ""
    }
   },
   "outputs": [
    {
     "output_type": "execute_result",
     "data": {
      "text/plain": [
       "[FileInfo(path='dbfs:/user/hive/warehouse/delta.db/deltafile/_delta_log/00000000000000000000.crc', name='00000000000000000000.crc', size=2847, modificationTime=1727744323000),\n",
       " FileInfo(path='dbfs:/user/hive/warehouse/delta.db/deltafile/_delta_log/00000000000000000000.json', name='00000000000000000000.json', size=1778, modificationTime=1727744320000),\n",
       " FileInfo(path='dbfs:/user/hive/warehouse/delta.db/deltafile/_delta_log/00000000000000000001.crc', name='00000000000000000001.crc', size=3773, modificationTime=1727744606000),\n",
       " FileInfo(path='dbfs:/user/hive/warehouse/delta.db/deltafile/_delta_log/00000000000000000001.json', name='00000000000000000001.json', size=1525, modificationTime=1727744602000),\n",
       " FileInfo(path='dbfs:/user/hive/warehouse/delta.db/deltafile/_delta_log/__tmp_path_dir/', name='__tmp_path_dir/', size=0, modificationTime=1727744319000),\n",
       " FileInfo(path='dbfs:/user/hive/warehouse/delta.db/deltafile/_delta_log/_commits/', name='_commits/', size=0, modificationTime=1727744319000)]"
      ]
     },
     "execution_count": 5,
     "metadata": {},
     "output_type": "execute_result"
    }
   ],
   "source": [
    "%python\n",
    "dbutils.fs.ls('dbfs:/user/hive/warehouse/delta.db/deltafile/_delta_log')"
   ]
  },
  {
   "cell_type": "code",
   "execution_count": 0,
   "metadata": {
    "application/vnd.databricks.v1+cell": {
     "cellMetadata": {
      "byteLimit": 2048000,
      "rowLimit": 10000
     },
     "inputWidgets": {},
     "nuid": "79a13ac1-59c8-4d61-b800-e7bca1addc34",
     "showTitle": false,
     "title": ""
    }
   },
   "outputs": [
    {
     "output_type": "display_data",
     "data": {
      "text/html": [
       "<style scoped>\n",
       "  .table-result-container {\n",
       "    max-height: 300px;\n",
       "    overflow: auto;\n",
       "  }\n",
       "  table, th, td {\n",
       "    border: 1px solid black;\n",
       "    border-collapse: collapse;\n",
       "  }\n",
       "  th, td {\n",
       "    padding: 5px;\n",
       "  }\n",
       "  th {\n",
       "    text-align: left;\n",
       "  }\n",
       "</style><div class='table-result-container'><table class='table-result'><thead style='background-color: white'><tr><th>value</th></tr></thead><tbody><tr><td>{\"commitInfo\":{\"timestamp\":1727744602593,\"userId\":\"2239208310904017\",\"userName\":\"lepina73@hotmail.com\",\"operation\":\"WRITE\",\"operationParameters\":{\"mode\":\"Append\",\"statsOnLoad\":false,\"partitionBy\":\"[]\"},\"notebook\":{\"notebookId\":\"4156582661638974\"},\"clusterId\":\"1001-004428-4ucqgjdm\",\"readVersion\":0,\"isolationLevel\":\"WriteSerializable\",\"isBlindAppend\":true,\"operationMetrics\":{\"numFiles\":\"1\",\"numOutputRows\":\"4\",\"numOutputBytes\":\"2556\"},\"tags\":{\"noRowsCopied\":\"true\",\"restoresDeletedRows\":\"false\"},\"engineInfo\":\"Databricks-Runtime/15.4.x-scala2.12\",\"txnId\":\"4d5083e5-0243-496c-b7d8-dd56d8195947\"}}</td></tr><tr><td>{\"add\":{\"path\":\"part-00000-058db2f9-644c-43a9-98d5-51ca1de2eb8c-c000.snappy.parquet\",\"partitionValues\":{},\"size\":2556,\"modificationTime\":1727744601000,\"dataChange\":true,\"stats\":\"{\\\"numRecords\\\":4,\\\"minValues\\\":{\\\"Education_Level\\\":\\\"Bachelor\\\",\\\"Line_Number\\\":1,\\\"Employed\\\":3500,\\\"Unemployed\\\":500,\\\"Industry\\\":\\\"Finance\\\",\\\"Gender\\\":\\\"Female\\\",\\\"Date_Inserted\\\":\\\"2023-07-12\\\",\\\"dense_rank\\\":1},\\\"maxValues\\\":{\\\"Education_Level\\\":\\\"PhD\\\",\\\"Line_Number\\\":4,\\\"Employed\\\":6500,\\\"Unemployed\\\":500,\\\"Industry\\\":\\\"Retail\\\",\\\"Gender\\\":\\\"Male\\\",\\\"Date_Inserted\\\":\\\"2023-07-12\\\",\\\"dense_rank\\\":4},\\\"nullCount\\\":{\\\"Education_Level\\\":0,\\\"Line_Number\\\":0,\\\"Employed\\\":0,\\\"Unemployed\\\":0,\\\"Industry\\\":0,\\\"Gender\\\":0,\\\"Date_Inserted\\\":0,\\\"dense_rank\\\":0},\\\"tightBounds\\\":true}\",\"tags\":{\"INSERTION_TIME\":\"1727744601000000\",\"MIN_INSERTION_TIME\":\"1727744601000000\",\"MAX_INSERTION_TIME\":\"1727744601000000\",\"OPTIMIZE_TARGET_SIZE\":\"268435456\"}}}</td></tr></tbody></table></div>"
      ]
     },
     "metadata": {
      "application/vnd.databricks.v1+output": {
       "addedWidgets": {},
       "aggData": [],
       "aggError": "",
       "aggOverflow": false,
       "aggSchema": [],
       "aggSeriesLimitReached": false,
       "aggType": "",
       "arguments": {},
       "columnCustomDisplayInfos": {},
       "data": [
        [
         "{\"commitInfo\":{\"timestamp\":1727744602593,\"userId\":\"2239208310904017\",\"userName\":\"lepina73@hotmail.com\",\"operation\":\"WRITE\",\"operationParameters\":{\"mode\":\"Append\",\"statsOnLoad\":false,\"partitionBy\":\"[]\"},\"notebook\":{\"notebookId\":\"4156582661638974\"},\"clusterId\":\"1001-004428-4ucqgjdm\",\"readVersion\":0,\"isolationLevel\":\"WriteSerializable\",\"isBlindAppend\":true,\"operationMetrics\":{\"numFiles\":\"1\",\"numOutputRows\":\"4\",\"numOutputBytes\":\"2556\"},\"tags\":{\"noRowsCopied\":\"true\",\"restoresDeletedRows\":\"false\"},\"engineInfo\":\"Databricks-Runtime/15.4.x-scala2.12\",\"txnId\":\"4d5083e5-0243-496c-b7d8-dd56d8195947\"}}"
        ],
        [
         "{\"add\":{\"path\":\"part-00000-058db2f9-644c-43a9-98d5-51ca1de2eb8c-c000.snappy.parquet\",\"partitionValues\":{},\"size\":2556,\"modificationTime\":1727744601000,\"dataChange\":true,\"stats\":\"{\\\"numRecords\\\":4,\\\"minValues\\\":{\\\"Education_Level\\\":\\\"Bachelor\\\",\\\"Line_Number\\\":1,\\\"Employed\\\":3500,\\\"Unemployed\\\":500,\\\"Industry\\\":\\\"Finance\\\",\\\"Gender\\\":\\\"Female\\\",\\\"Date_Inserted\\\":\\\"2023-07-12\\\",\\\"dense_rank\\\":1},\\\"maxValues\\\":{\\\"Education_Level\\\":\\\"PhD\\\",\\\"Line_Number\\\":4,\\\"Employed\\\":6500,\\\"Unemployed\\\":500,\\\"Industry\\\":\\\"Retail\\\",\\\"Gender\\\":\\\"Male\\\",\\\"Date_Inserted\\\":\\\"2023-07-12\\\",\\\"dense_rank\\\":4},\\\"nullCount\\\":{\\\"Education_Level\\\":0,\\\"Line_Number\\\":0,\\\"Employed\\\":0,\\\"Unemployed\\\":0,\\\"Industry\\\":0,\\\"Gender\\\":0,\\\"Date_Inserted\\\":0,\\\"dense_rank\\\":0},\\\"tightBounds\\\":true}\",\"tags\":{\"INSERTION_TIME\":\"1727744601000000\",\"MIN_INSERTION_TIME\":\"1727744601000000\",\"MAX_INSERTION_TIME\":\"1727744601000000\",\"OPTIMIZE_TARGET_SIZE\":\"268435456\"}}}"
        ]
       ],
       "datasetInfos": [],
       "dbfsResultPath": null,
       "isJsonSchema": true,
       "metadata": {
        "isDbfsCommandResult": false
       },
       "overflow": false,
       "plotOptions": {
        "customPlotOptions": {},
        "displayType": "table",
        "pivotAggregation": null,
        "pivotColumns": null,
        "xColumns": null,
        "yColumns": null
       },
       "removedWidgets": [],
       "schema": [
        {
         "metadata": "{}",
         "name": "value",
         "type": "\"string\""
        }
       ],
       "type": "table"
      }
     },
     "output_type": "display_data"
    }
   ],
   "source": [
    "select *\n",
    "from TEXT.`dbfs:/user/hive/warehouse/delta.db/deltafile/_delta_log/00000000000000000001.json`"
   ]
  },
  {
   "cell_type": "markdown",
   "metadata": {
    "application/vnd.databricks.v1+cell": {
     "cellMetadata": {},
     "inputWidgets": {},
     "nuid": "34d86636-38fa-4bf4-831f-4bdf1fd4ee0b",
     "showTitle": false,
     "title": ""
    }
   },
   "source": [
    "\n",
    "## Updating data in table"
   ]
  },
  {
   "cell_type": "code",
   "execution_count": 0,
   "metadata": {
    "application/vnd.databricks.v1+cell": {
     "cellMetadata": {
      "byteLimit": 2048000,
      "rowLimit": 10000
     },
     "inputWidgets": {},
     "nuid": "c92df7bb-05e6-47a9-a919-46fb1e1c042d",
     "showTitle": false,
     "title": ""
    }
   },
   "outputs": [
    {
     "output_type": "display_data",
     "data": {
      "text/html": [
       "<style scoped>\n",
       "  .table-result-container {\n",
       "    max-height: 300px;\n",
       "    overflow: auto;\n",
       "  }\n",
       "  table, th, td {\n",
       "    border: 1px solid black;\n",
       "    border-collapse: collapse;\n",
       "  }\n",
       "  th, td {\n",
       "    padding: 5px;\n",
       "  }\n",
       "  th {\n",
       "    text-align: left;\n",
       "  }\n",
       "</style><div class='table-result-container'><table class='table-result'><thead style='background-color: white'><tr><th>num_affected_rows</th></tr></thead><tbody><tr><td>1</td></tr></tbody></table></div>"
      ]
     },
     "metadata": {
      "application/vnd.databricks.v1+output": {
       "addedWidgets": {},
       "aggData": [],
       "aggError": "",
       "aggOverflow": false,
       "aggSchema": [],
       "aggSeriesLimitReached": false,
       "aggType": "",
       "arguments": {},
       "columnCustomDisplayInfos": {},
       "data": [
        [
         1
        ]
       ],
       "datasetInfos": [],
       "dbfsResultPath": null,
       "isJsonSchema": true,
       "metadata": {
        "isDbfsCommandResult": false
       },
       "overflow": false,
       "plotOptions": {
        "customPlotOptions": {},
        "displayType": "table",
        "pivotAggregation": null,
        "pivotColumns": null,
        "xColumns": null,
        "yColumns": null
       },
       "removedWidgets": [],
       "schema": [
        {
         "metadata": "{}",
         "name": "num_affected_rows",
         "type": "\"long\""
        }
       ],
       "type": "table"
      }
     },
     "output_type": "display_data"
    }
   ],
   "source": [
    "UPDATE `delta`.deltafile\n",
    "SET Industry = 'Finance'\n",
    "WHERE Education_Level = 'PhD'"
   ]
  },
  {
   "cell_type": "code",
   "execution_count": 0,
   "metadata": {
    "application/vnd.databricks.v1+cell": {
     "cellMetadata": {
      "byteLimit": 2048000,
      "rowLimit": 10000
     },
     "inputWidgets": {},
     "nuid": "158c676c-f73a-4cf4-a49b-a309b3da9fe4",
     "showTitle": false,
     "title": ""
    }
   },
   "outputs": [
    {
     "output_type": "execute_result",
     "data": {
      "text/plain": [
       "[FileInfo(path='dbfs:/user/hive/warehouse/delta.db/deltafile/_delta_log/00000000000000000000.crc', name='00000000000000000000.crc', size=2847, modificationTime=1727744323000),\n",
       " FileInfo(path='dbfs:/user/hive/warehouse/delta.db/deltafile/_delta_log/00000000000000000000.json', name='00000000000000000000.json', size=1778, modificationTime=1727744320000),\n",
       " FileInfo(path='dbfs:/user/hive/warehouse/delta.db/deltafile/_delta_log/00000000000000000001.crc', name='00000000000000000001.crc', size=3773, modificationTime=1727744606000),\n",
       " FileInfo(path='dbfs:/user/hive/warehouse/delta.db/deltafile/_delta_log/00000000000000000001.json', name='00000000000000000001.json', size=1525, modificationTime=1727744602000),\n",
       " FileInfo(path='dbfs:/user/hive/warehouse/delta.db/deltafile/_delta_log/00000000000000000002.crc', name='00000000000000000002.crc', size=4814, modificationTime=1727745006000),\n",
       " FileInfo(path='dbfs:/user/hive/warehouse/delta.db/deltafile/_delta_log/00000000000000000002.json', name='00000000000000000002.json', size=3825, modificationTime=1727745003000),\n",
       " FileInfo(path='dbfs:/user/hive/warehouse/delta.db/deltafile/_delta_log/00000000000000000003.crc', name='00000000000000000003.crc', size=3798, modificationTime=1727745015000),\n",
       " FileInfo(path='dbfs:/user/hive/warehouse/delta.db/deltafile/_delta_log/00000000000000000003.json', name='00000000000000000003.json', size=2977, modificationTime=1727745012000),\n",
       " FileInfo(path='dbfs:/user/hive/warehouse/delta.db/deltafile/_delta_log/__tmp_path_dir/', name='__tmp_path_dir/', size=0, modificationTime=1727744319000),\n",
       " FileInfo(path='dbfs:/user/hive/warehouse/delta.db/deltafile/_delta_log/_commits/', name='_commits/', size=0, modificationTime=1727744319000)]"
      ]
     },
     "execution_count": 6,
     "metadata": {},
     "output_type": "execute_result"
    }
   ],
   "source": [
    "%python\n",
    "dbutils.fs.ls('dbfs:/user/hive/warehouse/delta.db/deltafile/_delta_log')"
   ]
  },
  {
   "cell_type": "code",
   "execution_count": 0,
   "metadata": {
    "application/vnd.databricks.v1+cell": {
     "cellMetadata": {
      "byteLimit": 2048000,
      "rowLimit": 10000
     },
     "inputWidgets": {},
     "nuid": "bef55dbe-4663-4e47-9c2e-60c8afee3eb3",
     "showTitle": false,
     "title": ""
    }
   },
   "outputs": [
    {
     "output_type": "display_data",
     "data": {
      "text/html": [
       "<style scoped>\n",
       "  .table-result-container {\n",
       "    max-height: 300px;\n",
       "    overflow: auto;\n",
       "  }\n",
       "  table, th, td {\n",
       "    border: 1px solid black;\n",
       "    border-collapse: collapse;\n",
       "  }\n",
       "  th, td {\n",
       "    padding: 5px;\n",
       "  }\n",
       "  th {\n",
       "    text-align: left;\n",
       "  }\n",
       "</style><div class='table-result-container'><table class='table-result'><thead style='background-color: white'><tr><th>value</th></tr></thead><tbody><tr><td>{\"commitInfo\":{\"timestamp\":1727745002926,\"userId\":\"2239208310904017\",\"userName\":\"lepina73@hotmail.com\",\"operation\":\"UPDATE\",\"operationParameters\":{\"predicate\":\"[\\\"(Education_Level#2763 = PhD)\\\"]\"},\"notebook\":{\"notebookId\":\"4156582661638974\"},\"clusterId\":\"1001-004428-4ucqgjdm\",\"readVersion\":1,\"isolationLevel\":\"WriteSerializable\",\"isBlindAppend\":false,\"operationMetrics\":{\"numRemovedFiles\":\"0\",\"numRemovedBytes\":\"0\",\"numCopiedRows\":\"0\",\"numDeletionVectorsAdded\":\"1\",\"numDeletionVectorsRemoved\":\"0\",\"numAddedChangeFiles\":\"0\",\"executionTimeMs\":\"6614\",\"numDeletionVectorsUpdated\":\"0\",\"scanTimeMs\":\"2683\",\"numAddedFiles\":\"1\",\"numUpdatedRows\":\"1\",\"numAddedBytes\":\"2375\",\"rewriteTimeMs\":\"3854\"},\"tags\":{\"noRowsCopied\":\"true\",\"delta.rowTracking.preserved\":\"false\",\"restoresDeletedRows\":\"false\"},\"engineInfo\":\"Databricks-Runtime/15.4.x-scala2.12\",\"txnId\":\"b426d905-18a4-4e7b-a9bb-129c54720c88\"}}</td></tr><tr><td>{\"remove\":{\"path\":\"part-00000-058db2f9-644c-43a9-98d5-51ca1de2eb8c-c000.snappy.parquet\",\"deletionTimestamp\":1727745002892,\"dataChange\":true,\"extendedFileMetadata\":true,\"partitionValues\":{},\"size\":2556,\"tags\":{\"INSERTION_TIME\":\"1727744601000000\",\"MIN_INSERTION_TIME\":\"1727744601000000\",\"MAX_INSERTION_TIME\":\"1727744601000000\",\"OPTIMIZE_TARGET_SIZE\":\"268435456\"},\"stats\":\"{\\\"numRecords\\\":4,\\\"minValues\\\":{\\\"Education_Level\\\":\\\"Bachelor\\\",\\\"Line_Number\\\":1,\\\"Employed\\\":3500,\\\"Unemployed\\\":500,\\\"Industry\\\":\\\"Finance\\\",\\\"Gender\\\":\\\"Female\\\",\\\"Date_Inserted\\\":\\\"2023-07-12\\\",\\\"dense_rank\\\":1},\\\"maxValues\\\":{\\\"Education_Level\\\":\\\"PhD\\\",\\\"Line_Number\\\":4,\\\"Employed\\\":6500,\\\"Unemployed\\\":500,\\\"Industry\\\":\\\"Retail\\\",\\\"Gender\\\":\\\"Male\\\",\\\"Date_Inserted\\\":\\\"2023-07-12\\\",\\\"dense_rank\\\":4},\\\"nullCount\\\":{\\\"Education_Level\\\":0,\\\"Line_Number\\\":0,\\\"Employed\\\":0,\\\"Unemployed\\\":0,\\\"Industry\\\":0,\\\"Gender\\\":0,\\\"Date_Inserted\\\":0,\\\"dense_rank\\\":0},\\\"tightBounds\\\":false}\"}}</td></tr><tr><td>{\"add\":{\"path\":\"part-00000-192fda29-0f44-40b3-b159-73a9c5512207-c000.snappy.parquet\",\"partitionValues\":{},\"size\":2375,\"modificationTime\":1727745000000,\"dataChange\":true,\"stats\":\"{\\\"numRecords\\\":1,\\\"minValues\\\":{\\\"Education_Level\\\":\\\"PhD\\\",\\\"Line_Number\\\":4,\\\"Employed\\\":5500,\\\"Unemployed\\\":500,\\\"Industry\\\":\\\"Finance\\\",\\\"Gender\\\":\\\"Female\\\",\\\"Date_Inserted\\\":\\\"2023-07-12\\\",\\\"dense_rank\\\":4},\\\"maxValues\\\":{\\\"Education_Level\\\":\\\"PhD\\\",\\\"Line_Number\\\":4,\\\"Employed\\\":5500,\\\"Unemployed\\\":500,\\\"Industry\\\":\\\"Finance\\\",\\\"Gender\\\":\\\"Female\\\",\\\"Date_Inserted\\\":\\\"2023-07-12\\\",\\\"dense_rank\\\":4},\\\"nullCount\\\":{\\\"Education_Level\\\":0,\\\"Line_Number\\\":0,\\\"Employed\\\":0,\\\"Unemployed\\\":0,\\\"Industry\\\":0,\\\"Gender\\\":0,\\\"Date_Inserted\\\":0,\\\"dense_rank\\\":0},\\\"tightBounds\\\":true}\",\"tags\":{\"MAX_INSERTION_TIME\":\"1727744601000000\",\"INSERTION_TIME\":\"1727744601000000\",\"MIN_INSERTION_TIME\":\"1727744601000000\",\"OPTIMIZE_TARGET_SIZE\":\"268435456\"}}}</td></tr><tr><td>{\"add\":{\"path\":\"part-00000-058db2f9-644c-43a9-98d5-51ca1de2eb8c-c000.snappy.parquet\",\"partitionValues\":{},\"size\":2556,\"modificationTime\":1727744601000,\"dataChange\":true,\"stats\":\"{\\\"numRecords\\\":4,\\\"minValues\\\":{\\\"Education_Level\\\":\\\"Bachelor\\\",\\\"Line_Number\\\":1,\\\"Employed\\\":3500,\\\"Unemployed\\\":500,\\\"Industry\\\":\\\"Finance\\\",\\\"Gender\\\":\\\"Female\\\",\\\"Date_Inserted\\\":\\\"2023-07-12\\\",\\\"dense_rank\\\":1},\\\"maxValues\\\":{\\\"Education_Level\\\":\\\"PhD\\\",\\\"Line_Number\\\":4,\\\"Employed\\\":6500,\\\"Unemployed\\\":500,\\\"Industry\\\":\\\"Retail\\\",\\\"Gender\\\":\\\"Male\\\",\\\"Date_Inserted\\\":\\\"2023-07-12\\\",\\\"dense_rank\\\":4},\\\"nullCount\\\":{\\\"Education_Level\\\":0,\\\"Line_Number\\\":0,\\\"Employed\\\":0,\\\"Unemployed\\\":0,\\\"Industry\\\":0,\\\"Gender\\\":0,\\\"Date_Inserted\\\":0,\\\"dense_rank\\\":0},\\\"tightBounds\\\":false}\",\"tags\":{\"INSERTION_TIME\":\"1727744601000000\",\"MIN_INSERTION_TIME\":\"1727744601000000\",\"MAX_INSERTION_TIME\":\"1727744601000000\",\"OPTIMIZE_TARGET_SIZE\":\"268435456\"},\"deletionVector\":{\"storageType\":\"u\",\"pathOrInlineDv\":\".Rp2grbU97Li[F?ZJ0G-\",\"offset\":1,\"sizeInBytes\":34,\"cardinality\":1}}}</td></tr></tbody></table></div>"
      ]
     },
     "metadata": {
      "application/vnd.databricks.v1+output": {
       "addedWidgets": {},
       "aggData": [],
       "aggError": "",
       "aggOverflow": false,
       "aggSchema": [],
       "aggSeriesLimitReached": false,
       "aggType": "",
       "arguments": {},
       "columnCustomDisplayInfos": {},
       "data": [
        [
         "{\"commitInfo\":{\"timestamp\":1727745002926,\"userId\":\"2239208310904017\",\"userName\":\"lepina73@hotmail.com\",\"operation\":\"UPDATE\",\"operationParameters\":{\"predicate\":\"[\\\"(Education_Level#2763 = PhD)\\\"]\"},\"notebook\":{\"notebookId\":\"4156582661638974\"},\"clusterId\":\"1001-004428-4ucqgjdm\",\"readVersion\":1,\"isolationLevel\":\"WriteSerializable\",\"isBlindAppend\":false,\"operationMetrics\":{\"numRemovedFiles\":\"0\",\"numRemovedBytes\":\"0\",\"numCopiedRows\":\"0\",\"numDeletionVectorsAdded\":\"1\",\"numDeletionVectorsRemoved\":\"0\",\"numAddedChangeFiles\":\"0\",\"executionTimeMs\":\"6614\",\"numDeletionVectorsUpdated\":\"0\",\"scanTimeMs\":\"2683\",\"numAddedFiles\":\"1\",\"numUpdatedRows\":\"1\",\"numAddedBytes\":\"2375\",\"rewriteTimeMs\":\"3854\"},\"tags\":{\"noRowsCopied\":\"true\",\"delta.rowTracking.preserved\":\"false\",\"restoresDeletedRows\":\"false\"},\"engineInfo\":\"Databricks-Runtime/15.4.x-scala2.12\",\"txnId\":\"b426d905-18a4-4e7b-a9bb-129c54720c88\"}}"
        ],
        [
         "{\"remove\":{\"path\":\"part-00000-058db2f9-644c-43a9-98d5-51ca1de2eb8c-c000.snappy.parquet\",\"deletionTimestamp\":1727745002892,\"dataChange\":true,\"extendedFileMetadata\":true,\"partitionValues\":{},\"size\":2556,\"tags\":{\"INSERTION_TIME\":\"1727744601000000\",\"MIN_INSERTION_TIME\":\"1727744601000000\",\"MAX_INSERTION_TIME\":\"1727744601000000\",\"OPTIMIZE_TARGET_SIZE\":\"268435456\"},\"stats\":\"{\\\"numRecords\\\":4,\\\"minValues\\\":{\\\"Education_Level\\\":\\\"Bachelor\\\",\\\"Line_Number\\\":1,\\\"Employed\\\":3500,\\\"Unemployed\\\":500,\\\"Industry\\\":\\\"Finance\\\",\\\"Gender\\\":\\\"Female\\\",\\\"Date_Inserted\\\":\\\"2023-07-12\\\",\\\"dense_rank\\\":1},\\\"maxValues\\\":{\\\"Education_Level\\\":\\\"PhD\\\",\\\"Line_Number\\\":4,\\\"Employed\\\":6500,\\\"Unemployed\\\":500,\\\"Industry\\\":\\\"Retail\\\",\\\"Gender\\\":\\\"Male\\\",\\\"Date_Inserted\\\":\\\"2023-07-12\\\",\\\"dense_rank\\\":4},\\\"nullCount\\\":{\\\"Education_Level\\\":0,\\\"Line_Number\\\":0,\\\"Employed\\\":0,\\\"Unemployed\\\":0,\\\"Industry\\\":0,\\\"Gender\\\":0,\\\"Date_Inserted\\\":0,\\\"dense_rank\\\":0},\\\"tightBounds\\\":false}\"}}"
        ],
        [
         "{\"add\":{\"path\":\"part-00000-192fda29-0f44-40b3-b159-73a9c5512207-c000.snappy.parquet\",\"partitionValues\":{},\"size\":2375,\"modificationTime\":1727745000000,\"dataChange\":true,\"stats\":\"{\\\"numRecords\\\":1,\\\"minValues\\\":{\\\"Education_Level\\\":\\\"PhD\\\",\\\"Line_Number\\\":4,\\\"Employed\\\":5500,\\\"Unemployed\\\":500,\\\"Industry\\\":\\\"Finance\\\",\\\"Gender\\\":\\\"Female\\\",\\\"Date_Inserted\\\":\\\"2023-07-12\\\",\\\"dense_rank\\\":4},\\\"maxValues\\\":{\\\"Education_Level\\\":\\\"PhD\\\",\\\"Line_Number\\\":4,\\\"Employed\\\":5500,\\\"Unemployed\\\":500,\\\"Industry\\\":\\\"Finance\\\",\\\"Gender\\\":\\\"Female\\\",\\\"Date_Inserted\\\":\\\"2023-07-12\\\",\\\"dense_rank\\\":4},\\\"nullCount\\\":{\\\"Education_Level\\\":0,\\\"Line_Number\\\":0,\\\"Employed\\\":0,\\\"Unemployed\\\":0,\\\"Industry\\\":0,\\\"Gender\\\":0,\\\"Date_Inserted\\\":0,\\\"dense_rank\\\":0},\\\"tightBounds\\\":true}\",\"tags\":{\"MAX_INSERTION_TIME\":\"1727744601000000\",\"INSERTION_TIME\":\"1727744601000000\",\"MIN_INSERTION_TIME\":\"1727744601000000\",\"OPTIMIZE_TARGET_SIZE\":\"268435456\"}}}"
        ],
        [
         "{\"add\":{\"path\":\"part-00000-058db2f9-644c-43a9-98d5-51ca1de2eb8c-c000.snappy.parquet\",\"partitionValues\":{},\"size\":2556,\"modificationTime\":1727744601000,\"dataChange\":true,\"stats\":\"{\\\"numRecords\\\":4,\\\"minValues\\\":{\\\"Education_Level\\\":\\\"Bachelor\\\",\\\"Line_Number\\\":1,\\\"Employed\\\":3500,\\\"Unemployed\\\":500,\\\"Industry\\\":\\\"Finance\\\",\\\"Gender\\\":\\\"Female\\\",\\\"Date_Inserted\\\":\\\"2023-07-12\\\",\\\"dense_rank\\\":1},\\\"maxValues\\\":{\\\"Education_Level\\\":\\\"PhD\\\",\\\"Line_Number\\\":4,\\\"Employed\\\":6500,\\\"Unemployed\\\":500,\\\"Industry\\\":\\\"Retail\\\",\\\"Gender\\\":\\\"Male\\\",\\\"Date_Inserted\\\":\\\"2023-07-12\\\",\\\"dense_rank\\\":4},\\\"nullCount\\\":{\\\"Education_Level\\\":0,\\\"Line_Number\\\":0,\\\"Employed\\\":0,\\\"Unemployed\\\":0,\\\"Industry\\\":0,\\\"Gender\\\":0,\\\"Date_Inserted\\\":0,\\\"dense_rank\\\":0},\\\"tightBounds\\\":false}\",\"tags\":{\"INSERTION_TIME\":\"1727744601000000\",\"MIN_INSERTION_TIME\":\"1727744601000000\",\"MAX_INSERTION_TIME\":\"1727744601000000\",\"OPTIMIZE_TARGET_SIZE\":\"268435456\"},\"deletionVector\":{\"storageType\":\"u\",\"pathOrInlineDv\":\".Rp2grbU97Li[F?ZJ0G-\",\"offset\":1,\"sizeInBytes\":34,\"cardinality\":1}}}"
        ]
       ],
       "datasetInfos": [],
       "dbfsResultPath": null,
       "isJsonSchema": true,
       "metadata": {
        "isDbfsCommandResult": false
       },
       "overflow": false,
       "plotOptions": {
        "customPlotOptions": {},
        "displayType": "table",
        "pivotAggregation": null,
        "pivotColumns": null,
        "xColumns": null,
        "yColumns": null
       },
       "removedWidgets": [],
       "schema": [
        {
         "metadata": "{}",
         "name": "value",
         "type": "\"string\""
        }
       ],
       "type": "table"
      }
     },
     "output_type": "display_data"
    }
   ],
   "source": [
    "select *\n",
    "from TEXT.`dbfs:/user/hive/warehouse/delta.db/deltafile/_delta_log/00000000000000000002.json`"
   ]
  },
  {
   "cell_type": "markdown",
   "metadata": {
    "application/vnd.databricks.v1+cell": {
     "cellMetadata": {},
     "inputWidgets": {},
     "nuid": "ac384164-fe4a-47b1-8255-f217eb9c78ec",
     "showTitle": false,
     "title": ""
    }
   },
   "source": [
    "\n",
    "## Querying table after UPDATE"
   ]
  },
  {
   "cell_type": "code",
   "execution_count": 0,
   "metadata": {
    "application/vnd.databricks.v1+cell": {
     "cellMetadata": {
      "byteLimit": 2048000,
      "rowLimit": 10000
     },
     "inputWidgets": {},
     "nuid": "43438915-cf16-4407-b413-6ee9b8f6b1eb",
     "showTitle": false,
     "title": ""
    }
   },
   "outputs": [
    {
     "output_type": "display_data",
     "data": {
      "text/html": [
       "<style scoped>\n",
       "  .table-result-container {\n",
       "    max-height: 300px;\n",
       "    overflow: auto;\n",
       "  }\n",
       "  table, th, td {\n",
       "    border: 1px solid black;\n",
       "    border-collapse: collapse;\n",
       "  }\n",
       "  th, td {\n",
       "    padding: 5px;\n",
       "  }\n",
       "  th {\n",
       "    text-align: left;\n",
       "  }\n",
       "</style><div class='table-result-container'><table class='table-result'><thead style='background-color: white'><tr><th>Education_Level</th><th>Line_Number</th><th>Employed</th><th>Unemployed</th><th>Industry</th><th>Gender</th><th>Date_Inserted</th><th>dense_rank</th></tr></thead><tbody><tr><td>PhD</td><td>4</td><td>5500</td><td>500</td><td>Finance</td><td>Female</td><td>2023-07-12</td><td>4</td></tr><tr><td>Bachelor</td><td>1</td><td>4500</td><td>500</td><td>IT</td><td>Male</td><td>2023-07-12</td><td>1</td></tr><tr><td>Master</td><td>2</td><td>6500</td><td>500</td><td>Finance</td><td>Female</td><td>2023-07-12</td><td>2</td></tr><tr><td>High School</td><td>3</td><td>3500</td><td>500</td><td>Retail</td><td>Male</td><td>2023-07-12</td><td>3</td></tr></tbody></table></div>"
      ]
     },
     "metadata": {
      "application/vnd.databricks.v1+output": {
       "addedWidgets": {},
       "aggData": [],
       "aggError": "",
       "aggOverflow": false,
       "aggSchema": [],
       "aggSeriesLimitReached": false,
       "aggType": "",
       "arguments": {},
       "columnCustomDisplayInfos": {},
       "data": [
        [
         "PhD",
         4,
         5500,
         500,
         "Finance",
         "Female",
         "2023-07-12",
         4
        ],
        [
         "Bachelor",
         1,
         4500,
         500,
         "IT",
         "Male",
         "2023-07-12",
         1
        ],
        [
         "Master",
         2,
         6500,
         500,
         "Finance",
         "Female",
         "2023-07-12",
         2
        ],
        [
         "High School",
         3,
         3500,
         500,
         "Retail",
         "Male",
         "2023-07-12",
         3
        ]
       ],
       "datasetInfos": [],
       "dbfsResultPath": null,
       "isJsonSchema": true,
       "metadata": {
        "isDbfsCommandResult": false
       },
       "overflow": false,
       "plotOptions": {
        "customPlotOptions": {},
        "displayType": "table",
        "pivotAggregation": null,
        "pivotColumns": null,
        "xColumns": null,
        "yColumns": null
       },
       "removedWidgets": [],
       "schema": [
        {
         "metadata": "{\"__CHAR_VARCHAR_TYPE_STRING\":\"varchar(50)\"}",
         "name": "Education_Level",
         "type": "\"string\""
        },
        {
         "metadata": "{}",
         "name": "Line_Number",
         "type": "\"integer\""
        },
        {
         "metadata": "{}",
         "name": "Employed",
         "type": "\"integer\""
        },
        {
         "metadata": "{}",
         "name": "Unemployed",
         "type": "\"integer\""
        },
        {
         "metadata": "{\"__CHAR_VARCHAR_TYPE_STRING\":\"varchar(50)\"}",
         "name": "Industry",
         "type": "\"string\""
        },
        {
         "metadata": "{\"__CHAR_VARCHAR_TYPE_STRING\":\"varchar(10)\"}",
         "name": "Gender",
         "type": "\"string\""
        },
        {
         "metadata": "{}",
         "name": "Date_Inserted",
         "type": "\"date\""
        },
        {
         "metadata": "{}",
         "name": "dense_rank",
         "type": "\"integer\""
        }
       ],
       "type": "table"
      }
     },
     "output_type": "display_data"
    }
   ],
   "source": [
    "SELECT *\n",
    "FROM `delta`.deltafile"
   ]
  },
  {
   "cell_type": "code",
   "execution_count": 0,
   "metadata": {
    "application/vnd.databricks.v1+cell": {
     "cellMetadata": {
      "byteLimit": 2048000,
      "rowLimit": 10000
     },
     "inputWidgets": {},
     "nuid": "21dcbe52-d4ee-4786-af46-5d6c24675baa",
     "showTitle": false,
     "title": ""
    }
   },
   "outputs": [
    {
     "output_type": "execute_result",
     "data": {
      "text/plain": [
       "[FileInfo(path='dbfs:/user/hive/warehouse/delta.db/deltafile/_delta_log/', name='_delta_log/', size=0, modificationTime=1727744319000),\n",
       " FileInfo(path='dbfs:/user/hive/warehouse/delta.db/deltafile/deletion_vector_c2db8c3a-546f-4256-92ed-9432bf715c07.bin', name='deletion_vector_c2db8c3a-546f-4256-92ed-9432bf715c07.bin', size=43, modificationTime=1727744998000),\n",
       " FileInfo(path='dbfs:/user/hive/warehouse/delta.db/deltafile/part-00000-058db2f9-644c-43a9-98d5-51ca1de2eb8c-c000.snappy.parquet', name='part-00000-058db2f9-644c-43a9-98d5-51ca1de2eb8c-c000.snappy.parquet', size=2556, modificationTime=1727744601000),\n",
       " FileInfo(path='dbfs:/user/hive/warehouse/delta.db/deltafile/part-00000-192fda29-0f44-40b3-b159-73a9c5512207-c000.snappy.parquet', name='part-00000-192fda29-0f44-40b3-b159-73a9c5512207-c000.snappy.parquet', size=2375, modificationTime=1727745000000),\n",
       " FileInfo(path='dbfs:/user/hive/warehouse/delta.db/deltafile/part-00000-23eaa0f8-cf89-44b6-bf4d-7b405455e303-c000.snappy.parquet', name='part-00000-23eaa0f8-cf89-44b6-bf4d-7b405455e303-c000.snappy.parquet', size=2577, modificationTime=1727745012000)]"
      ]
     },
     "execution_count": 7,
     "metadata": {},
     "output_type": "execute_result"
    }
   ],
   "source": [
    "%python\n",
    "dbutils.fs.ls('dbfs:/user/hive/warehouse/delta.db/deltafile')"
   ]
  },
  {
   "cell_type": "markdown",
   "metadata": {
    "application/vnd.databricks.v1+cell": {
     "cellMetadata": {},
     "inputWidgets": {},
     "nuid": "1a9f3fb9-5198-4f73-9b1d-4adcd3d4720a",
     "showTitle": false,
     "title": ""
    }
   },
   "source": [
    "\n",
    "### Delet operation"
   ]
  },
  {
   "cell_type": "code",
   "execution_count": 0,
   "metadata": {
    "application/vnd.databricks.v1+cell": {
     "cellMetadata": {
      "byteLimit": 2048000,
      "rowLimit": 10000
     },
     "inputWidgets": {},
     "nuid": "3edfbc6b-5496-4776-b6d5-dbca242ccfd9",
     "showTitle": false,
     "title": ""
    }
   },
   "outputs": [
    {
     "output_type": "display_data",
     "data": {
      "text/html": [
       "<style scoped>\n",
       "  .table-result-container {\n",
       "    max-height: 300px;\n",
       "    overflow: auto;\n",
       "  }\n",
       "  table, th, td {\n",
       "    border: 1px solid black;\n",
       "    border-collapse: collapse;\n",
       "  }\n",
       "  th, td {\n",
       "    padding: 5px;\n",
       "  }\n",
       "  th {\n",
       "    text-align: left;\n",
       "  }\n",
       "</style><div class='table-result-container'><table class='table-result'><thead style='background-color: white'><tr><th>num_affected_rows</th></tr></thead><tbody><tr><td>1</td></tr></tbody></table></div>"
      ]
     },
     "metadata": {
      "application/vnd.databricks.v1+output": {
       "addedWidgets": {},
       "aggData": [],
       "aggError": "",
       "aggOverflow": false,
       "aggSchema": [],
       "aggSeriesLimitReached": false,
       "aggType": "",
       "arguments": {},
       "columnCustomDisplayInfos": {},
       "data": [
        [
         1
        ]
       ],
       "datasetInfos": [],
       "dbfsResultPath": null,
       "isJsonSchema": true,
       "metadata": {
        "isDbfsCommandResult": false
       },
       "overflow": false,
       "plotOptions": {
        "customPlotOptions": {},
        "displayType": "table",
        "pivotAggregation": null,
        "pivotColumns": null,
        "xColumns": null,
        "yColumns": null
       },
       "removedWidgets": [],
       "schema": [
        {
         "metadata": "{}",
         "name": "num_affected_rows",
         "type": "\"long\""
        }
       ],
       "type": "table"
      }
     },
     "output_type": "display_data"
    }
   ],
   "source": [
    "DELETE FROM `delta`.deltafile\n",
    "WHERE dense_rank =2"
   ]
  },
  {
   "cell_type": "code",
   "execution_count": 0,
   "metadata": {
    "application/vnd.databricks.v1+cell": {
     "cellMetadata": {
      "byteLimit": 2048000,
      "rowLimit": 10000
     },
     "inputWidgets": {},
     "nuid": "35ea7114-51fa-4bfa-b5c6-73c7a90cf7bc",
     "showTitle": false,
     "title": ""
    }
   },
   "outputs": [
    {
     "output_type": "display_data",
     "data": {
      "text/html": [
       "<style scoped>\n",
       "  .table-result-container {\n",
       "    max-height: 300px;\n",
       "    overflow: auto;\n",
       "  }\n",
       "  table, th, td {\n",
       "    border: 1px solid black;\n",
       "    border-collapse: collapse;\n",
       "  }\n",
       "  th, td {\n",
       "    padding: 5px;\n",
       "  }\n",
       "  th {\n",
       "    text-align: left;\n",
       "  }\n",
       "</style><div class='table-result-container'><table class='table-result'><thead style='background-color: white'><tr><th>Education_Level</th><th>Line_Number</th><th>Employed</th><th>Unemployed</th><th>Industry</th><th>Gender</th><th>Date_Inserted</th><th>dense_rank</th></tr></thead><tbody><tr><td>PhD</td><td>4</td><td>5500</td><td>500</td><td>Finance</td><td>Female</td><td>2023-07-12</td><td>4</td></tr><tr><td>Bachelor</td><td>1</td><td>4500</td><td>500</td><td>IT</td><td>Male</td><td>2023-07-12</td><td>1</td></tr><tr><td>High School</td><td>3</td><td>3500</td><td>500</td><td>Retail</td><td>Male</td><td>2023-07-12</td><td>3</td></tr></tbody></table></div>"
      ]
     },
     "metadata": {
      "application/vnd.databricks.v1+output": {
       "addedWidgets": {},
       "aggData": [],
       "aggError": "",
       "aggOverflow": false,
       "aggSchema": [],
       "aggSeriesLimitReached": false,
       "aggType": "",
       "arguments": {},
       "columnCustomDisplayInfos": {},
       "data": [
        [
         "PhD",
         4,
         5500,
         500,
         "Finance",
         "Female",
         "2023-07-12",
         4
        ],
        [
         "Bachelor",
         1,
         4500,
         500,
         "IT",
         "Male",
         "2023-07-12",
         1
        ],
        [
         "High School",
         3,
         3500,
         500,
         "Retail",
         "Male",
         "2023-07-12",
         3
        ]
       ],
       "datasetInfos": [],
       "dbfsResultPath": null,
       "isJsonSchema": true,
       "metadata": {
        "isDbfsCommandResult": false
       },
       "overflow": false,
       "plotOptions": {
        "customPlotOptions": {},
        "displayType": "table",
        "pivotAggregation": null,
        "pivotColumns": null,
        "xColumns": null,
        "yColumns": null
       },
       "removedWidgets": [],
       "schema": [
        {
         "metadata": "{\"__CHAR_VARCHAR_TYPE_STRING\":\"varchar(50)\"}",
         "name": "Education_Level",
         "type": "\"string\""
        },
        {
         "metadata": "{}",
         "name": "Line_Number",
         "type": "\"integer\""
        },
        {
         "metadata": "{}",
         "name": "Employed",
         "type": "\"integer\""
        },
        {
         "metadata": "{}",
         "name": "Unemployed",
         "type": "\"integer\""
        },
        {
         "metadata": "{\"__CHAR_VARCHAR_TYPE_STRING\":\"varchar(50)\"}",
         "name": "Industry",
         "type": "\"string\""
        },
        {
         "metadata": "{\"__CHAR_VARCHAR_TYPE_STRING\":\"varchar(10)\"}",
         "name": "Gender",
         "type": "\"string\""
        },
        {
         "metadata": "{}",
         "name": "Date_Inserted",
         "type": "\"date\""
        },
        {
         "metadata": "{}",
         "name": "dense_rank",
         "type": "\"integer\""
        }
       ],
       "type": "table"
      }
     },
     "output_type": "display_data"
    }
   ],
   "source": [
    "SELECT *\n",
    "FROM `delta`.deltafile"
   ]
  },
  {
   "cell_type": "code",
   "execution_count": 0,
   "metadata": {
    "application/vnd.databricks.v1+cell": {
     "cellMetadata": {
      "byteLimit": 2048000,
      "rowLimit": 10000
     },
     "inputWidgets": {},
     "nuid": "d0d763e3-7630-4b81-b970-2cb4e23f2971",
     "showTitle": false,
     "title": ""
    }
   },
   "outputs": [
    {
     "output_type": "execute_result",
     "data": {
      "text/plain": [
       "[FileInfo(path='dbfs:/user/hive/warehouse/delta.db/deltafile/_delta_log/', name='_delta_log/', size=0, modificationTime=1727744319000),\n",
       " FileInfo(path='dbfs:/user/hive/warehouse/delta.db/deltafile/deletion_vector_7ba7cf31-0a1a-407b-91e3-88240f3ea44c.bin', name='deletion_vector_7ba7cf31-0a1a-407b-91e3-88240f3ea44c.bin', size=43, modificationTime=1727745396000),\n",
       " FileInfo(path='dbfs:/user/hive/warehouse/delta.db/deltafile/deletion_vector_c2db8c3a-546f-4256-92ed-9432bf715c07.bin', name='deletion_vector_c2db8c3a-546f-4256-92ed-9432bf715c07.bin', size=43, modificationTime=1727744998000),\n",
       " FileInfo(path='dbfs:/user/hive/warehouse/delta.db/deltafile/part-00000-058db2f9-644c-43a9-98d5-51ca1de2eb8c-c000.snappy.parquet', name='part-00000-058db2f9-644c-43a9-98d5-51ca1de2eb8c-c000.snappy.parquet', size=2556, modificationTime=1727744601000),\n",
       " FileInfo(path='dbfs:/user/hive/warehouse/delta.db/deltafile/part-00000-192fda29-0f44-40b3-b159-73a9c5512207-c000.snappy.parquet', name='part-00000-192fda29-0f44-40b3-b159-73a9c5512207-c000.snappy.parquet', size=2375, modificationTime=1727745000000),\n",
       " FileInfo(path='dbfs:/user/hive/warehouse/delta.db/deltafile/part-00000-23eaa0f8-cf89-44b6-bf4d-7b405455e303-c000.snappy.parquet', name='part-00000-23eaa0f8-cf89-44b6-bf4d-7b405455e303-c000.snappy.parquet', size=2577, modificationTime=1727745012000)]"
      ]
     },
     "execution_count": 8,
     "metadata": {},
     "output_type": "execute_result"
    }
   ],
   "source": [
    "%python\n",
    "dbutils.fs.ls('dbfs:/user/hive/warehouse/delta.db/deltafile')"
   ]
  },
  {
   "cell_type": "code",
   "execution_count": 0,
   "metadata": {
    "application/vnd.databricks.v1+cell": {
     "cellMetadata": {},
     "inputWidgets": {},
     "nuid": "bf92a3a8-7c40-48e7-a584-f8ee6e7275c1",
     "showTitle": false,
     "title": ""
    }
   },
   "outputs": [],
   "source": [
    "%python\n",
    "dbutils.fs.ls('dbfs:/user/hive/warehouse/delta.db/deltafile/_delta_log')"
   ]
  },
  {
   "cell_type": "code",
   "execution_count": 0,
   "metadata": {
    "application/vnd.databricks.v1+cell": {
     "cellMetadata": {},
     "inputWidgets": {},
     "nuid": "72e376af-df75-4683-a853-13e1199ef665",
     "showTitle": false,
     "title": ""
    }
   },
   "outputs": [],
   "source": [
    "select *\n",
    "from TEXT.`dbfs:/user/hive/warehouse/delta.db/deltafile/_delta_log/00000000000000000003.json`"
   ]
  },
  {
   "cell_type": "code",
   "execution_count": 0,
   "metadata": {
    "application/vnd.databricks.v1+cell": {
     "cellMetadata": {},
     "inputWidgets": {},
     "nuid": "8247aa8d-c0e8-4eea-8ad9-f7aa203221f1",
     "showTitle": false,
     "title": ""
    }
   },
   "outputs": [],
   "source": []
  }
 ],
 "metadata": {
  "application/vnd.databricks.v1+notebook": {
   "dashboards": [],
   "environmentMetadata": null,
   "language": "sql",
   "notebookMetadata": {
    "pythonIndentUnit": 4
   },
   "notebookName": "03.Creating delta tables",
   "widgets": {}
  }
 },
 "nbformat": 4,
 "nbformat_minor": 0
}
