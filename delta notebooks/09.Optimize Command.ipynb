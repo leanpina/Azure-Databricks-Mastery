{
 "cells": [
  {
   "cell_type": "code",
   "execution_count": 0,
   "metadata": {
    "application/vnd.databricks.v1+cell": {
     "cellMetadata": {
      "byteLimit": 2048000,
      "rowLimit": 10000
     },
     "inputWidgets": {},
     "nuid": "57742ada-e6f2-42f9-b364-2ee2e5ffca62",
     "showTitle": false,
     "title": ""
    }
   },
   "outputs": [
    {
     "output_type": "display_data",
     "data": {
      "text/html": [
       "<style scoped>\n",
       "  .table-result-container {\n",
       "    max-height: 300px;\n",
       "    overflow: auto;\n",
       "  }\n",
       "  table, th, td {\n",
       "    border: 1px solid black;\n",
       "    border-collapse: collapse;\n",
       "  }\n",
       "  th, td {\n",
       "    padding: 5px;\n",
       "  }\n",
       "  th {\n",
       "    text-align: left;\n",
       "  }\n",
       "</style><div class='table-result-container'><table class='table-result'><thead style='background-color: white'><tr></tr></thead><tbody></tbody></table></div>"
      ]
     },
     "metadata": {
      "application/vnd.databricks.v1+output": {
       "addedWidgets": {},
       "aggData": [],
       "aggError": "",
       "aggOverflow": false,
       "aggSchema": [],
       "aggSeriesLimitReached": false,
       "aggType": "",
       "arguments": {},
       "columnCustomDisplayInfos": {},
       "data": [],
       "datasetInfos": [],
       "dbfsResultPath": null,
       "isJsonSchema": true,
       "metadata": {
        "isDbfsCommandResult": false
       },
       "overflow": false,
       "plotOptions": {
        "customPlotOptions": {},
        "displayType": "table",
        "pivotAggregation": null,
        "pivotColumns": null,
        "xColumns": null,
        "yColumns": null
       },
       "removedWidgets": [],
       "schema": [],
       "type": "table"
      }
     },
     "output_type": "display_data"
    }
   ],
   "source": [
    "CREATE TABLE `delta`.OptimizeTable\n",
    "(\n",
    "    Education_Level VARCHAR(50),\n",
    "    Line_Number INT,\n",
    "    Employed INT,\n",
    "    Unemployed INT,\n",
    "    Industry VARCHAR(50),\n",
    "    Gender VARCHAR(10),\n",
    "    Date_Inserted DATE,\n",
    "    dense_rank INT\n",
    ")"
   ]
  },
  {
   "cell_type": "markdown",
   "metadata": {
    "application/vnd.databricks.v1+cell": {
     "cellMetadata": {},
     "inputWidgets": {},
     "nuid": "3a2ef6fa-2ead-4ad5-a7ee-53ec7dc5883e",
     "showTitle": false,
     "title": ""
    }
   },
   "source": [
    "\n",
    "## List the location of Delta table "
   ]
  },
  {
   "cell_type": "code",
   "execution_count": 0,
   "metadata": {
    "application/vnd.databricks.v1+cell": {
     "cellMetadata": {
      "byteLimit": 2048000,
      "rowLimit": 10000
     },
     "inputWidgets": {},
     "nuid": "8daa93bd-0ecc-47ad-9026-aeb6665a3484",
     "showTitle": false,
     "title": ""
    }
   },
   "outputs": [
    {
     "output_type": "execute_result",
     "data": {
      "text/plain": [
       "[FileInfo(path='dbfs:/user/hive/warehouse/delta.db/optimizetable/_delta_log/', name='_delta_log/', size=0, modificationTime=1727876623000)]"
      ]
     },
     "execution_count": 1,
     "metadata": {},
     "output_type": "execute_result"
    }
   ],
   "source": [
    "%python\n",
    "dbutils.fs.ls('dbfs:/user/hive/warehouse/delta.db/optimizetable')"
   ]
  },
  {
   "cell_type": "code",
   "execution_count": 0,
   "metadata": {
    "application/vnd.databricks.v1+cell": {
     "cellMetadata": {
      "byteLimit": 2048000,
      "rowLimit": 10000
     },
     "inputWidgets": {},
     "nuid": "21aa0de6-9c69-483d-830e-179962498f00",
     "showTitle": false,
     "title": ""
    }
   },
   "outputs": [
    {
     "output_type": "execute_result",
     "data": {
      "text/plain": [
       "[FileInfo(path='dbfs:/user/hive/warehouse/delta.db/optimizetable/_delta_log/00000000000000000000.crc', name='00000000000000000000.crc', size=2847, modificationTime=1727876627000),\n",
       " FileInfo(path='dbfs:/user/hive/warehouse/delta.db/optimizetable/_delta_log/00000000000000000000.json', name='00000000000000000000.json', size=1778, modificationTime=1727876623000),\n",
       " FileInfo(path='dbfs:/user/hive/warehouse/delta.db/optimizetable/_delta_log/__tmp_path_dir/', name='__tmp_path_dir/', size=0, modificationTime=1727876623000),\n",
       " FileInfo(path='dbfs:/user/hive/warehouse/delta.db/optimizetable/_delta_log/_commits/', name='_commits/', size=0, modificationTime=1727876623000)]"
      ]
     },
     "execution_count": 2,
     "metadata": {},
     "output_type": "execute_result"
    }
   ],
   "source": [
    "%python\n",
    "dbutils.fs.ls('dbfs:/user/hive/warehouse/delta.db/optimizetable/_delta_log')"
   ]
  },
  {
   "cell_type": "markdown",
   "metadata": {
    "application/vnd.databricks.v1+cell": {
     "cellMetadata": {},
     "inputWidgets": {},
     "nuid": "9d8ccd1e-d816-4e9c-bb86-862de3a5ce29",
     "showTitle": false,
     "title": ""
    }
   },
   "source": [
    "Como não entramos com nenhum dado ainda, nesse arquivo json temos o tipo da operação : \"CREATE TABLE\" e os metadados do schema."
   ]
  },
  {
   "cell_type": "code",
   "execution_count": 0,
   "metadata": {
    "application/vnd.databricks.v1+cell": {
     "cellMetadata": {
      "byteLimit": 2048000,
      "rowLimit": 10000
     },
     "inputWidgets": {},
     "nuid": "a6895ca5-a720-4112-8db4-b9b15d6955a8",
     "showTitle": false,
     "title": ""
    }
   },
   "outputs": [
    {
     "output_type": "display_data",
     "data": {
      "text/html": [
       "<style scoped>\n",
       "  .table-result-container {\n",
       "    max-height: 300px;\n",
       "    overflow: auto;\n",
       "  }\n",
       "  table, th, td {\n",
       "    border: 1px solid black;\n",
       "    border-collapse: collapse;\n",
       "  }\n",
       "  th, td {\n",
       "    padding: 5px;\n",
       "  }\n",
       "  th {\n",
       "    text-align: left;\n",
       "  }\n",
       "</style><div class='table-result-container'><table class='table-result'><thead style='background-color: white'><tr><th>value</th></tr></thead><tbody><tr><td>{\"commitInfo\":{\"timestamp\":1727876623303,\"userId\":\"2239208310904017\",\"userName\":\"lepina73@hotmail.com\",\"operation\":\"CREATE TABLE\",\"operationParameters\":{\"partitionBy\":\"[]\",\"clusterBy\":\"[]\",\"description\":null,\"isManaged\":\"true\",\"properties\":\"{\\\"delta.enableDeletionVectors\\\":\\\"true\\\"}\",\"statsOnLoad\":false},\"notebook\":{\"notebookId\":\"1568999877190023\"},\"clusterId\":\"1002-133533-ruymvarr\",\"isolationLevel\":\"WriteSerializable\",\"isBlindAppend\":true,\"operationMetrics\":{},\"tags\":{\"restoresDeletedRows\":\"false\"},\"engineInfo\":\"Databricks-Runtime/15.4.x-scala2.12\",\"txnId\":\"a8f95ca8-fd08-40ca-be60-4e100b2acb6e\"}}</td></tr><tr><td>{\"metaData\":{\"id\":\"914efdee-3f7d-4e32-94d8-80f22cc84eaf\",\"format\":{\"provider\":\"parquet\",\"options\":{}},\"schemaString\":\"{\\\"type\\\":\\\"struct\\\",\\\"fields\\\":[{\\\"name\\\":\\\"Education_Level\\\",\\\"type\\\":\\\"string\\\",\\\"nullable\\\":true,\\\"metadata\\\":{\\\"__CHAR_VARCHAR_TYPE_STRING\\\":\\\"varchar(50)\\\"}},{\\\"name\\\":\\\"Line_Number\\\",\\\"type\\\":\\\"integer\\\",\\\"nullable\\\":true,\\\"metadata\\\":{}},{\\\"name\\\":\\\"Employed\\\",\\\"type\\\":\\\"integer\\\",\\\"nullable\\\":true,\\\"metadata\\\":{}},{\\\"name\\\":\\\"Unemployed\\\",\\\"type\\\":\\\"integer\\\",\\\"nullable\\\":true,\\\"metadata\\\":{}},{\\\"name\\\":\\\"Industry\\\",\\\"type\\\":\\\"string\\\",\\\"nullable\\\":true,\\\"metadata\\\":{\\\"__CHAR_VARCHAR_TYPE_STRING\\\":\\\"varchar(50)\\\"}},{\\\"name\\\":\\\"Gender\\\",\\\"type\\\":\\\"string\\\",\\\"nullable\\\":true,\\\"metadata\\\":{\\\"__CHAR_VARCHAR_TYPE_STRING\\\":\\\"varchar(10)\\\"}},{\\\"name\\\":\\\"Date_Inserted\\\",\\\"type\\\":\\\"date\\\",\\\"nullable\\\":true,\\\"metadata\\\":{}},{\\\"name\\\":\\\"dense_rank\\\",\\\"type\\\":\\\"integer\\\",\\\"nullable\\\":true,\\\"metadata\\\":{}}]}\",\"partitionColumns\":[],\"configuration\":{\"delta.enableDeletionVectors\":\"true\"},\"createdTime\":1727876622878}}</td></tr><tr><td>{\"protocol\":{\"minReaderVersion\":3,\"minWriterVersion\":7,\"readerFeatures\":[\"deletionVectors\"],\"writerFeatures\":[\"deletionVectors\"]}}</td></tr></tbody></table></div>"
      ]
     },
     "metadata": {
      "application/vnd.databricks.v1+output": {
       "addedWidgets": {},
       "aggData": [],
       "aggError": "",
       "aggOverflow": false,
       "aggSchema": [],
       "aggSeriesLimitReached": false,
       "aggType": "",
       "arguments": {},
       "columnCustomDisplayInfos": {},
       "data": [
        [
         "{\"commitInfo\":{\"timestamp\":1727876623303,\"userId\":\"2239208310904017\",\"userName\":\"lepina73@hotmail.com\",\"operation\":\"CREATE TABLE\",\"operationParameters\":{\"partitionBy\":\"[]\",\"clusterBy\":\"[]\",\"description\":null,\"isManaged\":\"true\",\"properties\":\"{\\\"delta.enableDeletionVectors\\\":\\\"true\\\"}\",\"statsOnLoad\":false},\"notebook\":{\"notebookId\":\"1568999877190023\"},\"clusterId\":\"1002-133533-ruymvarr\",\"isolationLevel\":\"WriteSerializable\",\"isBlindAppend\":true,\"operationMetrics\":{},\"tags\":{\"restoresDeletedRows\":\"false\"},\"engineInfo\":\"Databricks-Runtime/15.4.x-scala2.12\",\"txnId\":\"a8f95ca8-fd08-40ca-be60-4e100b2acb6e\"}}"
        ],
        [
         "{\"metaData\":{\"id\":\"914efdee-3f7d-4e32-94d8-80f22cc84eaf\",\"format\":{\"provider\":\"parquet\",\"options\":{}},\"schemaString\":\"{\\\"type\\\":\\\"struct\\\",\\\"fields\\\":[{\\\"name\\\":\\\"Education_Level\\\",\\\"type\\\":\\\"string\\\",\\\"nullable\\\":true,\\\"metadata\\\":{\\\"__CHAR_VARCHAR_TYPE_STRING\\\":\\\"varchar(50)\\\"}},{\\\"name\\\":\\\"Line_Number\\\",\\\"type\\\":\\\"integer\\\",\\\"nullable\\\":true,\\\"metadata\\\":{}},{\\\"name\\\":\\\"Employed\\\",\\\"type\\\":\\\"integer\\\",\\\"nullable\\\":true,\\\"metadata\\\":{}},{\\\"name\\\":\\\"Unemployed\\\",\\\"type\\\":\\\"integer\\\",\\\"nullable\\\":true,\\\"metadata\\\":{}},{\\\"name\\\":\\\"Industry\\\",\\\"type\\\":\\\"string\\\",\\\"nullable\\\":true,\\\"metadata\\\":{\\\"__CHAR_VARCHAR_TYPE_STRING\\\":\\\"varchar(50)\\\"}},{\\\"name\\\":\\\"Gender\\\",\\\"type\\\":\\\"string\\\",\\\"nullable\\\":true,\\\"metadata\\\":{\\\"__CHAR_VARCHAR_TYPE_STRING\\\":\\\"varchar(10)\\\"}},{\\\"name\\\":\\\"Date_Inserted\\\",\\\"type\\\":\\\"date\\\",\\\"nullable\\\":true,\\\"metadata\\\":{}},{\\\"name\\\":\\\"dense_rank\\\",\\\"type\\\":\\\"integer\\\",\\\"nullable\\\":true,\\\"metadata\\\":{}}]}\",\"partitionColumns\":[],\"configuration\":{\"delta.enableDeletionVectors\":\"true\"},\"createdTime\":1727876622878}}"
        ],
        [
         "{\"protocol\":{\"minReaderVersion\":3,\"minWriterVersion\":7,\"readerFeatures\":[\"deletionVectors\"],\"writerFeatures\":[\"deletionVectors\"]}}"
        ]
       ],
       "datasetInfos": [],
       "dbfsResultPath": null,
       "isJsonSchema": true,
       "metadata": {},
       "overflow": false,
       "plotOptions": {
        "customPlotOptions": {},
        "displayType": "table",
        "pivotAggregation": null,
        "pivotColumns": null,
        "xColumns": null,
        "yColumns": null
       },
       "removedWidgets": [],
       "schema": [
        {
         "metadata": "{}",
         "name": "value",
         "type": "\"string\""
        }
       ],
       "type": "table"
      }
     },
     "output_type": "display_data"
    }
   ],
   "source": [
    "%python\n",
    "\n",
    "display(spark.read.format('text').load('dbfs:/user/hive/warehouse/delta.db/optimizetable/_delta_log/00000000000000000000.json'))"
   ]
  },
  {
   "cell_type": "code",
   "execution_count": 0,
   "metadata": {
    "application/vnd.databricks.v1+cell": {
     "cellMetadata": {
      "byteLimit": 2048000,
      "rowLimit": 10000
     },
     "inputWidgets": {},
     "nuid": "b3716085-c474-44c4-b134-3e33a38d3a97",
     "showTitle": false,
     "title": ""
    }
   },
   "outputs": [
    {
     "output_type": "display_data",
     "data": {
      "text/html": [
       "<style scoped>\n",
       "  .table-result-container {\n",
       "    max-height: 300px;\n",
       "    overflow: auto;\n",
       "  }\n",
       "  table, th, td {\n",
       "    border: 1px solid black;\n",
       "    border-collapse: collapse;\n",
       "  }\n",
       "  th, td {\n",
       "    padding: 5px;\n",
       "  }\n",
       "  th {\n",
       "    text-align: left;\n",
       "  }\n",
       "</style><div class='table-result-container'><table class='table-result'><thead style='background-color: white'><tr><th>num_affected_rows</th><th>num_inserted_rows</th></tr></thead><tbody><tr><td>1</td><td>1</td></tr></tbody></table></div>"
      ]
     },
     "metadata": {
      "application/vnd.databricks.v1+output": {
       "addedWidgets": {},
       "aggData": [],
       "aggError": "",
       "aggOverflow": false,
       "aggSchema": [],
       "aggSeriesLimitReached": false,
       "aggType": "",
       "arguments": {},
       "columnCustomDisplayInfos": {},
       "data": [
        [
         1,
         1
        ]
       ],
       "datasetInfos": [],
       "dbfsResultPath": null,
       "isJsonSchema": true,
       "metadata": {
        "isDbfsCommandResult": false
       },
       "overflow": false,
       "plotOptions": {
        "customPlotOptions": {},
        "displayType": "table",
        "pivotAggregation": null,
        "pivotColumns": null,
        "xColumns": null,
        "yColumns": null
       },
       "removedWidgets": [],
       "schema": [
        {
         "metadata": "{}",
         "name": "num_affected_rows",
         "type": "\"long\""
        },
        {
         "metadata": "{}",
         "name": "num_inserted_rows",
         "type": "\"long\""
        }
       ],
       "type": "table"
      }
     },
     "output_type": "display_data"
    }
   ],
   "source": [
    "-- Line number 100\n",
    "INSERT INTO delta.OptimizeTable\n",
    "VALUES\n",
    "    ('Bachelor', 100,  4500, 500, 'Networking', 'Male', '2023-07-12', 1)"
   ]
  },
  {
   "cell_type": "markdown",
   "metadata": {
    "application/vnd.databricks.v1+cell": {
     "cellMetadata": {},
     "inputWidgets": {},
     "nuid": "177fb2dc-a5cf-49f2-8db7-8e4f08a1580f",
     "showTitle": false,
     "title": ""
    }
   },
   "source": [
    "\n",
    "## Reading JSON to understand which parquet file got inserted"
   ]
  },
  {
   "cell_type": "code",
   "execution_count": 0,
   "metadata": {
    "application/vnd.databricks.v1+cell": {
     "cellMetadata": {
      "byteLimit": 2048000,
      "rowLimit": 10000
     },
     "inputWidgets": {},
     "nuid": "2e6bf243-9a30-4a30-b3a9-c4d9700dc484",
     "showTitle": false,
     "title": ""
    }
   },
   "outputs": [
    {
     "output_type": "execute_result",
     "data": {
      "text/plain": [
       "[FileInfo(path='dbfs:/user/hive/warehouse/delta.db/optimizetable/_delta_log/00000000000000000000.crc', name='00000000000000000000.crc', size=2847, modificationTime=1727876627000),\n",
       " FileInfo(path='dbfs:/user/hive/warehouse/delta.db/optimizetable/_delta_log/00000000000000000000.json', name='00000000000000000000.json', size=1778, modificationTime=1727876623000),\n",
       " FileInfo(path='dbfs:/user/hive/warehouse/delta.db/optimizetable/_delta_log/00000000000000000001.crc', name='00000000000000000001.crc', size=3787, modificationTime=1727876897000),\n",
       " FileInfo(path='dbfs:/user/hive/warehouse/delta.db/optimizetable/_delta_log/00000000000000000001.json', name='00000000000000000001.json', size=1539, modificationTime=1727876894000),\n",
       " FileInfo(path='dbfs:/user/hive/warehouse/delta.db/optimizetable/_delta_log/__tmp_path_dir/', name='__tmp_path_dir/', size=0, modificationTime=1727876623000),\n",
       " FileInfo(path='dbfs:/user/hive/warehouse/delta.db/optimizetable/_delta_log/_commits/', name='_commits/', size=0, modificationTime=1727876623000)]"
      ]
     },
     "execution_count": 4,
     "metadata": {},
     "output_type": "execute_result"
    }
   ],
   "source": [
    "%python\n",
    "dbutils.fs.ls('dbfs:/user/hive/warehouse/delta.db/optimizetable/_delta_log')"
   ]
  },
  {
   "cell_type": "markdown",
   "metadata": {
    "application/vnd.databricks.v1+cell": {
     "cellMetadata": {},
     "inputWidgets": {},
     "nuid": "90600499-2659-4e0f-8d39-8fe030203ea1",
     "showTitle": false,
     "title": ""
    }
   },
   "source": [
    "WRITE 1: \\\n",
    "{\"add\":{\"path\":\"part-00000-962a7906-8469-4487-a7c3-50ca26131d6f-c000.snappy.parquet\""
   ]
  },
  {
   "cell_type": "code",
   "execution_count": 0,
   "metadata": {
    "application/vnd.databricks.v1+cell": {
     "cellMetadata": {
      "byteLimit": 2048000,
      "rowLimit": 10000
     },
     "inputWidgets": {},
     "nuid": "9105cdbd-4a25-44a9-b153-15e78fd82c28",
     "showTitle": false,
     "title": ""
    }
   },
   "outputs": [
    {
     "output_type": "display_data",
     "data": {
      "text/html": [
       "<style scoped>\n",
       "  .table-result-container {\n",
       "    max-height: 300px;\n",
       "    overflow: auto;\n",
       "  }\n",
       "  table, th, td {\n",
       "    border: 1px solid black;\n",
       "    border-collapse: collapse;\n",
       "  }\n",
       "  th, td {\n",
       "    padding: 5px;\n",
       "  }\n",
       "  th {\n",
       "    text-align: left;\n",
       "  }\n",
       "</style><div class='table-result-container'><table class='table-result'><thead style='background-color: white'><tr><th>value</th></tr></thead><tbody><tr><td>{\"commitInfo\":{\"timestamp\":1727876894804,\"userId\":\"2239208310904017\",\"userName\":\"lepina73@hotmail.com\",\"operation\":\"WRITE\",\"operationParameters\":{\"mode\":\"Append\",\"statsOnLoad\":false,\"partitionBy\":\"[]\"},\"notebook\":{\"notebookId\":\"1568999877190023\"},\"clusterId\":\"1002-133533-ruymvarr\",\"readVersion\":0,\"isolationLevel\":\"WriteSerializable\",\"isBlindAppend\":true,\"operationMetrics\":{\"numFiles\":\"1\",\"numOutputRows\":\"1\",\"numOutputBytes\":\"2417\"},\"tags\":{\"noRowsCopied\":\"true\",\"restoresDeletedRows\":\"false\"},\"engineInfo\":\"Databricks-Runtime/15.4.x-scala2.12\",\"txnId\":\"fe130e92-475d-45d0-b007-0ff0a9088fd6\"}}</td></tr><tr><td>{\"add\":{\"path\":\"part-00000-962a7906-8469-4487-a7c3-50ca26131d6f-c000.snappy.parquet\",\"partitionValues\":{},\"size\":2417,\"modificationTime\":1727876894000,\"dataChange\":true,\"stats\":\"{\\\"numRecords\\\":1,\\\"minValues\\\":{\\\"Education_Level\\\":\\\"Bachelor\\\",\\\"Line_Number\\\":100,\\\"Employed\\\":4500,\\\"Unemployed\\\":500,\\\"Industry\\\":\\\"Networking\\\",\\\"Gender\\\":\\\"Male\\\",\\\"Date_Inserted\\\":\\\"2023-07-12\\\",\\\"dense_rank\\\":1},\\\"maxValues\\\":{\\\"Education_Level\\\":\\\"Bachelor\\\",\\\"Line_Number\\\":100,\\\"Employed\\\":4500,\\\"Unemployed\\\":500,\\\"Industry\\\":\\\"Networking\\\",\\\"Gender\\\":\\\"Male\\\",\\\"Date_Inserted\\\":\\\"2023-07-12\\\",\\\"dense_rank\\\":1},\\\"nullCount\\\":{\\\"Education_Level\\\":0,\\\"Line_Number\\\":0,\\\"Employed\\\":0,\\\"Unemployed\\\":0,\\\"Industry\\\":0,\\\"Gender\\\":0,\\\"Date_Inserted\\\":0,\\\"dense_rank\\\":0},\\\"tightBounds\\\":true}\",\"tags\":{\"INSERTION_TIME\":\"1727876894000000\",\"MIN_INSERTION_TIME\":\"1727876894000000\",\"MAX_INSERTION_TIME\":\"1727876894000000\",\"OPTIMIZE_TARGET_SIZE\":\"268435456\"}}}</td></tr></tbody></table></div>"
      ]
     },
     "metadata": {
      "application/vnd.databricks.v1+output": {
       "addedWidgets": {},
       "aggData": [],
       "aggError": "",
       "aggOverflow": false,
       "aggSchema": [],
       "aggSeriesLimitReached": false,
       "aggType": "",
       "arguments": {},
       "columnCustomDisplayInfos": {},
       "data": [
        [
         "{\"commitInfo\":{\"timestamp\":1727876894804,\"userId\":\"2239208310904017\",\"userName\":\"lepina73@hotmail.com\",\"operation\":\"WRITE\",\"operationParameters\":{\"mode\":\"Append\",\"statsOnLoad\":false,\"partitionBy\":\"[]\"},\"notebook\":{\"notebookId\":\"1568999877190023\"},\"clusterId\":\"1002-133533-ruymvarr\",\"readVersion\":0,\"isolationLevel\":\"WriteSerializable\",\"isBlindAppend\":true,\"operationMetrics\":{\"numFiles\":\"1\",\"numOutputRows\":\"1\",\"numOutputBytes\":\"2417\"},\"tags\":{\"noRowsCopied\":\"true\",\"restoresDeletedRows\":\"false\"},\"engineInfo\":\"Databricks-Runtime/15.4.x-scala2.12\",\"txnId\":\"fe130e92-475d-45d0-b007-0ff0a9088fd6\"}}"
        ],
        [
         "{\"add\":{\"path\":\"part-00000-962a7906-8469-4487-a7c3-50ca26131d6f-c000.snappy.parquet\",\"partitionValues\":{},\"size\":2417,\"modificationTime\":1727876894000,\"dataChange\":true,\"stats\":\"{\\\"numRecords\\\":1,\\\"minValues\\\":{\\\"Education_Level\\\":\\\"Bachelor\\\",\\\"Line_Number\\\":100,\\\"Employed\\\":4500,\\\"Unemployed\\\":500,\\\"Industry\\\":\\\"Networking\\\",\\\"Gender\\\":\\\"Male\\\",\\\"Date_Inserted\\\":\\\"2023-07-12\\\",\\\"dense_rank\\\":1},\\\"maxValues\\\":{\\\"Education_Level\\\":\\\"Bachelor\\\",\\\"Line_Number\\\":100,\\\"Employed\\\":4500,\\\"Unemployed\\\":500,\\\"Industry\\\":\\\"Networking\\\",\\\"Gender\\\":\\\"Male\\\",\\\"Date_Inserted\\\":\\\"2023-07-12\\\",\\\"dense_rank\\\":1},\\\"nullCount\\\":{\\\"Education_Level\\\":0,\\\"Line_Number\\\":0,\\\"Employed\\\":0,\\\"Unemployed\\\":0,\\\"Industry\\\":0,\\\"Gender\\\":0,\\\"Date_Inserted\\\":0,\\\"dense_rank\\\":0},\\\"tightBounds\\\":true}\",\"tags\":{\"INSERTION_TIME\":\"1727876894000000\",\"MIN_INSERTION_TIME\":\"1727876894000000\",\"MAX_INSERTION_TIME\":\"1727876894000000\",\"OPTIMIZE_TARGET_SIZE\":\"268435456\"}}}"
        ]
       ],
       "datasetInfos": [],
       "dbfsResultPath": null,
       "isJsonSchema": true,
       "metadata": {},
       "overflow": false,
       "plotOptions": {
        "customPlotOptions": {},
        "displayType": "table",
        "pivotAggregation": null,
        "pivotColumns": null,
        "xColumns": null,
        "yColumns": null
       },
       "removedWidgets": [],
       "schema": [
        {
         "metadata": "{}",
         "name": "value",
         "type": "\"string\""
        }
       ],
       "type": "table"
      }
     },
     "output_type": "display_data"
    }
   ],
   "source": [
    "%python\n",
    "\n",
    "display(spark.read.format('text').load('dbfs:/user/hive/warehouse/delta.db/optimizetable/_delta_log/00000000000000000001.json'))"
   ]
  },
  {
   "cell_type": "code",
   "execution_count": 0,
   "metadata": {
    "application/vnd.databricks.v1+cell": {
     "cellMetadata": {
      "byteLimit": 2048000,
      "rowLimit": 10000
     },
     "inputWidgets": {},
     "nuid": "cbed46df-d22a-4c80-951a-399153272cce",
     "showTitle": false,
     "title": ""
    }
   },
   "outputs": [
    {
     "output_type": "display_data",
     "data": {
      "text/html": [
       "<style scoped>\n",
       "  .table-result-container {\n",
       "    max-height: 300px;\n",
       "    overflow: auto;\n",
       "  }\n",
       "  table, th, td {\n",
       "    border: 1px solid black;\n",
       "    border-collapse: collapse;\n",
       "  }\n",
       "  th, td {\n",
       "    padding: 5px;\n",
       "  }\n",
       "  th {\n",
       "    text-align: left;\n",
       "  }\n",
       "</style><div class='table-result-container'><table class='table-result'><thead style='background-color: white'><tr><th>num_affected_rows</th><th>num_inserted_rows</th></tr></thead><tbody><tr><td>1</td><td>1</td></tr></tbody></table></div>"
      ]
     },
     "metadata": {
      "application/vnd.databricks.v1+output": {
       "addedWidgets": {},
       "aggData": [],
       "aggError": "",
       "aggOverflow": false,
       "aggSchema": [],
       "aggSeriesLimitReached": false,
       "aggType": "",
       "arguments": {},
       "columnCustomDisplayInfos": {},
       "data": [
        [
         1,
         1
        ]
       ],
       "datasetInfos": [],
       "dbfsResultPath": null,
       "isJsonSchema": true,
       "metadata": {
        "isDbfsCommandResult": false
       },
       "overflow": false,
       "plotOptions": {
        "customPlotOptions": {},
        "displayType": "table",
        "pivotAggregation": null,
        "pivotColumns": null,
        "xColumns": null,
        "yColumns": null
       },
       "removedWidgets": [],
       "schema": [
        {
         "metadata": "{}",
         "name": "num_affected_rows",
         "type": "\"long\""
        },
        {
         "metadata": "{}",
         "name": "num_inserted_rows",
         "type": "\"long\""
        }
       ],
       "type": "table"
      }
     },
     "output_type": "display_data"
    }
   ],
   "source": [
    "-- Line Number row is having value 101\n",
    "\n",
    "INSERT INTO delta.OptimizeTable\n",
    "VALUES\n",
    "    ('Bachelor', 101, 5200, 700, 'Networking', 'Male', '2023-07-12', 2)"
   ]
  },
  {
   "cell_type": "markdown",
   "metadata": {
    "application/vnd.databricks.v1+cell": {
     "cellMetadata": {},
     "inputWidgets": {},
     "nuid": "4b9ace2f-f0ed-4290-b2a4-d5b0607800b1",
     "showTitle": false,
     "title": ""
    }
   },
   "source": [
    "\n",
    "## Reading JSON to understand which parquet file got inserted"
   ]
  },
  {
   "cell_type": "code",
   "execution_count": 0,
   "metadata": {
    "application/vnd.databricks.v1+cell": {
     "cellMetadata": {
      "byteLimit": 2048000,
      "rowLimit": 10000
     },
     "inputWidgets": {},
     "nuid": "8e71dc36-86b3-4d4c-b99c-89459a1d56e9",
     "showTitle": false,
     "title": ""
    }
   },
   "outputs": [
    {
     "output_type": "execute_result",
     "data": {
      "text/plain": [
       "[FileInfo(path='dbfs:/user/hive/warehouse/delta.db/optimizetable/_delta_log/00000000000000000000.crc', name='00000000000000000000.crc', size=2847, modificationTime=1727876627000),\n",
       " FileInfo(path='dbfs:/user/hive/warehouse/delta.db/optimizetable/_delta_log/00000000000000000000.json', name='00000000000000000000.json', size=1778, modificationTime=1727876623000),\n",
       " FileInfo(path='dbfs:/user/hive/warehouse/delta.db/optimizetable/_delta_log/00000000000000000001.crc', name='00000000000000000001.crc', size=3787, modificationTime=1727876897000),\n",
       " FileInfo(path='dbfs:/user/hive/warehouse/delta.db/optimizetable/_delta_log/00000000000000000001.json', name='00000000000000000001.json', size=1539, modificationTime=1727876894000),\n",
       " FileInfo(path='dbfs:/user/hive/warehouse/delta.db/optimizetable/_delta_log/00000000000000000002.crc', name='00000000000000000002.crc', size=4722, modificationTime=1727877025000),\n",
       " FileInfo(path='dbfs:/user/hive/warehouse/delta.db/optimizetable/_delta_log/00000000000000000002.json', name='00000000000000000002.json', size=1539, modificationTime=1727877023000),\n",
       " FileInfo(path='dbfs:/user/hive/warehouse/delta.db/optimizetable/_delta_log/__tmp_path_dir/', name='__tmp_path_dir/', size=0, modificationTime=1727876623000),\n",
       " FileInfo(path='dbfs:/user/hive/warehouse/delta.db/optimizetable/_delta_log/_commits/', name='_commits/', size=0, modificationTime=1727876623000)]"
      ]
     },
     "execution_count": 6,
     "metadata": {},
     "output_type": "execute_result"
    }
   ],
   "source": [
    "%python\n",
    "dbutils.fs.ls('dbfs:/user/hive/warehouse/delta.db/optimizetable/_delta_log')"
   ]
  },
  {
   "cell_type": "markdown",
   "metadata": {
    "application/vnd.databricks.v1+cell": {
     "cellMetadata": {},
     "inputWidgets": {},
     "nuid": "f3171ba2-305c-415d-805c-8034f9764f2b",
     "showTitle": false,
     "title": ""
    }
   },
   "source": [
    "WRITE 2:\\\n",
    "\"add\":{\"path\":\"part-00000-939b1782-4de2-4568-88b3-2ed3febcd095-c000.snappy.parquet\""
   ]
  },
  {
   "cell_type": "code",
   "execution_count": 0,
   "metadata": {
    "application/vnd.databricks.v1+cell": {
     "cellMetadata": {
      "byteLimit": 2048000,
      "rowLimit": 10000
     },
     "inputWidgets": {},
     "nuid": "33d2f441-be57-4120-b0d2-e8455aaa9a3c",
     "showTitle": false,
     "title": ""
    }
   },
   "outputs": [
    {
     "output_type": "display_data",
     "data": {
      "text/html": [
       "<style scoped>\n",
       "  .table-result-container {\n",
       "    max-height: 300px;\n",
       "    overflow: auto;\n",
       "  }\n",
       "  table, th, td {\n",
       "    border: 1px solid black;\n",
       "    border-collapse: collapse;\n",
       "  }\n",
       "  th, td {\n",
       "    padding: 5px;\n",
       "  }\n",
       "  th {\n",
       "    text-align: left;\n",
       "  }\n",
       "</style><div class='table-result-container'><table class='table-result'><thead style='background-color: white'><tr><th>value</th></tr></thead><tbody><tr><td>{\"commitInfo\":{\"timestamp\":1727877023159,\"userId\":\"2239208310904017\",\"userName\":\"lepina73@hotmail.com\",\"operation\":\"WRITE\",\"operationParameters\":{\"mode\":\"Append\",\"statsOnLoad\":false,\"partitionBy\":\"[]\"},\"notebook\":{\"notebookId\":\"1568999877190023\"},\"clusterId\":\"1002-133533-ruymvarr\",\"readVersion\":1,\"isolationLevel\":\"WriteSerializable\",\"isBlindAppend\":true,\"operationMetrics\":{\"numFiles\":\"1\",\"numOutputRows\":\"1\",\"numOutputBytes\":\"2417\"},\"tags\":{\"noRowsCopied\":\"true\",\"restoresDeletedRows\":\"false\"},\"engineInfo\":\"Databricks-Runtime/15.4.x-scala2.12\",\"txnId\":\"0110f6d0-a54b-4e81-b67b-4fa9c2ef6857\"}}</td></tr><tr><td>{\"add\":{\"path\":\"part-00000-939b1782-4de2-4568-88b3-2ed3febcd095-c000.snappy.parquet\",\"partitionValues\":{},\"size\":2417,\"modificationTime\":1727877023000,\"dataChange\":true,\"stats\":\"{\\\"numRecords\\\":1,\\\"minValues\\\":{\\\"Education_Level\\\":\\\"Bachelor\\\",\\\"Line_Number\\\":101,\\\"Employed\\\":5200,\\\"Unemployed\\\":700,\\\"Industry\\\":\\\"Networking\\\",\\\"Gender\\\":\\\"Male\\\",\\\"Date_Inserted\\\":\\\"2023-07-12\\\",\\\"dense_rank\\\":2},\\\"maxValues\\\":{\\\"Education_Level\\\":\\\"Bachelor\\\",\\\"Line_Number\\\":101,\\\"Employed\\\":5200,\\\"Unemployed\\\":700,\\\"Industry\\\":\\\"Networking\\\",\\\"Gender\\\":\\\"Male\\\",\\\"Date_Inserted\\\":\\\"2023-07-12\\\",\\\"dense_rank\\\":2},\\\"nullCount\\\":{\\\"Education_Level\\\":0,\\\"Line_Number\\\":0,\\\"Employed\\\":0,\\\"Unemployed\\\":0,\\\"Industry\\\":0,\\\"Gender\\\":0,\\\"Date_Inserted\\\":0,\\\"dense_rank\\\":0},\\\"tightBounds\\\":true}\",\"tags\":{\"INSERTION_TIME\":\"1727877023000000\",\"MIN_INSERTION_TIME\":\"1727877023000000\",\"MAX_INSERTION_TIME\":\"1727877023000000\",\"OPTIMIZE_TARGET_SIZE\":\"268435456\"}}}</td></tr></tbody></table></div>"
      ]
     },
     "metadata": {
      "application/vnd.databricks.v1+output": {
       "addedWidgets": {},
       "aggData": [],
       "aggError": "",
       "aggOverflow": false,
       "aggSchema": [],
       "aggSeriesLimitReached": false,
       "aggType": "",
       "arguments": {},
       "columnCustomDisplayInfos": {},
       "data": [
        [
         "{\"commitInfo\":{\"timestamp\":1727877023159,\"userId\":\"2239208310904017\",\"userName\":\"lepina73@hotmail.com\",\"operation\":\"WRITE\",\"operationParameters\":{\"mode\":\"Append\",\"statsOnLoad\":false,\"partitionBy\":\"[]\"},\"notebook\":{\"notebookId\":\"1568999877190023\"},\"clusterId\":\"1002-133533-ruymvarr\",\"readVersion\":1,\"isolationLevel\":\"WriteSerializable\",\"isBlindAppend\":true,\"operationMetrics\":{\"numFiles\":\"1\",\"numOutputRows\":\"1\",\"numOutputBytes\":\"2417\"},\"tags\":{\"noRowsCopied\":\"true\",\"restoresDeletedRows\":\"false\"},\"engineInfo\":\"Databricks-Runtime/15.4.x-scala2.12\",\"txnId\":\"0110f6d0-a54b-4e81-b67b-4fa9c2ef6857\"}}"
        ],
        [
         "{\"add\":{\"path\":\"part-00000-939b1782-4de2-4568-88b3-2ed3febcd095-c000.snappy.parquet\",\"partitionValues\":{},\"size\":2417,\"modificationTime\":1727877023000,\"dataChange\":true,\"stats\":\"{\\\"numRecords\\\":1,\\\"minValues\\\":{\\\"Education_Level\\\":\\\"Bachelor\\\",\\\"Line_Number\\\":101,\\\"Employed\\\":5200,\\\"Unemployed\\\":700,\\\"Industry\\\":\\\"Networking\\\",\\\"Gender\\\":\\\"Male\\\",\\\"Date_Inserted\\\":\\\"2023-07-12\\\",\\\"dense_rank\\\":2},\\\"maxValues\\\":{\\\"Education_Level\\\":\\\"Bachelor\\\",\\\"Line_Number\\\":101,\\\"Employed\\\":5200,\\\"Unemployed\\\":700,\\\"Industry\\\":\\\"Networking\\\",\\\"Gender\\\":\\\"Male\\\",\\\"Date_Inserted\\\":\\\"2023-07-12\\\",\\\"dense_rank\\\":2},\\\"nullCount\\\":{\\\"Education_Level\\\":0,\\\"Line_Number\\\":0,\\\"Employed\\\":0,\\\"Unemployed\\\":0,\\\"Industry\\\":0,\\\"Gender\\\":0,\\\"Date_Inserted\\\":0,\\\"dense_rank\\\":0},\\\"tightBounds\\\":true}\",\"tags\":{\"INSERTION_TIME\":\"1727877023000000\",\"MIN_INSERTION_TIME\":\"1727877023000000\",\"MAX_INSERTION_TIME\":\"1727877023000000\",\"OPTIMIZE_TARGET_SIZE\":\"268435456\"}}}"
        ]
       ],
       "datasetInfos": [],
       "dbfsResultPath": null,
       "isJsonSchema": true,
       "metadata": {},
       "overflow": false,
       "plotOptions": {
        "customPlotOptions": {},
        "displayType": "table",
        "pivotAggregation": null,
        "pivotColumns": null,
        "xColumns": null,
        "yColumns": null
       },
       "removedWidgets": [],
       "schema": [
        {
         "metadata": "{}",
         "name": "value",
         "type": "\"string\""
        }
       ],
       "type": "table"
      }
     },
     "output_type": "display_data"
    }
   ],
   "source": [
    "%python\n",
    "\n",
    "display(spark.read.format('text').load('dbfs:/user/hive/warehouse/delta.db/optimizetable/_delta_log/00000000000000000002.json'))"
   ]
  },
  {
   "cell_type": "code",
   "execution_count": 0,
   "metadata": {
    "application/vnd.databricks.v1+cell": {
     "cellMetadata": {
      "byteLimit": 2048000,
      "rowLimit": 10000
     },
     "inputWidgets": {},
     "nuid": "7dae31e1-2bf6-49e2-a73b-df4535e359fb",
     "showTitle": false,
     "title": ""
    }
   },
   "outputs": [
    {
     "output_type": "display_data",
     "data": {
      "text/html": [
       "<style scoped>\n",
       "  .table-result-container {\n",
       "    max-height: 300px;\n",
       "    overflow: auto;\n",
       "  }\n",
       "  table, th, td {\n",
       "    border: 1px solid black;\n",
       "    border-collapse: collapse;\n",
       "  }\n",
       "  th, td {\n",
       "    padding: 5px;\n",
       "  }\n",
       "  th {\n",
       "    text-align: left;\n",
       "  }\n",
       "</style><div class='table-result-container'><table class='table-result'><thead style='background-color: white'><tr><th>num_affected_rows</th><th>num_inserted_rows</th></tr></thead><tbody><tr><td>1</td><td>1</td></tr></tbody></table></div>"
      ]
     },
     "metadata": {
      "application/vnd.databricks.v1+output": {
       "addedWidgets": {},
       "aggData": [],
       "aggError": "",
       "aggOverflow": false,
       "aggSchema": [],
       "aggSeriesLimitReached": false,
       "aggType": "",
       "arguments": {},
       "columnCustomDisplayInfos": {},
       "data": [
        [
         1,
         1
        ]
       ],
       "datasetInfos": [],
       "dbfsResultPath": null,
       "isJsonSchema": true,
       "metadata": {
        "isDbfsCommandResult": false
       },
       "overflow": false,
       "plotOptions": {
        "customPlotOptions": {},
        "displayType": "table",
        "pivotAggregation": null,
        "pivotColumns": null,
        "xColumns": null,
        "yColumns": null
       },
       "removedWidgets": [],
       "schema": [
        {
         "metadata": "{}",
         "name": "num_affected_rows",
         "type": "\"long\""
        },
        {
         "metadata": "{}",
         "name": "num_inserted_rows",
         "type": "\"long\""
        }
       ],
       "type": "table"
      }
     },
     "output_type": "display_data"
    }
   ],
   "source": [
    "-- Line number row is having value 102\n",
    "\n",
    "INSERT INTO delta.OptimizeTable\n",
    "VALUES\n",
    "('Master', 102, 6500, 500, 'Networking', 'Female', '2023-07-12', 3)"
   ]
  },
  {
   "cell_type": "markdown",
   "metadata": {
    "application/vnd.databricks.v1+cell": {
     "cellMetadata": {},
     "inputWidgets": {},
     "nuid": "16277119-1f18-44e2-813a-e57a5d1a41f4",
     "showTitle": false,
     "title": ""
    }
   },
   "source": [
    "\n",
    "## Reading JSON to understand which parquet file got inserted"
   ]
  },
  {
   "cell_type": "code",
   "execution_count": 0,
   "metadata": {
    "application/vnd.databricks.v1+cell": {
     "cellMetadata": {
      "byteLimit": 2048000,
      "rowLimit": 10000
     },
     "inputWidgets": {},
     "nuid": "ab13de4c-a077-4e69-9b43-b877a426eebd",
     "showTitle": false,
     "title": ""
    }
   },
   "outputs": [
    {
     "output_type": "execute_result",
     "data": {
      "text/plain": [
       "[FileInfo(path='dbfs:/user/hive/warehouse/delta.db/optimizetable/_delta_log/00000000000000000000.crc', name='00000000000000000000.crc', size=2847, modificationTime=1727876627000),\n",
       " FileInfo(path='dbfs:/user/hive/warehouse/delta.db/optimizetable/_delta_log/00000000000000000000.json', name='00000000000000000000.json', size=1778, modificationTime=1727876623000),\n",
       " FileInfo(path='dbfs:/user/hive/warehouse/delta.db/optimizetable/_delta_log/00000000000000000001.crc', name='00000000000000000001.crc', size=3787, modificationTime=1727876897000),\n",
       " FileInfo(path='dbfs:/user/hive/warehouse/delta.db/optimizetable/_delta_log/00000000000000000001.json', name='00000000000000000001.json', size=1539, modificationTime=1727876894000),\n",
       " FileInfo(path='dbfs:/user/hive/warehouse/delta.db/optimizetable/_delta_log/00000000000000000002.crc', name='00000000000000000002.crc', size=4722, modificationTime=1727877025000),\n",
       " FileInfo(path='dbfs:/user/hive/warehouse/delta.db/optimizetable/_delta_log/00000000000000000002.json', name='00000000000000000002.json', size=1539, modificationTime=1727877023000),\n",
       " FileInfo(path='dbfs:/user/hive/warehouse/delta.db/optimizetable/_delta_log/00000000000000000003.crc', name='00000000000000000003.crc', size=5657, modificationTime=1727877090000),\n",
       " FileInfo(path='dbfs:/user/hive/warehouse/delta.db/optimizetable/_delta_log/00000000000000000003.json', name='00000000000000000003.json', size=1539, modificationTime=1727877087000),\n",
       " FileInfo(path='dbfs:/user/hive/warehouse/delta.db/optimizetable/_delta_log/__tmp_path_dir/', name='__tmp_path_dir/', size=0, modificationTime=1727876623000),\n",
       " FileInfo(path='dbfs:/user/hive/warehouse/delta.db/optimizetable/_delta_log/_commits/', name='_commits/', size=0, modificationTime=1727876623000)]"
      ]
     },
     "execution_count": 8,
     "metadata": {},
     "output_type": "execute_result"
    }
   ],
   "source": [
    "%python\n",
    "dbutils.fs.ls('dbfs:/user/hive/warehouse/delta.db/optimizetable/_delta_log')"
   ]
  },
  {
   "cell_type": "markdown",
   "metadata": {
    "application/vnd.databricks.v1+cell": {
     "cellMetadata": {},
     "inputWidgets": {},
     "nuid": "bee7acc5-441e-4f55-9697-fe26456edd5d",
     "showTitle": false,
     "title": ""
    }
   },
   "source": [
    "WRITE 3:\\\n",
    "\"add\":{\"path\":\"part-00000-193b3722-769d-4cff-a182-98b2cdbd45fe-c000.snappy.parquet\""
   ]
  },
  {
   "cell_type": "code",
   "execution_count": 0,
   "metadata": {
    "application/vnd.databricks.v1+cell": {
     "cellMetadata": {
      "byteLimit": 2048000,
      "rowLimit": 10000
     },
     "inputWidgets": {},
     "nuid": "3e32d965-44f3-422e-954d-d89f8cc3afa2",
     "showTitle": false,
     "title": ""
    }
   },
   "outputs": [
    {
     "output_type": "display_data",
     "data": {
      "text/html": [
       "<style scoped>\n",
       "  .table-result-container {\n",
       "    max-height: 300px;\n",
       "    overflow: auto;\n",
       "  }\n",
       "  table, th, td {\n",
       "    border: 1px solid black;\n",
       "    border-collapse: collapse;\n",
       "  }\n",
       "  th, td {\n",
       "    padding: 5px;\n",
       "  }\n",
       "  th {\n",
       "    text-align: left;\n",
       "  }\n",
       "</style><div class='table-result-container'><table class='table-result'><thead style='background-color: white'><tr><th>value</th></tr></thead><tbody><tr><td>{\"commitInfo\":{\"timestamp\":1727877087677,\"userId\":\"2239208310904017\",\"userName\":\"lepina73@hotmail.com\",\"operation\":\"WRITE\",\"operationParameters\":{\"mode\":\"Append\",\"statsOnLoad\":false,\"partitionBy\":\"[]\"},\"notebook\":{\"notebookId\":\"1568999877190023\"},\"clusterId\":\"1002-133533-ruymvarr\",\"readVersion\":2,\"isolationLevel\":\"WriteSerializable\",\"isBlindAppend\":true,\"operationMetrics\":{\"numFiles\":\"1\",\"numOutputRows\":\"1\",\"numOutputBytes\":\"2416\"},\"tags\":{\"noRowsCopied\":\"true\",\"restoresDeletedRows\":\"false\"},\"engineInfo\":\"Databricks-Runtime/15.4.x-scala2.12\",\"txnId\":\"d94b86ab-1e36-429c-80b9-788c782a79de\"}}</td></tr><tr><td>{\"add\":{\"path\":\"part-00000-193b3722-769d-4cff-a182-98b2cdbd45fe-c000.snappy.parquet\",\"partitionValues\":{},\"size\":2416,\"modificationTime\":1727877087000,\"dataChange\":true,\"stats\":\"{\\\"numRecords\\\":1,\\\"minValues\\\":{\\\"Education_Level\\\":\\\"Master\\\",\\\"Line_Number\\\":102,\\\"Employed\\\":6500,\\\"Unemployed\\\":500,\\\"Industry\\\":\\\"Networking\\\",\\\"Gender\\\":\\\"Female\\\",\\\"Date_Inserted\\\":\\\"2023-07-12\\\",\\\"dense_rank\\\":3},\\\"maxValues\\\":{\\\"Education_Level\\\":\\\"Master\\\",\\\"Line_Number\\\":102,\\\"Employed\\\":6500,\\\"Unemployed\\\":500,\\\"Industry\\\":\\\"Networking\\\",\\\"Gender\\\":\\\"Female\\\",\\\"Date_Inserted\\\":\\\"2023-07-12\\\",\\\"dense_rank\\\":3},\\\"nullCount\\\":{\\\"Education_Level\\\":0,\\\"Line_Number\\\":0,\\\"Employed\\\":0,\\\"Unemployed\\\":0,\\\"Industry\\\":0,\\\"Gender\\\":0,\\\"Date_Inserted\\\":0,\\\"dense_rank\\\":0},\\\"tightBounds\\\":true}\",\"tags\":{\"INSERTION_TIME\":\"1727877087000000\",\"MIN_INSERTION_TIME\":\"1727877087000000\",\"MAX_INSERTION_TIME\":\"1727877087000000\",\"OPTIMIZE_TARGET_SIZE\":\"268435456\"}}}</td></tr></tbody></table></div>"
      ]
     },
     "metadata": {
      "application/vnd.databricks.v1+output": {
       "addedWidgets": {},
       "aggData": [],
       "aggError": "",
       "aggOverflow": false,
       "aggSchema": [],
       "aggSeriesLimitReached": false,
       "aggType": "",
       "arguments": {},
       "columnCustomDisplayInfos": {},
       "data": [
        [
         "{\"commitInfo\":{\"timestamp\":1727877087677,\"userId\":\"2239208310904017\",\"userName\":\"lepina73@hotmail.com\",\"operation\":\"WRITE\",\"operationParameters\":{\"mode\":\"Append\",\"statsOnLoad\":false,\"partitionBy\":\"[]\"},\"notebook\":{\"notebookId\":\"1568999877190023\"},\"clusterId\":\"1002-133533-ruymvarr\",\"readVersion\":2,\"isolationLevel\":\"WriteSerializable\",\"isBlindAppend\":true,\"operationMetrics\":{\"numFiles\":\"1\",\"numOutputRows\":\"1\",\"numOutputBytes\":\"2416\"},\"tags\":{\"noRowsCopied\":\"true\",\"restoresDeletedRows\":\"false\"},\"engineInfo\":\"Databricks-Runtime/15.4.x-scala2.12\",\"txnId\":\"d94b86ab-1e36-429c-80b9-788c782a79de\"}}"
        ],
        [
         "{\"add\":{\"path\":\"part-00000-193b3722-769d-4cff-a182-98b2cdbd45fe-c000.snappy.parquet\",\"partitionValues\":{},\"size\":2416,\"modificationTime\":1727877087000,\"dataChange\":true,\"stats\":\"{\\\"numRecords\\\":1,\\\"minValues\\\":{\\\"Education_Level\\\":\\\"Master\\\",\\\"Line_Number\\\":102,\\\"Employed\\\":6500,\\\"Unemployed\\\":500,\\\"Industry\\\":\\\"Networking\\\",\\\"Gender\\\":\\\"Female\\\",\\\"Date_Inserted\\\":\\\"2023-07-12\\\",\\\"dense_rank\\\":3},\\\"maxValues\\\":{\\\"Education_Level\\\":\\\"Master\\\",\\\"Line_Number\\\":102,\\\"Employed\\\":6500,\\\"Unemployed\\\":500,\\\"Industry\\\":\\\"Networking\\\",\\\"Gender\\\":\\\"Female\\\",\\\"Date_Inserted\\\":\\\"2023-07-12\\\",\\\"dense_rank\\\":3},\\\"nullCount\\\":{\\\"Education_Level\\\":0,\\\"Line_Number\\\":0,\\\"Employed\\\":0,\\\"Unemployed\\\":0,\\\"Industry\\\":0,\\\"Gender\\\":0,\\\"Date_Inserted\\\":0,\\\"dense_rank\\\":0},\\\"tightBounds\\\":true}\",\"tags\":{\"INSERTION_TIME\":\"1727877087000000\",\"MIN_INSERTION_TIME\":\"1727877087000000\",\"MAX_INSERTION_TIME\":\"1727877087000000\",\"OPTIMIZE_TARGET_SIZE\":\"268435456\"}}}"
        ]
       ],
       "datasetInfos": [],
       "dbfsResultPath": null,
       "isJsonSchema": true,
       "metadata": {},
       "overflow": false,
       "plotOptions": {
        "customPlotOptions": {},
        "displayType": "table",
        "pivotAggregation": null,
        "pivotColumns": null,
        "xColumns": null,
        "yColumns": null
       },
       "removedWidgets": [],
       "schema": [
        {
         "metadata": "{}",
         "name": "value",
         "type": "\"string\""
        }
       ],
       "type": "table"
      }
     },
     "output_type": "display_data"
    }
   ],
   "source": [
    "%python\n",
    "\n",
    "display(spark.read.format('text').load('dbfs:/user/hive/warehouse/delta.db/optimizetable/_delta_log/00000000000000000003.json'))"
   ]
  },
  {
   "cell_type": "markdown",
   "metadata": {
    "application/vnd.databricks.v1+cell": {
     "cellMetadata": {},
     "inputWidgets": {},
     "nuid": "4436d203-9593-43b9-ad9d-f04cbaf20755",
     "showTitle": false,
     "title": ""
    }
   },
   "source": [
    "\n",
    "## Listing all parquet files"
   ]
  },
  {
   "cell_type": "code",
   "execution_count": 0,
   "metadata": {
    "application/vnd.databricks.v1+cell": {
     "cellMetadata": {
      "byteLimit": 2048000,
      "rowLimit": 10000
     },
     "inputWidgets": {},
     "nuid": "f52aa32a-1a6e-4a7c-951b-88fc95e5fe89",
     "showTitle": false,
     "title": ""
    }
   },
   "outputs": [
    {
     "output_type": "execute_result",
     "data": {
      "text/plain": [
       "[FileInfo(path='dbfs:/user/hive/warehouse/delta.db/optimizetable/_delta_log/', name='_delta_log/', size=0, modificationTime=1727876623000),\n",
       " FileInfo(path='dbfs:/user/hive/warehouse/delta.db/optimizetable/part-00000-193b3722-769d-4cff-a182-98b2cdbd45fe-c000.snappy.parquet', name='part-00000-193b3722-769d-4cff-a182-98b2cdbd45fe-c000.snappy.parquet', size=2416, modificationTime=1727877087000),\n",
       " FileInfo(path='dbfs:/user/hive/warehouse/delta.db/optimizetable/part-00000-939b1782-4de2-4568-88b3-2ed3febcd095-c000.snappy.parquet', name='part-00000-939b1782-4de2-4568-88b3-2ed3febcd095-c000.snappy.parquet', size=2417, modificationTime=1727877023000),\n",
       " FileInfo(path='dbfs:/user/hive/warehouse/delta.db/optimizetable/part-00000-962a7906-8469-4487-a7c3-50ca26131d6f-c000.snappy.parquet', name='part-00000-962a7906-8469-4487-a7c3-50ca26131d6f-c000.snappy.parquet', size=2417, modificationTime=1727876894000)]"
      ]
     },
     "execution_count": 10,
     "metadata": {},
     "output_type": "execute_result"
    }
   ],
   "source": [
    "%python\n",
    "dbutils.fs.ls('dbfs:/user/hive/warehouse/delta.db/optimizetable/')"
   ]
  },
  {
   "cell_type": "markdown",
   "metadata": {
    "application/vnd.databricks.v1+cell": {
     "cellMetadata": {},
     "inputWidgets": {},
     "nuid": "02711da2-ff7e-4f86-9f94-f2a0db9906c1",
     "showTitle": false,
     "title": ""
    }
   },
   "source": [
    "\n",
    "## Deleting a record"
   ]
  },
  {
   "cell_type": "code",
   "execution_count": 0,
   "metadata": {
    "application/vnd.databricks.v1+cell": {
     "cellMetadata": {
      "byteLimit": 2048000,
      "rowLimit": 10000
     },
     "inputWidgets": {},
     "nuid": "8798f737-1897-4cd7-a7a3-1ff8420044fd",
     "showTitle": false,
     "title": ""
    }
   },
   "outputs": [
    {
     "output_type": "display_data",
     "data": {
      "text/html": [
       "<style scoped>\n",
       "  .table-result-container {\n",
       "    max-height: 300px;\n",
       "    overflow: auto;\n",
       "  }\n",
       "  table, th, td {\n",
       "    border: 1px solid black;\n",
       "    border-collapse: collapse;\n",
       "  }\n",
       "  th, td {\n",
       "    padding: 5px;\n",
       "  }\n",
       "  th {\n",
       "    text-align: left;\n",
       "  }\n",
       "</style><div class='table-result-container'><table class='table-result'><thead style='background-color: white'><tr><th>num_affected_rows</th></tr></thead><tbody><tr><td>1</td></tr></tbody></table></div>"
      ]
     },
     "metadata": {
      "application/vnd.databricks.v1+output": {
       "addedWidgets": {},
       "aggData": [],
       "aggError": "",
       "aggOverflow": false,
       "aggSchema": [],
       "aggSeriesLimitReached": false,
       "aggType": "",
       "arguments": {},
       "columnCustomDisplayInfos": {},
       "data": [
        [
         1
        ]
       ],
       "datasetInfos": [],
       "dbfsResultPath": null,
       "isJsonSchema": true,
       "metadata": {
        "isDbfsCommandResult": false
       },
       "overflow": false,
       "plotOptions": {
        "customPlotOptions": {},
        "displayType": "table",
        "pivotAggregation": null,
        "pivotColumns": null,
        "xColumns": null,
        "yColumns": null
       },
       "removedWidgets": [],
       "schema": [
        {
         "metadata": "{}",
         "name": "num_affected_rows",
         "type": "\"long\""
        }
       ],
       "type": "table"
      }
     },
     "output_type": "display_data"
    }
   ],
   "source": [
    "DELETE FROM delta.OptimizeTable\n",
    "WHERE Line_Number = 101"
   ]
  },
  {
   "cell_type": "markdown",
   "metadata": {
    "application/vnd.databricks.v1+cell": {
     "cellMetadata": {},
     "inputWidgets": {},
     "nuid": "047e0db3-640d-4127-a129-ca08dea9fd64",
     "showTitle": false,
     "title": ""
    }
   },
   "source": [
    "\n",
    "## Seeing delta log files"
   ]
  },
  {
   "cell_type": "markdown",
   "metadata": {
    "application/vnd.databricks.v1+cell": {
     "cellMetadata": {},
     "inputWidgets": {},
     "nuid": "229025d3-0f5d-4764-ae60-dde4e1afa392",
     "showTitle": false,
     "title": ""
    }
   },
   "source": [
    "Um arquivo json de log foi gerado \"...0004.json\""
   ]
  },
  {
   "cell_type": "code",
   "execution_count": 0,
   "metadata": {
    "application/vnd.databricks.v1+cell": {
     "cellMetadata": {
      "byteLimit": 2048000,
      "rowLimit": 10000
     },
     "inputWidgets": {},
     "nuid": "8ff9c0d0-7656-4fa0-b8f6-7954c56bfc41",
     "showTitle": false,
     "title": ""
    }
   },
   "outputs": [
    {
     "output_type": "execute_result",
     "data": {
      "text/plain": [
       "[FileInfo(path='dbfs:/user/hive/warehouse/delta.db/optimizetable/_delta_log/00000000000000000000.crc', name='00000000000000000000.crc', size=2847, modificationTime=1727876627000),\n",
       " FileInfo(path='dbfs:/user/hive/warehouse/delta.db/optimizetable/_delta_log/00000000000000000000.json', name='00000000000000000000.json', size=1778, modificationTime=1727876623000),\n",
       " FileInfo(path='dbfs:/user/hive/warehouse/delta.db/optimizetable/_delta_log/00000000000000000001.crc', name='00000000000000000001.crc', size=3787, modificationTime=1727876897000),\n",
       " FileInfo(path='dbfs:/user/hive/warehouse/delta.db/optimizetable/_delta_log/00000000000000000001.json', name='00000000000000000001.json', size=1539, modificationTime=1727876894000),\n",
       " FileInfo(path='dbfs:/user/hive/warehouse/delta.db/optimizetable/_delta_log/00000000000000000002.crc', name='00000000000000000002.crc', size=4722, modificationTime=1727877025000),\n",
       " FileInfo(path='dbfs:/user/hive/warehouse/delta.db/optimizetable/_delta_log/00000000000000000002.json', name='00000000000000000002.json', size=1539, modificationTime=1727877023000),\n",
       " FileInfo(path='dbfs:/user/hive/warehouse/delta.db/optimizetable/_delta_log/00000000000000000003.crc', name='00000000000000000003.crc', size=5657, modificationTime=1727877090000),\n",
       " FileInfo(path='dbfs:/user/hive/warehouse/delta.db/optimizetable/_delta_log/00000000000000000003.json', name='00000000000000000003.json', size=1539, modificationTime=1727877087000),\n",
       " FileInfo(path='dbfs:/user/hive/warehouse/delta.db/optimizetable/_delta_log/00000000000000000004.crc', name='00000000000000000004.crc', size=4722, modificationTime=1727877111000),\n",
       " FileInfo(path='dbfs:/user/hive/warehouse/delta.db/optimizetable/_delta_log/00000000000000000004.json', name='00000000000000000004.json', size=1275, modificationTime=1727877109000),\n",
       " FileInfo(path='dbfs:/user/hive/warehouse/delta.db/optimizetable/_delta_log/__tmp_path_dir/', name='__tmp_path_dir/', size=0, modificationTime=1727876623000),\n",
       " FileInfo(path='dbfs:/user/hive/warehouse/delta.db/optimizetable/_delta_log/_commits/', name='_commits/', size=0, modificationTime=1727876623000)]"
      ]
     },
     "execution_count": 11,
     "metadata": {},
     "output_type": "execute_result"
    }
   ],
   "source": [
    "%python\n",
    "dbutils.fs.ls('dbfs:/user/hive/warehouse/delta.db/optimizetable/_delta_log')"
   ]
  },
  {
   "cell_type": "markdown",
   "metadata": {
    "application/vnd.databricks.v1+cell": {
     "cellMetadata": {},
     "inputWidgets": {},
     "nuid": "38e3451d-ffad-4fb6-b5a5-5abb639975d8",
     "showTitle": false,
     "title": ""
    }
   },
   "source": [
    "No log mais recente foi gerado uma operação de DELETE.\n",
    "E o seguinte arquivo  parquet foi removido: \\\n",
    "\"remove\":{\"path\":\"part-00000-939b1782-4de2-4568-88b3-2ed3febcd095-c000.snappy.parquet\"\n",
    "\n",
    "Agora podemos dizer que temos 01 arquivo INATIVO."
   ]
  },
  {
   "cell_type": "code",
   "execution_count": 0,
   "metadata": {
    "application/vnd.databricks.v1+cell": {
     "cellMetadata": {
      "byteLimit": 2048000,
      "rowLimit": 10000
     },
     "inputWidgets": {},
     "nuid": "8f348ac8-da00-433c-9e7d-5aab6649fb6e",
     "showTitle": false,
     "title": ""
    }
   },
   "outputs": [
    {
     "output_type": "display_data",
     "data": {
      "text/html": [
       "<style scoped>\n",
       "  .table-result-container {\n",
       "    max-height: 300px;\n",
       "    overflow: auto;\n",
       "  }\n",
       "  table, th, td {\n",
       "    border: 1px solid black;\n",
       "    border-collapse: collapse;\n",
       "  }\n",
       "  th, td {\n",
       "    padding: 5px;\n",
       "  }\n",
       "  th {\n",
       "    text-align: left;\n",
       "  }\n",
       "</style><div class='table-result-container'><table class='table-result'><thead style='background-color: white'><tr><th>value</th></tr></thead><tbody><tr><td>{\"commitInfo\":{\"timestamp\":1727877109484,\"userId\":\"2239208310904017\",\"userName\":\"lepina73@hotmail.com\",\"operation\":\"DELETE\",\"operationParameters\":{\"predicate\":\"[\\\"(Line_Number#3052 = 101)\\\"]\"},\"notebook\":{\"notebookId\":\"1568999877190023\"},\"clusterId\":\"1002-133533-ruymvarr\",\"readVersion\":3,\"isolationLevel\":\"WriteSerializable\",\"isBlindAppend\":false,\"operationMetrics\":{\"numRemovedFiles\":\"1\",\"numRemovedBytes\":\"2417\",\"numCopiedRows\":\"0\",\"numDeletionVectorsAdded\":\"0\",\"numDeletionVectorsRemoved\":\"0\",\"numAddedChangeFiles\":\"0\",\"executionTimeMs\":\"5009\",\"numDeletionVectorsUpdated\":\"0\",\"numDeletedRows\":\"1\",\"scanTimeMs\":\"4469\",\"numAddedFiles\":\"0\",\"numAddedBytes\":\"0\",\"rewriteTimeMs\":\"500\"},\"tags\":{\"noRowsCopied\":\"true\",\"delta.rowTracking.preserved\":\"false\",\"restoresDeletedRows\":\"false\"},\"engineInfo\":\"Databricks-Runtime/15.4.x-scala2.12\",\"txnId\":\"5af34645-ee8e-45c8-8e13-b90d27e9381b\"}}</td></tr><tr><td>{\"remove\":{\"path\":\"part-00000-939b1782-4de2-4568-88b3-2ed3febcd095-c000.snappy.parquet\",\"deletionTimestamp\":1727877109460,\"dataChange\":true,\"extendedFileMetadata\":true,\"partitionValues\":{},\"size\":2417,\"tags\":{\"INSERTION_TIME\":\"1727877023000000\",\"MIN_INSERTION_TIME\":\"1727877023000000\",\"MAX_INSERTION_TIME\":\"1727877023000000\",\"OPTIMIZE_TARGET_SIZE\":\"268435456\"},\"stats\":\"{\\\"numRecords\\\":1}\"}}</td></tr></tbody></table></div>"
      ]
     },
     "metadata": {
      "application/vnd.databricks.v1+output": {
       "addedWidgets": {},
       "aggData": [],
       "aggError": "",
       "aggOverflow": false,
       "aggSchema": [],
       "aggSeriesLimitReached": false,
       "aggType": "",
       "arguments": {},
       "columnCustomDisplayInfos": {},
       "data": [
        [
         "{\"commitInfo\":{\"timestamp\":1727877109484,\"userId\":\"2239208310904017\",\"userName\":\"lepina73@hotmail.com\",\"operation\":\"DELETE\",\"operationParameters\":{\"predicate\":\"[\\\"(Line_Number#3052 = 101)\\\"]\"},\"notebook\":{\"notebookId\":\"1568999877190023\"},\"clusterId\":\"1002-133533-ruymvarr\",\"readVersion\":3,\"isolationLevel\":\"WriteSerializable\",\"isBlindAppend\":false,\"operationMetrics\":{\"numRemovedFiles\":\"1\",\"numRemovedBytes\":\"2417\",\"numCopiedRows\":\"0\",\"numDeletionVectorsAdded\":\"0\",\"numDeletionVectorsRemoved\":\"0\",\"numAddedChangeFiles\":\"0\",\"executionTimeMs\":\"5009\",\"numDeletionVectorsUpdated\":\"0\",\"numDeletedRows\":\"1\",\"scanTimeMs\":\"4469\",\"numAddedFiles\":\"0\",\"numAddedBytes\":\"0\",\"rewriteTimeMs\":\"500\"},\"tags\":{\"noRowsCopied\":\"true\",\"delta.rowTracking.preserved\":\"false\",\"restoresDeletedRows\":\"false\"},\"engineInfo\":\"Databricks-Runtime/15.4.x-scala2.12\",\"txnId\":\"5af34645-ee8e-45c8-8e13-b90d27e9381b\"}}"
        ],
        [
         "{\"remove\":{\"path\":\"part-00000-939b1782-4de2-4568-88b3-2ed3febcd095-c000.snappy.parquet\",\"deletionTimestamp\":1727877109460,\"dataChange\":true,\"extendedFileMetadata\":true,\"partitionValues\":{},\"size\":2417,\"tags\":{\"INSERTION_TIME\":\"1727877023000000\",\"MIN_INSERTION_TIME\":\"1727877023000000\",\"MAX_INSERTION_TIME\":\"1727877023000000\",\"OPTIMIZE_TARGET_SIZE\":\"268435456\"},\"stats\":\"{\\\"numRecords\\\":1}\"}}"
        ]
       ],
       "datasetInfos": [],
       "dbfsResultPath": null,
       "isJsonSchema": true,
       "metadata": {},
       "overflow": false,
       "plotOptions": {
        "customPlotOptions": {},
        "displayType": "table",
        "pivotAggregation": null,
        "pivotColumns": null,
        "xColumns": null,
        "yColumns": null
       },
       "removedWidgets": [],
       "schema": [
        {
         "metadata": "{}",
         "name": "value",
         "type": "\"string\""
        }
       ],
       "type": "table"
      }
     },
     "output_type": "display_data"
    },
    {
     "output_type": "display_data",
     "data": {
      "text/html": [
       "<style scoped>\n",
       "  .ansiout {\n",
       "    display: block;\n",
       "    unicode-bidi: embed;\n",
       "    white-space: pre-wrap;\n",
       "    word-wrap: break-word;\n",
       "    word-break: break-all;\n",
       "    font-family: \"Menlo\", \"Monaco\", \"Consolas\", \"Ubuntu Mono\", \"Source Code Pro\", monospace;\n",
       "    font-size: 13px;\n",
       "    color: #555;\n",
       "    margin-left: 4px;\n",
       "    line-height: 19px;\n",
       "  }\n",
       "</style>"
      ]
     },
     "metadata": {
      "application/vnd.databricks.v1+output": {
       "arguments": {},
       "data": "",
       "errorSummary": "",
       "errorTraceType": null,
       "metadata": {},
       "type": "ipynbError"
      }
     },
     "output_type": "display_data"
    }
   ],
   "source": [
    "%python\n",
    "\n",
    "display(spark.read.format('text').load('dbfs:/user/hive/warehouse/delta.db/optimizetable/_delta_log/00000000000000000004.json'))"
   ]
  },
  {
   "cell_type": "markdown",
   "metadata": {
    "application/vnd.databricks.v1+cell": {
     "cellMetadata": {},
     "inputWidgets": {},
     "nuid": "5b99bfce-3b17-4a84-8c19-09df367880d1",
     "showTitle": false,
     "title": ""
    }
   },
   "source": [
    "O arquivo \"...bcd095-c000.snappy.parquet\" ainda aparece na lista no caso de necessidade de versionamento e/ou time travel."
   ]
  },
  {
   "cell_type": "code",
   "execution_count": 0,
   "metadata": {
    "application/vnd.databricks.v1+cell": {
     "cellMetadata": {
      "byteLimit": 2048000,
      "rowLimit": 10000
     },
     "inputWidgets": {},
     "nuid": "72859d71-3251-4796-916b-fb10d20cbb22",
     "showTitle": false,
     "title": ""
    }
   },
   "outputs": [
    {
     "output_type": "execute_result",
     "data": {
      "text/plain": [
       "[FileInfo(path='dbfs:/user/hive/warehouse/delta.db/optimizetable/_delta_log/', name='_delta_log/', size=0, modificationTime=1727876623000),\n",
       " FileInfo(path='dbfs:/user/hive/warehouse/delta.db/optimizetable/deletion_vector_70b969bf-b7a7-45b1-adf4-6f397f4af850.bin', name='deletion_vector_70b969bf-b7a7-45b1-adf4-6f397f4af850.bin', size=43, modificationTime=1727877108000),\n",
       " FileInfo(path='dbfs:/user/hive/warehouse/delta.db/optimizetable/part-00000-193b3722-769d-4cff-a182-98b2cdbd45fe-c000.snappy.parquet', name='part-00000-193b3722-769d-4cff-a182-98b2cdbd45fe-c000.snappy.parquet', size=2416, modificationTime=1727877087000),\n",
       " FileInfo(path='dbfs:/user/hive/warehouse/delta.db/optimizetable/part-00000-939b1782-4de2-4568-88b3-2ed3febcd095-c000.snappy.parquet', name='part-00000-939b1782-4de2-4568-88b3-2ed3febcd095-c000.snappy.parquet', size=2417, modificationTime=1727877023000),\n",
       " FileInfo(path='dbfs:/user/hive/warehouse/delta.db/optimizetable/part-00000-962a7906-8469-4487-a7c3-50ca26131d6f-c000.snappy.parquet', name='part-00000-962a7906-8469-4487-a7c3-50ca26131d6f-c000.snappy.parquet', size=2417, modificationTime=1727876894000)]"
      ]
     },
     "execution_count": 13,
     "metadata": {},
     "output_type": "execute_result"
    }
   ],
   "source": [
    "%python\n",
    "dbutils.fs.ls('dbfs:/user/hive/warehouse/delta.db/optimizetable/')"
   ]
  },
  {
   "cell_type": "markdown",
   "metadata": {
    "application/vnd.databricks.v1+cell": {
     "cellMetadata": {},
     "inputWidgets": {},
     "nuid": "19e8af48-a7ae-4bfd-9820-30f89988a8e0",
     "showTitle": false,
     "title": ""
    }
   },
   "source": [
    "\n",
    "## Update a record"
   ]
  },
  {
   "cell_type": "code",
   "execution_count": 0,
   "metadata": {
    "application/vnd.databricks.v1+cell": {
     "cellMetadata": {
      "byteLimit": 2048000,
      "rowLimit": 10000
     },
     "inputWidgets": {},
     "nuid": "a5cc57f0-4bab-4337-a8aa-b6bf990b7f6e",
     "showTitle": false,
     "title": ""
    }
   },
   "outputs": [
    {
     "output_type": "display_data",
     "data": {
      "text/html": [
       "<style scoped>\n",
       "  .table-result-container {\n",
       "    max-height: 300px;\n",
       "    overflow: auto;\n",
       "  }\n",
       "  table, th, td {\n",
       "    border: 1px solid black;\n",
       "    border-collapse: collapse;\n",
       "  }\n",
       "  th, td {\n",
       "    padding: 5px;\n",
       "  }\n",
       "  th {\n",
       "    text-align: left;\n",
       "  }\n",
       "</style><div class='table-result-container'><table class='table-result'><thead style='background-color: white'><tr><th>num_affected_rows</th></tr></thead><tbody><tr><td>1</td></tr></tbody></table></div>"
      ]
     },
     "metadata": {
      "application/vnd.databricks.v1+output": {
       "addedWidgets": {},
       "aggData": [],
       "aggError": "",
       "aggOverflow": false,
       "aggSchema": [],
       "aggSeriesLimitReached": false,
       "aggType": "",
       "arguments": {},
       "columnCustomDisplayInfos": {},
       "data": [
        [
         1
        ]
       ],
       "datasetInfos": [],
       "dbfsResultPath": null,
       "isJsonSchema": true,
       "metadata": {
        "isDbfsCommandResult": false
       },
       "overflow": false,
       "plotOptions": {
        "customPlotOptions": {},
        "displayType": "table",
        "pivotAggregation": null,
        "pivotColumns": null,
        "xColumns": null,
        "yColumns": null
       },
       "removedWidgets": [],
       "schema": [
        {
         "metadata": "{}",
         "name": "num_affected_rows",
         "type": "\"long\""
        }
       ],
       "type": "table"
      }
     },
     "output_type": "display_data"
    }
   ],
   "source": [
    "UPDATE `delta`.OptimizeTable\n",
    "SET Line_Number = 99\n",
    "WHERE Line_Number = 102"
   ]
  },
  {
   "cell_type": "code",
   "execution_count": 0,
   "metadata": {
    "application/vnd.databricks.v1+cell": {
     "cellMetadata": {
      "byteLimit": 2048000,
      "rowLimit": 10000
     },
     "inputWidgets": {},
     "nuid": "0387b2b9-d497-420e-a331-587ff135113f",
     "showTitle": false,
     "title": ""
    }
   },
   "outputs": [
    {
     "output_type": "execute_result",
     "data": {
      "text/plain": [
       "[FileInfo(path='dbfs:/user/hive/warehouse/delta.db/optimizetable/_delta_log/00000000000000000000.crc', name='00000000000000000000.crc', size=2847, modificationTime=1727876627000),\n",
       " FileInfo(path='dbfs:/user/hive/warehouse/delta.db/optimizetable/_delta_log/00000000000000000000.json', name='00000000000000000000.json', size=1778, modificationTime=1727876623000),\n",
       " FileInfo(path='dbfs:/user/hive/warehouse/delta.db/optimizetable/_delta_log/00000000000000000001.crc', name='00000000000000000001.crc', size=3787, modificationTime=1727876897000),\n",
       " FileInfo(path='dbfs:/user/hive/warehouse/delta.db/optimizetable/_delta_log/00000000000000000001.json', name='00000000000000000001.json', size=1539, modificationTime=1727876894000),\n",
       " FileInfo(path='dbfs:/user/hive/warehouse/delta.db/optimizetable/_delta_log/00000000000000000002.crc', name='00000000000000000002.crc', size=4722, modificationTime=1727877025000),\n",
       " FileInfo(path='dbfs:/user/hive/warehouse/delta.db/optimizetable/_delta_log/00000000000000000002.json', name='00000000000000000002.json', size=1539, modificationTime=1727877023000),\n",
       " FileInfo(path='dbfs:/user/hive/warehouse/delta.db/optimizetable/_delta_log/00000000000000000003.crc', name='00000000000000000003.crc', size=5657, modificationTime=1727877090000),\n",
       " FileInfo(path='dbfs:/user/hive/warehouse/delta.db/optimizetable/_delta_log/00000000000000000003.json', name='00000000000000000003.json', size=1539, modificationTime=1727877087000),\n",
       " FileInfo(path='dbfs:/user/hive/warehouse/delta.db/optimizetable/_delta_log/00000000000000000004.crc', name='00000000000000000004.crc', size=4722, modificationTime=1727877111000),\n",
       " FileInfo(path='dbfs:/user/hive/warehouse/delta.db/optimizetable/_delta_log/00000000000000000004.json', name='00000000000000000004.json', size=1275, modificationTime=1727877109000),\n",
       " FileInfo(path='dbfs:/user/hive/warehouse/delta.db/optimizetable/_delta_log/00000000000000000005.crc', name='00000000000000000005.crc', size=4720, modificationTime=1727877130000),\n",
       " FileInfo(path='dbfs:/user/hive/warehouse/delta.db/optimizetable/_delta_log/00000000000000000005.json', name='00000000000000000005.json', size=2219, modificationTime=1727877128000),\n",
       " FileInfo(path='dbfs:/user/hive/warehouse/delta.db/optimizetable/_delta_log/__tmp_path_dir/', name='__tmp_path_dir/', size=0, modificationTime=1727876623000),\n",
       " FileInfo(path='dbfs:/user/hive/warehouse/delta.db/optimizetable/_delta_log/_commits/', name='_commits/', size=0, modificationTime=1727876623000)]"
      ]
     },
     "execution_count": 14,
     "metadata": {},
     "output_type": "execute_result"
    }
   ],
   "source": [
    "%python\n",
    "dbutils.fs.ls('dbfs:/user/hive/warehouse/delta.db/optimizetable/_delta_log')"
   ]
  },
  {
   "cell_type": "markdown",
   "metadata": {
    "application/vnd.databricks.v1+cell": {
     "cellMetadata": {},
     "inputWidgets": {},
     "nuid": "8eb0edef-5cb1-4b53-a871-b7d97a694ad0",
     "showTitle": false,
     "title": ""
    }
   },
   "source": [
    "Ao analidar o arquivo de log percebemos que a operação de UPDATE efetiva a remoção do arquivo anterior e a adição do arquivo mais atualizado.\\\n",
    "\n",
    "\"remove\":{\"path\":\"part-00000-193b3722-769d-4cff-a182-98b2cdbd45fe-c000.snappy.parquet\" \\\n",
    "\"add\":{\"path\":\"part-00000-9d88fbb3-40fd-45de-b18f-d0cca9ac84e3-c000.snappy.parquet\"\n",
    "\n",
    "\n",
    "Portanto considerando o arquivo anterior, agora podemos dizer que temos 02 arquivos INATIVOS."
   ]
  },
  {
   "cell_type": "code",
   "execution_count": 0,
   "metadata": {
    "application/vnd.databricks.v1+cell": {
     "cellMetadata": {
      "byteLimit": 2048000,
      "rowLimit": 10000
     },
     "inputWidgets": {},
     "nuid": "9eeff059-0c51-4e8f-9ff2-74641a5d1d1b",
     "showTitle": false,
     "title": ""
    }
   },
   "outputs": [
    {
     "output_type": "display_data",
     "data": {
      "text/html": [
       "<style scoped>\n",
       "  .table-result-container {\n",
       "    max-height: 300px;\n",
       "    overflow: auto;\n",
       "  }\n",
       "  table, th, td {\n",
       "    border: 1px solid black;\n",
       "    border-collapse: collapse;\n",
       "  }\n",
       "  th, td {\n",
       "    padding: 5px;\n",
       "  }\n",
       "  th {\n",
       "    text-align: left;\n",
       "  }\n",
       "</style><div class='table-result-container'><table class='table-result'><thead style='background-color: white'><tr><th>value</th></tr></thead><tbody><tr><td>{\"commitInfo\":{\"timestamp\":1727877128136,\"userId\":\"2239208310904017\",\"userName\":\"lepina73@hotmail.com\",\"operation\":\"UPDATE\",\"operationParameters\":{\"predicate\":\"[\\\"(Line_Number#3929 = 102)\\\"]\"},\"notebook\":{\"notebookId\":\"1568999877190023\"},\"clusterId\":\"1002-133533-ruymvarr\",\"readVersion\":4,\"isolationLevel\":\"WriteSerializable\",\"isBlindAppend\":false,\"operationMetrics\":{\"numRemovedFiles\":\"1\",\"numRemovedBytes\":\"2416\",\"numCopiedRows\":\"0\",\"numDeletionVectorsAdded\":\"0\",\"numDeletionVectorsRemoved\":\"0\",\"numAddedChangeFiles\":\"0\",\"executionTimeMs\":\"3280\",\"numDeletionVectorsUpdated\":\"0\",\"scanTimeMs\":\"1652\",\"numAddedFiles\":\"1\",\"numUpdatedRows\":\"1\",\"numAddedBytes\":\"2417\",\"rewriteTimeMs\":\"1625\"},\"tags\":{\"noRowsCopied\":\"true\",\"delta.rowTracking.preserved\":\"false\",\"restoresDeletedRows\":\"false\"},\"engineInfo\":\"Databricks-Runtime/15.4.x-scala2.12\",\"txnId\":\"272e8612-a404-4627-9a6b-bad698ce07bd\"}}</td></tr><tr><td>{\"remove\":{\"path\":\"part-00000-193b3722-769d-4cff-a182-98b2cdbd45fe-c000.snappy.parquet\",\"deletionTimestamp\":1727877128133,\"dataChange\":true,\"extendedFileMetadata\":true,\"partitionValues\":{},\"size\":2416,\"tags\":{\"INSERTION_TIME\":\"1727877087000000\",\"MIN_INSERTION_TIME\":\"1727877087000000\",\"MAX_INSERTION_TIME\":\"1727877087000000\",\"OPTIMIZE_TARGET_SIZE\":\"268435456\"},\"stats\":\"{\\\"numRecords\\\":1}\"}}</td></tr><tr><td>{\"add\":{\"path\":\"part-00000-9d88fbb3-40fd-45de-b18f-d0cca9ac84e3-c000.snappy.parquet\",\"partitionValues\":{},\"size\":2417,\"modificationTime\":1727877127000,\"dataChange\":true,\"stats\":\"{\\\"numRecords\\\":1,\\\"minValues\\\":{\\\"Education_Level\\\":\\\"Master\\\",\\\"Line_Number\\\":99,\\\"Employed\\\":6500,\\\"Unemployed\\\":500,\\\"Industry\\\":\\\"Networking\\\",\\\"Gender\\\":\\\"Female\\\",\\\"Date_Inserted\\\":\\\"2023-07-12\\\",\\\"dense_rank\\\":3},\\\"maxValues\\\":{\\\"Education_Level\\\":\\\"Master\\\",\\\"Line_Number\\\":99,\\\"Employed\\\":6500,\\\"Unemployed\\\":500,\\\"Industry\\\":\\\"Networking\\\",\\\"Gender\\\":\\\"Female\\\",\\\"Date_Inserted\\\":\\\"2023-07-12\\\",\\\"dense_rank\\\":3},\\\"nullCount\\\":{\\\"Education_Level\\\":0,\\\"Line_Number\\\":0,\\\"Employed\\\":0,\\\"Unemployed\\\":0,\\\"Industry\\\":0,\\\"Gender\\\":0,\\\"Date_Inserted\\\":0,\\\"dense_rank\\\":0},\\\"tightBounds\\\":true}\",\"tags\":{\"MAX_INSERTION_TIME\":\"1727877087000000\",\"INSERTION_TIME\":\"1727877087000000\",\"MIN_INSERTION_TIME\":\"1727877087000000\",\"OPTIMIZE_TARGET_SIZE\":\"268435456\"}}}</td></tr></tbody></table></div>"
      ]
     },
     "metadata": {
      "application/vnd.databricks.v1+output": {
       "addedWidgets": {},
       "aggData": [],
       "aggError": "",
       "aggOverflow": false,
       "aggSchema": [],
       "aggSeriesLimitReached": false,
       "aggType": "",
       "arguments": {},
       "columnCustomDisplayInfos": {},
       "data": [
        [
         "{\"commitInfo\":{\"timestamp\":1727877128136,\"userId\":\"2239208310904017\",\"userName\":\"lepina73@hotmail.com\",\"operation\":\"UPDATE\",\"operationParameters\":{\"predicate\":\"[\\\"(Line_Number#3929 = 102)\\\"]\"},\"notebook\":{\"notebookId\":\"1568999877190023\"},\"clusterId\":\"1002-133533-ruymvarr\",\"readVersion\":4,\"isolationLevel\":\"WriteSerializable\",\"isBlindAppend\":false,\"operationMetrics\":{\"numRemovedFiles\":\"1\",\"numRemovedBytes\":\"2416\",\"numCopiedRows\":\"0\",\"numDeletionVectorsAdded\":\"0\",\"numDeletionVectorsRemoved\":\"0\",\"numAddedChangeFiles\":\"0\",\"executionTimeMs\":\"3280\",\"numDeletionVectorsUpdated\":\"0\",\"scanTimeMs\":\"1652\",\"numAddedFiles\":\"1\",\"numUpdatedRows\":\"1\",\"numAddedBytes\":\"2417\",\"rewriteTimeMs\":\"1625\"},\"tags\":{\"noRowsCopied\":\"true\",\"delta.rowTracking.preserved\":\"false\",\"restoresDeletedRows\":\"false\"},\"engineInfo\":\"Databricks-Runtime/15.4.x-scala2.12\",\"txnId\":\"272e8612-a404-4627-9a6b-bad698ce07bd\"}}"
        ],
        [
         "{\"remove\":{\"path\":\"part-00000-193b3722-769d-4cff-a182-98b2cdbd45fe-c000.snappy.parquet\",\"deletionTimestamp\":1727877128133,\"dataChange\":true,\"extendedFileMetadata\":true,\"partitionValues\":{},\"size\":2416,\"tags\":{\"INSERTION_TIME\":\"1727877087000000\",\"MIN_INSERTION_TIME\":\"1727877087000000\",\"MAX_INSERTION_TIME\":\"1727877087000000\",\"OPTIMIZE_TARGET_SIZE\":\"268435456\"},\"stats\":\"{\\\"numRecords\\\":1}\"}}"
        ],
        [
         "{\"add\":{\"path\":\"part-00000-9d88fbb3-40fd-45de-b18f-d0cca9ac84e3-c000.snappy.parquet\",\"partitionValues\":{},\"size\":2417,\"modificationTime\":1727877127000,\"dataChange\":true,\"stats\":\"{\\\"numRecords\\\":1,\\\"minValues\\\":{\\\"Education_Level\\\":\\\"Master\\\",\\\"Line_Number\\\":99,\\\"Employed\\\":6500,\\\"Unemployed\\\":500,\\\"Industry\\\":\\\"Networking\\\",\\\"Gender\\\":\\\"Female\\\",\\\"Date_Inserted\\\":\\\"2023-07-12\\\",\\\"dense_rank\\\":3},\\\"maxValues\\\":{\\\"Education_Level\\\":\\\"Master\\\",\\\"Line_Number\\\":99,\\\"Employed\\\":6500,\\\"Unemployed\\\":500,\\\"Industry\\\":\\\"Networking\\\",\\\"Gender\\\":\\\"Female\\\",\\\"Date_Inserted\\\":\\\"2023-07-12\\\",\\\"dense_rank\\\":3},\\\"nullCount\\\":{\\\"Education_Level\\\":0,\\\"Line_Number\\\":0,\\\"Employed\\\":0,\\\"Unemployed\\\":0,\\\"Industry\\\":0,\\\"Gender\\\":0,\\\"Date_Inserted\\\":0,\\\"dense_rank\\\":0},\\\"tightBounds\\\":true}\",\"tags\":{\"MAX_INSERTION_TIME\":\"1727877087000000\",\"INSERTION_TIME\":\"1727877087000000\",\"MIN_INSERTION_TIME\":\"1727877087000000\",\"OPTIMIZE_TARGET_SIZE\":\"268435456\"}}}"
        ]
       ],
       "datasetInfos": [],
       "dbfsResultPath": null,
       "isJsonSchema": true,
       "metadata": {},
       "overflow": false,
       "plotOptions": {
        "customPlotOptions": {},
        "displayType": "table",
        "pivotAggregation": null,
        "pivotColumns": null,
        "xColumns": null,
        "yColumns": null
       },
       "removedWidgets": [],
       "schema": [
        {
         "metadata": "{}",
         "name": "value",
         "type": "\"string\""
        }
       ],
       "type": "table"
      }
     },
     "output_type": "display_data"
    }
   ],
   "source": [
    "%python\n",
    "\n",
    "display(spark.read.format('text').load('dbfs:/user/hive/warehouse/delta.db/optimizetable/_delta_log/00000000000000000005.json'))"
   ]
  },
  {
   "cell_type": "code",
   "execution_count": 0,
   "metadata": {
    "application/vnd.databricks.v1+cell": {
     "cellMetadata": {
      "byteLimit": 2048000,
      "rowLimit": 10000
     },
     "inputWidgets": {},
     "nuid": "bebca1ca-2a3a-4a60-a0e9-003a193ec9fc",
     "showTitle": false,
     "title": ""
    }
   },
   "outputs": [
    {
     "output_type": "execute_result",
     "data": {
      "text/plain": [
       "[FileInfo(path='dbfs:/user/hive/warehouse/delta.db/optimizetable/_delta_log/', name='_delta_log/', size=0, modificationTime=1727876623000),\n",
       " FileInfo(path='dbfs:/user/hive/warehouse/delta.db/optimizetable/deletion_vector_70b969bf-b7a7-45b1-adf4-6f397f4af850.bin', name='deletion_vector_70b969bf-b7a7-45b1-adf4-6f397f4af850.bin', size=43, modificationTime=1727877108000),\n",
       " FileInfo(path='dbfs:/user/hive/warehouse/delta.db/optimizetable/deletion_vector_8fb836da-dee9-483e-a9cb-346584230628.bin', name='deletion_vector_8fb836da-dee9-483e-a9cb-346584230628.bin', size=43, modificationTime=1727877126000),\n",
       " FileInfo(path='dbfs:/user/hive/warehouse/delta.db/optimizetable/part-00000-193b3722-769d-4cff-a182-98b2cdbd45fe-c000.snappy.parquet', name='part-00000-193b3722-769d-4cff-a182-98b2cdbd45fe-c000.snappy.parquet', size=2416, modificationTime=1727877087000),\n",
       " FileInfo(path='dbfs:/user/hive/warehouse/delta.db/optimizetable/part-00000-939b1782-4de2-4568-88b3-2ed3febcd095-c000.snappy.parquet', name='part-00000-939b1782-4de2-4568-88b3-2ed3febcd095-c000.snappy.parquet', size=2417, modificationTime=1727877023000),\n",
       " FileInfo(path='dbfs:/user/hive/warehouse/delta.db/optimizetable/part-00000-962a7906-8469-4487-a7c3-50ca26131d6f-c000.snappy.parquet', name='part-00000-962a7906-8469-4487-a7c3-50ca26131d6f-c000.snappy.parquet', size=2417, modificationTime=1727876894000),\n",
       " FileInfo(path='dbfs:/user/hive/warehouse/delta.db/optimizetable/part-00000-9d88fbb3-40fd-45de-b18f-d0cca9ac84e3-c000.snappy.parquet', name='part-00000-9d88fbb3-40fd-45de-b18f-d0cca9ac84e3-c000.snappy.parquet', size=2417, modificationTime=1727877127000)]"
      ]
     },
     "execution_count": 16,
     "metadata": {},
     "output_type": "execute_result"
    }
   ],
   "source": [
    "%python\n",
    "dbutils.fs.ls('dbfs:/user/hive/warehouse/delta.db/optimizetable/')"
   ]
  },
  {
   "cell_type": "markdown",
   "metadata": {
    "application/vnd.databricks.v1+cell": {
     "cellMetadata": {},
     "inputWidgets": {},
     "nuid": "c1055eb8-19d5-4d72-94a7-cb89ac2295ff",
     "showTitle": false,
     "title": ""
    }
   },
   "source": [
    "\n",
    "## Optimize Command"
   ]
  },
  {
   "cell_type": "markdown",
   "metadata": {
    "application/vnd.databricks.v1+cell": {
     "cellMetadata": {},
     "inputWidgets": {},
     "nuid": "412ac4f4-d2bc-4e00-bfe7-a6824f1fc09f",
     "showTitle": false,
     "title": ""
    }
   },
   "source": [
    "## Comando Optimize no Delta Lake\n",
    "\n",
    "O comando `optimize` no Delta Lake é uma ferramenta poderosa para otimizar o desempenho da tabela, compactando vários arquivos pequenos em um único arquivo maior. Essa ação aborda diretamente o problema de \"arquivos pequenos\" no Spark, onde a sobrecarga de abrir, ler e fechar vários arquivos pequenos pode superar o tempo gasto na leitura do conteúdo real do arquivo.\n",
    "\n",
    "Aqui está uma análise detalhada do comando `optimize`, com base nas informações fornecidas:\n",
    "\n",
    "* **Finalidade:** O comando `optimize` compacta vários arquivos pequenos em um único arquivo, idealmente com até 1 GB de tamanho. Isso reduz a sobrecarga de E/S e melhora o desempenho de leitura de dados.\n",
    "\n",
    "* **Arquivos Ativos vs. Inativos:** O comando `optimize` considera o conceito de arquivos \"ativos\" e \"inativos\". \n",
    "    * **Arquivos ativos** contêm os dados mais recentes e válidos após operações como inserções, atualizações e exclusões.\n",
    "    * **Arquivos inativos** são aqueles logicamente removidos por meio de operações de exclusão ou atualização. Eles são mantidos fisicamente para recursos de histórico de versão ou \"viagem no tempo\", mas não são incluídos no processo de otimização.\n",
    "\n",
    "* **Processo de Otimização:**\n",
    "    * O comando `optimize` identifica arquivos ativos dentro da tabela Delta.\n",
    "    * Ele combina esses arquivos ativos em um novo arquivo maior, idealmente com até 1 GB de tamanho.\n",
    "    * Os arquivos originais usados ​​na compactação são logicamente marcados como removidos, mas permanecem fisicamente disponíveis para histórico de versão.\n",
    "\n",
    "* **Benefícios:**\n",
    "    * **Desempenho de Leitura Aprimorado:** Reduzindo o número de arquivos a serem abertos e lidos, o comando `optimize` acelera significativamente as consultas.\n",
    "    * **Uso Eficiente de Armazenamento:** Embora os arquivos inativos permaneçam, a compactação geralmente leva a uma utilização geral de armazenamento mais eficiente.\n",
    "\n",
    "* **Exemplo Prático:**\n",
    "    * As fontes fornecem um exemplo prático de como o comando `optimize` funciona. Ele demonstra a criação de uma tabela Delta, a inserção, atualização e exclusão de registros e, finalmente, a execução do comando `optimize`.\n",
    "    * Mostra a capacidade do comando `optimize` de compactar arquivos ativos, ignorando arquivos inativos e o impacto positivo no desempenho de leitura, mantendo os recursos de histórico de versão.\n",
    "\n",
    "* **Considerações:**\n",
    "    * **Recursos do Histórico de Versão:** É essencial observar que o comando `optimize` não afeta os recursos de histórico de versão ou viagem no tempo do Delta Lake. Os arquivos compactados ainda podem ser acessados ​​usando versões ou timestamps específicos.\n",
    "    * **Impacto no Desempenho:** Embora o comando `optimize` seja geralmente benéfico para o desempenho de leitura, ele pode introduzir uma sobrecarga temporária durante a operação de compactação em si. É crucial considerar o momento da otimização, especialmente em ambientes com altas taxas de  ingestão ou consulta.\n",
    "\n",
    "Resumidamente, o comando `optimize` no Delta Lake é uma ferramenta valiosa para melhorar o desempenho de leitura da tabela. Ao compactar arquivos pequenos, ele reduz a sobrecarga de E/S e otimiza o processo de consulta, preservando os recursos essenciais de histórico de versão. Entender o conceito de arquivos ativos e inativos e suas implicações no processo de otimização é vital para utilizar este comando de forma eficaz.\n"
   ]
  },
  {
   "cell_type": "code",
   "execution_count": 0,
   "metadata": {
    "application/vnd.databricks.v1+cell": {
     "cellMetadata": {
      "byteLimit": 2048000,
      "rowLimit": 10000
     },
     "inputWidgets": {},
     "nuid": "4dbe8156-70d0-4727-9f6a-a668cfc6529a",
     "showTitle": false,
     "title": ""
    }
   },
   "outputs": [
    {
     "output_type": "display_data",
     "data": {
      "text/html": [
       "<style scoped>\n",
       "  .table-result-container {\n",
       "    max-height: 300px;\n",
       "    overflow: auto;\n",
       "  }\n",
       "  table, th, td {\n",
       "    border: 1px solid black;\n",
       "    border-collapse: collapse;\n",
       "  }\n",
       "  th, td {\n",
       "    padding: 5px;\n",
       "  }\n",
       "  th {\n",
       "    text-align: left;\n",
       "  }\n",
       "</style><div class='table-result-container'><table class='table-result'><thead style='background-color: white'><tr><th>path</th><th>metrics</th></tr></thead><tbody><tr><td>dbfs:/user/hive/warehouse/delta.db/optimizetable</td><td>List(1, 2, List(2518, 2518, 2518.0, 1, 2518), List(2417, 2417, 2417.0, 2, 4834), 0, null, null, 0, 1, 2, 0, true, 0, 0, 1727877144697, 1727877152514, 4, 1, null, List(0, 0), 8, 8, 466, 0, null)</td></tr></tbody></table></div>"
      ]
     },
     "metadata": {
      "application/vnd.databricks.v1+output": {
       "addedWidgets": {},
       "aggData": [],
       "aggError": "",
       "aggOverflow": false,
       "aggSchema": [],
       "aggSeriesLimitReached": false,
       "aggType": "",
       "arguments": {},
       "columnCustomDisplayInfos": {},
       "data": [
        [
         "dbfs:/user/hive/warehouse/delta.db/optimizetable",
         [
          1,
          2,
          [
           2518,
           2518,
           2518.0,
           1,
           2518
          ],
          [
           2417,
           2417,
           2417.0,
           2,
           4834
          ],
          0,
          null,
          null,
          0,
          1,
          2,
          0,
          true,
          0,
          0,
          1727877144697,
          1727877152514,
          4,
          1,
          null,
          [
           0,
           0
          ],
          8,
          8,
          466,
          0,
          null
         ]
        ]
       ],
       "datasetInfos": [],
       "dbfsResultPath": null,
       "isJsonSchema": true,
       "metadata": {},
       "overflow": false,
       "plotOptions": {
        "customPlotOptions": {},
        "displayType": "table",
        "pivotAggregation": null,
        "pivotColumns": null,
        "xColumns": null,
        "yColumns": null
       },
       "removedWidgets": [],
       "schema": [
        {
         "metadata": "{}",
         "name": "path",
         "type": "\"string\""
        },
        {
         "metadata": "{}",
         "name": "metrics",
         "type": "{\"type\":\"struct\",\"fields\":[{\"name\":\"numFilesAdded\",\"type\":\"long\",\"nullable\":false,\"metadata\":{}},{\"name\":\"numFilesRemoved\",\"type\":\"long\",\"nullable\":false,\"metadata\":{}},{\"name\":\"filesAdded\",\"type\":{\"type\":\"struct\",\"fields\":[{\"name\":\"min\",\"type\":\"long\",\"nullable\":true,\"metadata\":{}},{\"name\":\"max\",\"type\":\"long\",\"nullable\":true,\"metadata\":{}},{\"name\":\"avg\",\"type\":\"double\",\"nullable\":false,\"metadata\":{}},{\"name\":\"totalFiles\",\"type\":\"long\",\"nullable\":false,\"metadata\":{}},{\"name\":\"totalSize\",\"type\":\"long\",\"nullable\":false,\"metadata\":{}}]},\"nullable\":true,\"metadata\":{}},{\"name\":\"filesRemoved\",\"type\":{\"type\":\"struct\",\"fields\":[{\"name\":\"min\",\"type\":\"long\",\"nullable\":true,\"metadata\":{}},{\"name\":\"max\",\"type\":\"long\",\"nullable\":true,\"metadata\":{}},{\"name\":\"avg\",\"type\":\"double\",\"nullable\":false,\"metadata\":{}},{\"name\":\"totalFiles\",\"type\":\"long\",\"nullable\":false,\"metadata\":{}},{\"name\":\"totalSize\",\"type\":\"long\",\"nullable\":false,\"metadata\":{}}]},\"nullable\":true,\"metadata\":{}},{\"name\":\"partitionsOptimized\",\"type\":\"long\",\"nullable\":false,\"metadata\":{}},{\"name\":\"zOrderStats\",\"type\":{\"type\":\"struct\",\"fields\":[{\"name\":\"strategyName\",\"type\":\"string\",\"nullable\":true,\"metadata\":{}},{\"name\":\"inputCubeFiles\",\"type\":{\"type\":\"struct\",\"fields\":[{\"name\":\"num\",\"type\":\"long\",\"nullable\":false,\"metadata\":{}},{\"name\":\"size\",\"type\":\"long\",\"nullable\":false,\"metadata\":{}}]},\"nullable\":true,\"metadata\":{}},{\"name\":\"inputOtherFiles\",\"type\":{\"type\":\"struct\",\"fields\":[{\"name\":\"num\",\"type\":\"long\",\"nullable\":false,\"metadata\":{}},{\"name\":\"size\",\"type\":\"long\",\"nullable\":false,\"metadata\":{}}]},\"nullable\":true,\"metadata\":{}},{\"name\":\"inputNumCubes\",\"type\":\"long\",\"nullable\":false,\"metadata\":{}},{\"name\":\"mergedFiles\",\"type\":{\"type\":\"struct\",\"fields\":[{\"name\":\"num\",\"type\":\"long\",\"nullable\":false,\"metadata\":{}},{\"name\":\"size\",\"type\":\"long\",\"nullable\":false,\"metadata\":{}}]},\"nullable\":true,\"metadata\":{}},{\"name\":\"numOutputCubes\",\"type\":\"long\",\"nullable\":false,\"metadata\":{}},{\"name\":\"mergedNumCubes\",\"type\":\"long\",\"nullable\":true,\"metadata\":{}}]},\"nullable\":true,\"metadata\":{}},{\"name\":\"clusteringStats\",\"type\":{\"type\":\"struct\",\"fields\":[{\"name\":\"inputZCubeFiles\",\"type\":{\"type\":\"struct\",\"fields\":[{\"name\":\"numFiles\",\"type\":\"long\",\"nullable\":false,\"metadata\":{}},{\"name\":\"size\",\"type\":\"long\",\"nullable\":false,\"metadata\":{}}]},\"nullable\":true,\"metadata\":{}},{\"name\":\"inputOtherFiles\",\"type\":{\"type\":\"struct\",\"fields\":[{\"name\":\"numFiles\",\"type\":\"long\",\"nullable\":false,\"metadata\":{}},{\"name\":\"size\",\"type\":\"long\",\"nullable\":false,\"metadata\":{}}]},\"nullable\":true,\"metadata\":{}},{\"name\":\"inputNumZCubes\",\"type\":\"long\",\"nullable\":false,\"metadata\":{}},{\"name\":\"mergedFiles\",\"type\":{\"type\":\"struct\",\"fields\":[{\"name\":\"numFiles\",\"type\":\"long\",\"nullable\":false,\"metadata\":{}},{\"name\":\"size\",\"type\":\"long\",\"nullable\":false,\"metadata\":{}}]},\"nullable\":true,\"metadata\":{}},{\"name\":\"numOutputZCubes\",\"type\":\"long\",\"nullable\":false,\"metadata\":{}}]},\"nullable\":true,\"metadata\":{}},{\"name\":\"numBins\",\"type\":\"long\",\"nullable\":false,\"metadata\":{}},{\"name\":\"numBatches\",\"type\":\"long\",\"nullable\":false,\"metadata\":{}},{\"name\":\"totalConsideredFiles\",\"type\":\"long\",\"nullable\":false,\"metadata\":{}},{\"name\":\"totalFilesSkipped\",\"type\":\"long\",\"nullable\":false,\"metadata\":{}},{\"name\":\"preserveInsertionOrder\",\"type\":\"boolean\",\"nullable\":false,\"metadata\":{}},{\"name\":\"numFilesSkippedToReduceWriteAmplification\",\"type\":\"long\",\"nullable\":false,\"metadata\":{}},{\"name\":\"numBytesSkippedToReduceWriteAmplification\",\"type\":\"long\",\"nullable\":false,\"metadata\":{}},{\"name\":\"startTimeMs\",\"type\":\"long\",\"nullable\":false,\"metadata\":{}},{\"name\":\"endTimeMs\",\"type\":\"long\",\"nullable\":false,\"metadata\":{}},{\"name\":\"totalClusterParallelism\",\"type\":\"long\",\"nullable\":false,\"metadata\":{}},{\"name\":\"totalScheduledTasks\",\"type\":\"long\",\"nullable\":false,\"metadata\":{}},{\"name\":\"autoCompactParallelismStats\",\"type\":{\"type\":\"struct\",\"fields\":[{\"name\":\"maxClusterActiveParallelism\",\"type\":\"long\",\"nullable\":true,\"metadata\":{}},{\"name\":\"minClusterActiveParallelism\",\"type\":\"long\",\"nullable\":true,\"metadata\":{}},{\"name\":\"maxSessionActiveParallelism\",\"type\":\"long\",\"nullable\":true,\"metadata\":{}},{\"name\":\"minSessionActiveParallelism\",\"type\":\"long\",\"nullable\":true,\"metadata\":{}}]},\"nullable\":true,\"metadata\":{}},{\"name\":\"deletionVectorStats\",\"type\":{\"type\":\"struct\",\"fields\":[{\"name\":\"numDeletionVectorsRemoved\",\"type\":\"long\",\"nullable\":false,\"metadata\":{}},{\"name\":\"numDeletionVectorRowsRemoved\",\"type\":\"long\",\"nullable\":false,\"metadata\":{}}]},\"nullable\":true,\"metadata\":{}},{\"name\":\"numTableColumns\",\"type\":\"long\",\"nullable\":false,\"metadata\":{}},{\"name\":\"numTableColumnsWithStats\",\"type\":\"long\",\"nullable\":false,\"metadata\":{}},{\"name\":\"totalTaskExecutionTimeMs\",\"type\":\"long\",\"nullable\":false,\"metadata\":{}},{\"name\":\"skippedArchivedFiles\",\"type\":\"long\",\"nullable\":false,\"metadata\":{}},{\"name\":\"clusteringMetrics\",\"type\":{\"type\":\"struct\",\"fields\":[{\"name\":\"sizeOfTableInBytesBeforeLazyClustering\",\"type\":\"long\",\"nullable\":false,\"metadata\":{}},{\"name\":\"isNewMetadataCreated\",\"type\":\"boolean\",\"nullable\":false,\"metadata\":{}},{\"name\":\"isPOTriggered\",\"type\":\"boolean\",\"nullable\":false,\"metadata\":{}},{\"name\":\"numFilesSkippedWithoutStats\",\"type\":\"long\",\"nullable\":false,\"metadata\":{}},{\"name\":\"numFilesClassifiedToIntermediateNodes\",\"type\":\"long\",\"nullable\":false,\"metadata\":{}},{\"name\":\"sizeOfFilesClassifiedToIntermediateNodesInBytes\",\"type\":\"long\",\"nullable\":false,\"metadata\":{}},{\"name\":\"logicalSizeOfFilesClassifiedToIntermediateNodesInBytes\",\"type\":\"long\",\"nullable\":false,\"metadata\":{}},{\"name\":\"numFilesClassifiedToLeafNodes\",\"type\":\"long\",\"nullable\":false,\"metadata\":{}},{\"name\":\"sizeOfFilesClassifiedToLeafNodesInBytes\",\"type\":\"long\",\"nullable\":false,\"metadata\":{}},{\"name\":\"logicalSizeOfFilesClassifiedToLeafNodesInBytes\",\"type\":\"long\",\"nullable\":false,\"metadata\":{}},{\"name\":\"numThreadsForClassifier\",\"type\":\"integer\",\"nullable\":true,\"metadata\":{}},{\"name\":\"clusterThresholdStrategy\",\"type\":\"string\",\"nullable\":true,\"metadata\":{}},{\"name\":\"minFileSize\",\"type\":\"long\",\"nullable\":false,\"metadata\":{}},{\"name\":\"maxFileSize\",\"type\":\"long\",\"nullable\":false,\"metadata\":{}},{\"name\":\"nodeMinNumFilesToCompact\",\"type\":\"long\",\"nullable\":false,\"metadata\":{}},{\"name\":\"numIdealFiles\",\"type\":\"long\",\"nullable\":false,\"metadata\":{}},{\"name\":\"numClusteringTasksPlanned\",\"type\":\"integer\",\"nullable\":false,\"metadata\":{}},{\"name\":\"numCompactionTasksPlanned\",\"type\":\"integer\",\"nullable\":false,\"metadata\":{}},{\"name\":\"numOptimizeBatchesPlanned\",\"type\":\"integer\",\"nullable\":false,\"metadata\":{}},{\"name\":\"numLeafNodesExpanded\",\"type\":\"long\",\"nullable\":false,\"metadata\":{}},{\"name\":\"numLeafNodesClustered\",\"type\":\"long\",\"nullable\":false,\"metadata\":{}},{\"name\":\"numGetFilesForNodeCalls\",\"type\":\"long\",\"nullable\":false,\"metadata\":{}},{\"name\":\"numSamplingJobs\",\"type\":\"long\",\"nullable\":false,\"metadata\":{}},{\"name\":\"numLeafNodesCompacted\",\"type\":\"long\",\"nullable\":false,\"metadata\":{}},{\"name\":\"numIntermediateNodesCompacted\",\"type\":\"long\",\"nullable\":false,\"metadata\":{}},{\"name\":\"totalSizeOfDataToCompactInBytes\",\"type\":\"long\",\"nullable\":false,\"metadata\":{}},{\"name\":\"totalLogicalSizeOfDataToCompactInBytes\",\"type\":\"long\",\"nullable\":false,\"metadata\":{}},{\"name\":\"numIntermediateNodesClustered\",\"type\":\"long\",\"nullable\":false,\"metadata\":{}},{\"name\":\"numFilesSkippedAfterExpansion\",\"type\":\"long\",\"nullable\":false,\"metadata\":{}},{\"name\":\"totalSizeOfFilesSkippedAfterExpansionInBytes\",\"type\":\"long\",\"nullable\":false,\"metadata\":{}},{\"name\":\"totalLogicalSizeOfFilesSkippedAfterExpansionInBytes\",\"type\":\"long\",\"nullable\":false,\"metadata\":{}},{\"name\":\"totalSizeOfDataToRewriteInBytes\",\"type\":\"long\",\"nullable\":false,\"metadata\":{}},{\"name\":\"totalLogicalSizeOfDataToRewriteInBytes\",\"type\":\"long\",\"nullable\":false,\"metadata\":{}},{\"name\":\"timeMetrics\",\"type\":{\"type\":\"struct\",\"fields\":[{\"name\":\"classifierTimeMs\",\"type\":\"long\",\"nullable\":false,\"metadata\":{}},{\"name\":\"optimizerTimeMs\",\"type\":\"long\",\"nullable\":false,\"metadata\":{}},{\"name\":\"metadataLoadTimeMs\",\"type\":\"long\",\"nullable\":false,\"metadata\":{}},{\"name\":\"totalGetFilesForNodeCallsTimeMs\",\"type\":\"long\",\"nullable\":false,\"metadata\":{}},{\"name\":\"totalSamplingTimeMs\",\"type\":\"long\",\"nullable\":false,\"metadata\":{}},{\"name\":\"metadataCreationTimeMs\",\"type\":\"long\",\"nullable\":false,\"metadata\":{}}]},\"nullable\":true,\"metadata\":{}},{\"name\":\"maxOptimizeBatchesInParallel\",\"type\":\"long\",\"nullable\":false,\"metadata\":{}},{\"name\":\"currentIteration\",\"type\":\"integer\",\"nullable\":false,\"metadata\":{}},{\"name\":\"maxIterations\",\"type\":\"integer\",\"nullable\":false,\"metadata\":{}},{\"name\":\"clusteringStrategy\",\"type\":\"string\",\"nullable\":true,\"metadata\":{}}]},\"nullable\":true,\"metadata\":{}}]}"
        }
       ],
       "type": "table"
      }
     },
     "output_type": "display_data"
    }
   ],
   "source": [
    "\n",
    "OPTIMIZE `delta`.OptimizeTable;"
   ]
  },
  {
   "cell_type": "code",
   "execution_count": 0,
   "metadata": {
    "application/vnd.databricks.v1+cell": {
     "cellMetadata": {
      "byteLimit": 2048000,
      "rowLimit": 10000
     },
     "inputWidgets": {},
     "nuid": "4a919c98-e4b3-4131-98c9-71eac333f23c",
     "showTitle": false,
     "title": ""
    }
   },
   "outputs": [
    {
     "output_type": "execute_result",
     "data": {
      "text/plain": [
       "[FileInfo(path='dbfs:/user/hive/warehouse/delta.db/optimizetable/_delta_log/00000000000000000000.crc', name='00000000000000000000.crc', size=2847, modificationTime=1727876627000),\n",
       " FileInfo(path='dbfs:/user/hive/warehouse/delta.db/optimizetable/_delta_log/00000000000000000000.json', name='00000000000000000000.json', size=1778, modificationTime=1727876623000),\n",
       " FileInfo(path='dbfs:/user/hive/warehouse/delta.db/optimizetable/_delta_log/00000000000000000001.00000000000000000006.compacted.json', name='00000000000000000001.00000000000000000006.compacted.json', size=2854, modificationTime=1727877152000),\n",
       " FileInfo(path='dbfs:/user/hive/warehouse/delta.db/optimizetable/_delta_log/00000000000000000001.crc', name='00000000000000000001.crc', size=3787, modificationTime=1727876897000),\n",
       " FileInfo(path='dbfs:/user/hive/warehouse/delta.db/optimizetable/_delta_log/00000000000000000001.json', name='00000000000000000001.json', size=1539, modificationTime=1727876894000),\n",
       " FileInfo(path='dbfs:/user/hive/warehouse/delta.db/optimizetable/_delta_log/00000000000000000002.crc', name='00000000000000000002.crc', size=4722, modificationTime=1727877025000),\n",
       " FileInfo(path='dbfs:/user/hive/warehouse/delta.db/optimizetable/_delta_log/00000000000000000002.json', name='00000000000000000002.json', size=1539, modificationTime=1727877023000),\n",
       " FileInfo(path='dbfs:/user/hive/warehouse/delta.db/optimizetable/_delta_log/00000000000000000003.crc', name='00000000000000000003.crc', size=5657, modificationTime=1727877090000),\n",
       " FileInfo(path='dbfs:/user/hive/warehouse/delta.db/optimizetable/_delta_log/00000000000000000003.json', name='00000000000000000003.json', size=1539, modificationTime=1727877087000),\n",
       " FileInfo(path='dbfs:/user/hive/warehouse/delta.db/optimizetable/_delta_log/00000000000000000004.crc', name='00000000000000000004.crc', size=4722, modificationTime=1727877111000),\n",
       " FileInfo(path='dbfs:/user/hive/warehouse/delta.db/optimizetable/_delta_log/00000000000000000004.json', name='00000000000000000004.json', size=1275, modificationTime=1727877109000),\n",
       " FileInfo(path='dbfs:/user/hive/warehouse/delta.db/optimizetable/_delta_log/00000000000000000005.crc', name='00000000000000000005.crc', size=4720, modificationTime=1727877130000),\n",
       " FileInfo(path='dbfs:/user/hive/warehouse/delta.db/optimizetable/_delta_log/00000000000000000005.json', name='00000000000000000005.json', size=2219, modificationTime=1727877128000),\n",
       " FileInfo(path='dbfs:/user/hive/warehouse/delta.db/optimizetable/_delta_log/00000000000000000006.crc', name='00000000000000000006.crc', size=3786, modificationTime=1727877152000),\n",
       " FileInfo(path='dbfs:/user/hive/warehouse/delta.db/optimizetable/_delta_log/00000000000000000006.json', name='00000000000000000006.json', size=2845, modificationTime=1727877150000),\n",
       " FileInfo(path='dbfs:/user/hive/warehouse/delta.db/optimizetable/_delta_log/__tmp_path_dir/', name='__tmp_path_dir/', size=0, modificationTime=1727876623000),\n",
       " FileInfo(path='dbfs:/user/hive/warehouse/delta.db/optimizetable/_delta_log/_commits/', name='_commits/', size=0, modificationTime=1727876623000)]"
      ]
     },
     "execution_count": 17,
     "metadata": {},
     "output_type": "execute_result"
    }
   ],
   "source": [
    "%python\n",
    "dbutils.fs.ls('dbfs:/user/hive/warehouse/delta.db/optimizetable/_delta_log')"
   ]
  },
  {
   "cell_type": "code",
   "execution_count": 0,
   "metadata": {
    "application/vnd.databricks.v1+cell": {
     "cellMetadata": {
      "byteLimit": 2048000,
      "rowLimit": 10000
     },
     "inputWidgets": {},
     "nuid": "87da4491-475f-472c-b5c0-4e72e4dbe4b3",
     "showTitle": false,
     "title": ""
    }
   },
   "outputs": [
    {
     "output_type": "display_data",
     "data": {
      "text/html": [
       "<style scoped>\n",
       "  .table-result-container {\n",
       "    max-height: 300px;\n",
       "    overflow: auto;\n",
       "  }\n",
       "  table, th, td {\n",
       "    border: 1px solid black;\n",
       "    border-collapse: collapse;\n",
       "  }\n",
       "  th, td {\n",
       "    padding: 5px;\n",
       "  }\n",
       "  th {\n",
       "    text-align: left;\n",
       "  }\n",
       "</style><div class='table-result-container'><table class='table-result'><thead style='background-color: white'><tr><th>value</th></tr></thead><tbody><tr><td>{\"commitInfo\":{\"timestamp\":1727877149656,\"userId\":\"2239208310904017\",\"userName\":\"lepina73@hotmail.com\",\"operation\":\"OPTIMIZE\",\"operationParameters\":{\"predicate\":\"[]\",\"auto\":false,\"clusterBy\":\"[]\",\"zOrderBy\":\"[]\",\"batchId\":\"0\"},\"notebook\":{\"notebookId\":\"1568999877190023\"},\"clusterId\":\"1002-133533-ruymvarr\",\"readVersion\":5,\"isolationLevel\":\"SnapshotIsolation\",\"isBlindAppend\":false,\"operationMetrics\":{\"numRemovedFiles\":\"2\",\"numRemovedBytes\":\"4834\",\"p25FileSize\":\"2518\",\"numDeletionVectorsRemoved\":\"0\",\"minFileSize\":\"2518\",\"numAddedFiles\":\"1\",\"maxFileSize\":\"2518\",\"p75FileSize\":\"2518\",\"p50FileSize\":\"2518\",\"numAddedBytes\":\"2518\"},\"tags\":{\"delta.rowTracking.preserved\":\"false\"},\"engineInfo\":\"Databricks-Runtime/15.4.x-scala2.12\",\"txnId\":\"0f46827a-0511-48a4-8ce5-3f73bab60775\"}}</td></tr><tr><td>{\"remove\":{\"path\":\"part-00000-962a7906-8469-4487-a7c3-50ca26131d6f-c000.snappy.parquet\",\"deletionTimestamp\":1727877148638,\"dataChange\":false,\"extendedFileMetadata\":true,\"partitionValues\":{},\"size\":2417,\"tags\":{\"MAX_INSERTION_TIME\":\"1727876894000000\",\"INSERTION_TIME\":\"1727876894000000\",\"compactedInto\":\"[\\\"part-00000-e1a29c54-98c4-457a-9bb4-86fff02db12b-c000.snappy.parquet\\\"]\",\"compactionInfo\":\"[{\\\"rowOffsetInTarget\\\":0,\\\"sourceNumPhysicalRecords\\\":1}]\",\"MIN_INSERTION_TIME\":\"1727876894000000\",\"OPTIMIZE_TARGET_SIZE\":\"268435456\"},\"stats\":\"{\\\"numRecords\\\":1}\"}}</td></tr><tr><td>{\"remove\":{\"path\":\"part-00000-9d88fbb3-40fd-45de-b18f-d0cca9ac84e3-c000.snappy.parquet\",\"deletionTimestamp\":1727877148638,\"dataChange\":false,\"extendedFileMetadata\":true,\"partitionValues\":{},\"size\":2417,\"tags\":{\"MAX_INSERTION_TIME\":\"1727877087000000\",\"INSERTION_TIME\":\"1727877087000000\",\"compactedInto\":\"[\\\"part-00000-e1a29c54-98c4-457a-9bb4-86fff02db12b-c000.snappy.parquet\\\"]\",\"compactionInfo\":\"[{\\\"rowOffsetInTarget\\\":1,\\\"sourceNumPhysicalRecords\\\":1}]\",\"MIN_INSERTION_TIME\":\"1727877087000000\",\"OPTIMIZE_TARGET_SIZE\":\"268435456\"},\"stats\":\"{\\\"numRecords\\\":1}\"}}</td></tr><tr><td>{\"add\":{\"path\":\"part-00000-e1a29c54-98c4-457a-9bb4-86fff02db12b-c000.snappy.parquet\",\"partitionValues\":{},\"size\":2518,\"modificationTime\":1727877150000,\"dataChange\":false,\"stats\":\"{\\\"numRecords\\\":2,\\\"minValues\\\":{\\\"Education_Level\\\":\\\"Bachelor\\\",\\\"Line_Number\\\":99,\\\"Employed\\\":4500,\\\"Unemployed\\\":500,\\\"Industry\\\":\\\"Networking\\\",\\\"Gender\\\":\\\"Female\\\",\\\"Date_Inserted\\\":\\\"2023-07-12\\\",\\\"dense_rank\\\":1},\\\"maxValues\\\":{\\\"Education_Level\\\":\\\"Master\\\",\\\"Line_Number\\\":100,\\\"Employed\\\":6500,\\\"Unemployed\\\":500,\\\"Industry\\\":\\\"Networking\\\",\\\"Gender\\\":\\\"Male\\\",\\\"Date_Inserted\\\":\\\"2023-07-12\\\",\\\"dense_rank\\\":3},\\\"nullCount\\\":{\\\"Education_Level\\\":0,\\\"Line_Number\\\":0,\\\"Employed\\\":0,\\\"Unemployed\\\":0,\\\"Industry\\\":0,\\\"Gender\\\":0,\\\"Date_Inserted\\\":0,\\\"dense_rank\\\":0},\\\"tightBounds\\\":true}\",\"tags\":{\"MAX_INSERTION_TIME\":\"1727877087000000\",\"INSERTION_TIME\":\"1727876894000000\",\"MIN_INSERTION_TIME\":\"1727876894000000\",\"OPTIMIZE_TARGET_SIZE\":\"268435456\"}}}</td></tr></tbody></table></div>"
      ]
     },
     "metadata": {
      "application/vnd.databricks.v1+output": {
       "addedWidgets": {},
       "aggData": [],
       "aggError": "",
       "aggOverflow": false,
       "aggSchema": [],
       "aggSeriesLimitReached": false,
       "aggType": "",
       "arguments": {},
       "columnCustomDisplayInfos": {},
       "data": [
        [
         "{\"commitInfo\":{\"timestamp\":1727877149656,\"userId\":\"2239208310904017\",\"userName\":\"lepina73@hotmail.com\",\"operation\":\"OPTIMIZE\",\"operationParameters\":{\"predicate\":\"[]\",\"auto\":false,\"clusterBy\":\"[]\",\"zOrderBy\":\"[]\",\"batchId\":\"0\"},\"notebook\":{\"notebookId\":\"1568999877190023\"},\"clusterId\":\"1002-133533-ruymvarr\",\"readVersion\":5,\"isolationLevel\":\"SnapshotIsolation\",\"isBlindAppend\":false,\"operationMetrics\":{\"numRemovedFiles\":\"2\",\"numRemovedBytes\":\"4834\",\"p25FileSize\":\"2518\",\"numDeletionVectorsRemoved\":\"0\",\"minFileSize\":\"2518\",\"numAddedFiles\":\"1\",\"maxFileSize\":\"2518\",\"p75FileSize\":\"2518\",\"p50FileSize\":\"2518\",\"numAddedBytes\":\"2518\"},\"tags\":{\"delta.rowTracking.preserved\":\"false\"},\"engineInfo\":\"Databricks-Runtime/15.4.x-scala2.12\",\"txnId\":\"0f46827a-0511-48a4-8ce5-3f73bab60775\"}}"
        ],
        [
         "{\"remove\":{\"path\":\"part-00000-962a7906-8469-4487-a7c3-50ca26131d6f-c000.snappy.parquet\",\"deletionTimestamp\":1727877148638,\"dataChange\":false,\"extendedFileMetadata\":true,\"partitionValues\":{},\"size\":2417,\"tags\":{\"MAX_INSERTION_TIME\":\"1727876894000000\",\"INSERTION_TIME\":\"1727876894000000\",\"compactedInto\":\"[\\\"part-00000-e1a29c54-98c4-457a-9bb4-86fff02db12b-c000.snappy.parquet\\\"]\",\"compactionInfo\":\"[{\\\"rowOffsetInTarget\\\":0,\\\"sourceNumPhysicalRecords\\\":1}]\",\"MIN_INSERTION_TIME\":\"1727876894000000\",\"OPTIMIZE_TARGET_SIZE\":\"268435456\"},\"stats\":\"{\\\"numRecords\\\":1}\"}}"
        ],
        [
         "{\"remove\":{\"path\":\"part-00000-9d88fbb3-40fd-45de-b18f-d0cca9ac84e3-c000.snappy.parquet\",\"deletionTimestamp\":1727877148638,\"dataChange\":false,\"extendedFileMetadata\":true,\"partitionValues\":{},\"size\":2417,\"tags\":{\"MAX_INSERTION_TIME\":\"1727877087000000\",\"INSERTION_TIME\":\"1727877087000000\",\"compactedInto\":\"[\\\"part-00000-e1a29c54-98c4-457a-9bb4-86fff02db12b-c000.snappy.parquet\\\"]\",\"compactionInfo\":\"[{\\\"rowOffsetInTarget\\\":1,\\\"sourceNumPhysicalRecords\\\":1}]\",\"MIN_INSERTION_TIME\":\"1727877087000000\",\"OPTIMIZE_TARGET_SIZE\":\"268435456\"},\"stats\":\"{\\\"numRecords\\\":1}\"}}"
        ],
        [
         "{\"add\":{\"path\":\"part-00000-e1a29c54-98c4-457a-9bb4-86fff02db12b-c000.snappy.parquet\",\"partitionValues\":{},\"size\":2518,\"modificationTime\":1727877150000,\"dataChange\":false,\"stats\":\"{\\\"numRecords\\\":2,\\\"minValues\\\":{\\\"Education_Level\\\":\\\"Bachelor\\\",\\\"Line_Number\\\":99,\\\"Employed\\\":4500,\\\"Unemployed\\\":500,\\\"Industry\\\":\\\"Networking\\\",\\\"Gender\\\":\\\"Female\\\",\\\"Date_Inserted\\\":\\\"2023-07-12\\\",\\\"dense_rank\\\":1},\\\"maxValues\\\":{\\\"Education_Level\\\":\\\"Master\\\",\\\"Line_Number\\\":100,\\\"Employed\\\":6500,\\\"Unemployed\\\":500,\\\"Industry\\\":\\\"Networking\\\",\\\"Gender\\\":\\\"Male\\\",\\\"Date_Inserted\\\":\\\"2023-07-12\\\",\\\"dense_rank\\\":3},\\\"nullCount\\\":{\\\"Education_Level\\\":0,\\\"Line_Number\\\":0,\\\"Employed\\\":0,\\\"Unemployed\\\":0,\\\"Industry\\\":0,\\\"Gender\\\":0,\\\"Date_Inserted\\\":0,\\\"dense_rank\\\":0},\\\"tightBounds\\\":true}\",\"tags\":{\"MAX_INSERTION_TIME\":\"1727877087000000\",\"INSERTION_TIME\":\"1727876894000000\",\"MIN_INSERTION_TIME\":\"1727876894000000\",\"OPTIMIZE_TARGET_SIZE\":\"268435456\"}}}"
        ]
       ],
       "datasetInfos": [],
       "dbfsResultPath": null,
       "isJsonSchema": true,
       "metadata": {},
       "overflow": false,
       "plotOptions": {
        "customPlotOptions": {},
        "displayType": "table",
        "pivotAggregation": null,
        "pivotColumns": null,
        "xColumns": null,
        "yColumns": null
       },
       "removedWidgets": [],
       "schema": [
        {
         "metadata": "{}",
         "name": "value",
         "type": "\"string\""
        }
       ],
       "type": "table"
      }
     },
     "output_type": "display_data"
    }
   ],
   "source": [
    "%python\n",
    "\n",
    "display(spark.read.format('text').load('dbfs:/user/hive/warehouse/delta.db/optimizetable/_delta_log/00000000000000000006.json'))"
   ]
  },
  {
   "cell_type": "code",
   "execution_count": 0,
   "metadata": {
    "application/vnd.databricks.v1+cell": {
     "cellMetadata": {
      "byteLimit": 2048000,
      "rowLimit": 10000
     },
     "inputWidgets": {},
     "nuid": "407b3c1f-a491-42ca-989f-761962542b28",
     "showTitle": false,
     "title": ""
    }
   },
   "outputs": [
    {
     "output_type": "display_data",
     "data": {
      "text/html": [
       "<style scoped>\n",
       "  .table-result-container {\n",
       "    max-height: 300px;\n",
       "    overflow: auto;\n",
       "  }\n",
       "  table, th, td {\n",
       "    border: 1px solid black;\n",
       "    border-collapse: collapse;\n",
       "  }\n",
       "  th, td {\n",
       "    padding: 5px;\n",
       "  }\n",
       "  th {\n",
       "    text-align: left;\n",
       "  }\n",
       "</style><div class='table-result-container'><table class='table-result'><thead style='background-color: white'><tr><th>Education_Level</th><th>Line_Number</th><th>Employed</th><th>Unemployed</th><th>Industry</th><th>Gender</th><th>Date_Inserted</th><th>dense_rank</th></tr></thead><tbody><tr><td>Bachelor</td><td>100</td><td>4500</td><td>500</td><td>Networking</td><td>Male</td><td>2023-07-12</td><td>1</td></tr><tr><td>Master</td><td>99</td><td>6500</td><td>500</td><td>Networking</td><td>Female</td><td>2023-07-12</td><td>3</td></tr></tbody></table></div>"
      ]
     },
     "metadata": {
      "application/vnd.databricks.v1+output": {
       "addedWidgets": {},
       "aggData": [],
       "aggError": "",
       "aggOverflow": false,
       "aggSchema": [],
       "aggSeriesLimitReached": false,
       "aggType": "",
       "arguments": {},
       "columnCustomDisplayInfos": {},
       "data": [
        [
         "Bachelor",
         100,
         4500,
         500,
         "Networking",
         "Male",
         "2023-07-12",
         1
        ],
        [
         "Master",
         99,
         6500,
         500,
         "Networking",
         "Female",
         "2023-07-12",
         3
        ]
       ],
       "datasetInfos": [],
       "dbfsResultPath": null,
       "isJsonSchema": true,
       "metadata": {
        "isDbfsCommandResult": false
       },
       "overflow": false,
       "plotOptions": {
        "customPlotOptions": {},
        "displayType": "table",
        "pivotAggregation": null,
        "pivotColumns": null,
        "xColumns": null,
        "yColumns": null
       },
       "removedWidgets": [],
       "schema": [
        {
         "metadata": "{\"__CHAR_VARCHAR_TYPE_STRING\":\"varchar(50)\"}",
         "name": "Education_Level",
         "type": "\"string\""
        },
        {
         "metadata": "{}",
         "name": "Line_Number",
         "type": "\"integer\""
        },
        {
         "metadata": "{}",
         "name": "Employed",
         "type": "\"integer\""
        },
        {
         "metadata": "{}",
         "name": "Unemployed",
         "type": "\"integer\""
        },
        {
         "metadata": "{\"__CHAR_VARCHAR_TYPE_STRING\":\"varchar(50)\"}",
         "name": "Industry",
         "type": "\"string\""
        },
        {
         "metadata": "{\"__CHAR_VARCHAR_TYPE_STRING\":\"varchar(10)\"}",
         "name": "Gender",
         "type": "\"string\""
        },
        {
         "metadata": "{}",
         "name": "Date_Inserted",
         "type": "\"date\""
        },
        {
         "metadata": "{}",
         "name": "dense_rank",
         "type": "\"integer\""
        }
       ],
       "type": "table"
      }
     },
     "output_type": "display_data"
    }
   ],
   "source": [
    "SELECT *\n",
    "FROM `delta`.OptimizeTable;"
   ]
  },
  {
   "cell_type": "code",
   "execution_count": 0,
   "metadata": {
    "application/vnd.databricks.v1+cell": {
     "cellMetadata": {
      "byteLimit": 2048000,
      "rowLimit": 10000
     },
     "inputWidgets": {},
     "nuid": "d4bf2145-1f3f-4e9b-a48e-5c76c43cbdae",
     "showTitle": false,
     "title": ""
    }
   },
   "outputs": [
    {
     "output_type": "display_data",
     "data": {
      "text/html": [
       "<style scoped>\n",
       "  .table-result-container {\n",
       "    max-height: 300px;\n",
       "    overflow: auto;\n",
       "  }\n",
       "  table, th, td {\n",
       "    border: 1px solid black;\n",
       "    border-collapse: collapse;\n",
       "  }\n",
       "  th, td {\n",
       "    padding: 5px;\n",
       "  }\n",
       "  th {\n",
       "    text-align: left;\n",
       "  }\n",
       "</style><div class='table-result-container'><table class='table-result'><thead style='background-color: white'><tr><th>version</th><th>timestamp</th><th>userId</th><th>userName</th><th>operation</th><th>operationParameters</th><th>job</th><th>notebook</th><th>clusterId</th><th>readVersion</th><th>isolationLevel</th><th>isBlindAppend</th><th>operationMetrics</th><th>userMetadata</th><th>engineInfo</th></tr></thead><tbody><tr><td>6</td><td>2024-10-02T13:52:30Z</td><td>2239208310904017</td><td>lepina73@hotmail.com</td><td>OPTIMIZE</td><td>Map(predicate -> [], auto -> false, clusterBy -> [], zOrderBy -> [], batchId -> 0)</td><td>null</td><td>List(1568999877190023)</td><td>1002-133533-ruymvarr</td><td>5</td><td>SnapshotIsolation</td><td>false</td><td>Map(numRemovedFiles -> 2, numRemovedBytes -> 4834, p25FileSize -> 2518, numDeletionVectorsRemoved -> 0, minFileSize -> 2518, numAddedFiles -> 1, maxFileSize -> 2518, p75FileSize -> 2518, p50FileSize -> 2518, numAddedBytes -> 2518)</td><td>null</td><td>Databricks-Runtime/15.4.x-scala2.12</td></tr><tr><td>5</td><td>2024-10-02T13:52:08Z</td><td>2239208310904017</td><td>lepina73@hotmail.com</td><td>UPDATE</td><td>Map(predicate -> [\"(Line_Number#3929 = 102)\"])</td><td>null</td><td>List(1568999877190023)</td><td>1002-133533-ruymvarr</td><td>4</td><td>WriteSerializable</td><td>false</td><td>Map(numRemovedFiles -> 1, numRemovedBytes -> 2416, numCopiedRows -> 0, numDeletionVectorsAdded -> 0, numDeletionVectorsRemoved -> 0, numAddedChangeFiles -> 0, executionTimeMs -> 3280, numDeletionVectorsUpdated -> 0, scanTimeMs -> 1652, numAddedFiles -> 1, numUpdatedRows -> 1, numAddedBytes -> 2417, rewriteTimeMs -> 1625)</td><td>null</td><td>Databricks-Runtime/15.4.x-scala2.12</td></tr><tr><td>4</td><td>2024-10-02T13:51:49Z</td><td>2239208310904017</td><td>lepina73@hotmail.com</td><td>DELETE</td><td>Map(predicate -> [\"(Line_Number#3052 = 101)\"])</td><td>null</td><td>List(1568999877190023)</td><td>1002-133533-ruymvarr</td><td>3</td><td>WriteSerializable</td><td>false</td><td>Map(numRemovedFiles -> 1, numRemovedBytes -> 2417, numCopiedRows -> 0, numDeletionVectorsAdded -> 0, numDeletionVectorsRemoved -> 0, numAddedChangeFiles -> 0, executionTimeMs -> 5009, numDeletionVectorsUpdated -> 0, numDeletedRows -> 1, scanTimeMs -> 4469, numAddedFiles -> 0, numAddedBytes -> 0, rewriteTimeMs -> 500)</td><td>null</td><td>Databricks-Runtime/15.4.x-scala2.12</td></tr><tr><td>3</td><td>2024-10-02T13:51:27Z</td><td>2239208310904017</td><td>lepina73@hotmail.com</td><td>WRITE</td><td>Map(mode -> Append, statsOnLoad -> false, partitionBy -> [])</td><td>null</td><td>List(1568999877190023)</td><td>1002-133533-ruymvarr</td><td>2</td><td>WriteSerializable</td><td>true</td><td>Map(numFiles -> 1, numOutputRows -> 1, numOutputBytes -> 2416)</td><td>null</td><td>Databricks-Runtime/15.4.x-scala2.12</td></tr><tr><td>2</td><td>2024-10-02T13:50:23Z</td><td>2239208310904017</td><td>lepina73@hotmail.com</td><td>WRITE</td><td>Map(mode -> Append, statsOnLoad -> false, partitionBy -> [])</td><td>null</td><td>List(1568999877190023)</td><td>1002-133533-ruymvarr</td><td>1</td><td>WriteSerializable</td><td>true</td><td>Map(numFiles -> 1, numOutputRows -> 1, numOutputBytes -> 2417)</td><td>null</td><td>Databricks-Runtime/15.4.x-scala2.12</td></tr><tr><td>1</td><td>2024-10-02T13:48:14Z</td><td>2239208310904017</td><td>lepina73@hotmail.com</td><td>WRITE</td><td>Map(mode -> Append, statsOnLoad -> false, partitionBy -> [])</td><td>null</td><td>List(1568999877190023)</td><td>1002-133533-ruymvarr</td><td>0</td><td>WriteSerializable</td><td>true</td><td>Map(numFiles -> 1, numOutputRows -> 1, numOutputBytes -> 2417)</td><td>null</td><td>Databricks-Runtime/15.4.x-scala2.12</td></tr><tr><td>0</td><td>2024-10-02T13:43:43Z</td><td>2239208310904017</td><td>lepina73@hotmail.com</td><td>CREATE TABLE</td><td>Map(partitionBy -> [], clusterBy -> [], description -> null, isManaged -> true, properties -> {\"delta.enableDeletionVectors\":\"true\"}, statsOnLoad -> false)</td><td>null</td><td>List(1568999877190023)</td><td>1002-133533-ruymvarr</td><td>null</td><td>WriteSerializable</td><td>true</td><td>Map()</td><td>null</td><td>Databricks-Runtime/15.4.x-scala2.12</td></tr></tbody></table></div>"
      ]
     },
     "metadata": {
      "application/vnd.databricks.v1+output": {
       "addedWidgets": {},
       "aggData": [],
       "aggError": "",
       "aggOverflow": false,
       "aggSchema": [],
       "aggSeriesLimitReached": false,
       "aggType": "",
       "arguments": {},
       "columnCustomDisplayInfos": {},
       "data": [
        [
         6,
         "2024-10-02T13:52:30Z",
         "2239208310904017",
         "lepina73@hotmail.com",
         "OPTIMIZE",
         {
          "auto": "false",
          "batchId": "0",
          "clusterBy": "[]",
          "predicate": "[]",
          "zOrderBy": "[]"
         },
         null,
         [
          "1568999877190023"
         ],
         "1002-133533-ruymvarr",
         5,
         "SnapshotIsolation",
         false,
         {
          "maxFileSize": "2518",
          "minFileSize": "2518",
          "numAddedBytes": "2518",
          "numAddedFiles": "1",
          "numDeletionVectorsRemoved": "0",
          "numRemovedBytes": "4834",
          "numRemovedFiles": "2",
          "p25FileSize": "2518",
          "p50FileSize": "2518",
          "p75FileSize": "2518"
         },
         null,
         "Databricks-Runtime/15.4.x-scala2.12"
        ],
        [
         5,
         "2024-10-02T13:52:08Z",
         "2239208310904017",
         "lepina73@hotmail.com",
         "UPDATE",
         {
          "predicate": "[\"(Line_Number#3929 = 102)\"]"
         },
         null,
         [
          "1568999877190023"
         ],
         "1002-133533-ruymvarr",
         4,
         "WriteSerializable",
         false,
         {
          "executionTimeMs": "3280",
          "numAddedBytes": "2417",
          "numAddedChangeFiles": "0",
          "numAddedFiles": "1",
          "numCopiedRows": "0",
          "numDeletionVectorsAdded": "0",
          "numDeletionVectorsRemoved": "0",
          "numDeletionVectorsUpdated": "0",
          "numRemovedBytes": "2416",
          "numRemovedFiles": "1",
          "numUpdatedRows": "1",
          "rewriteTimeMs": "1625",
          "scanTimeMs": "1652"
         },
         null,
         "Databricks-Runtime/15.4.x-scala2.12"
        ],
        [
         4,
         "2024-10-02T13:51:49Z",
         "2239208310904017",
         "lepina73@hotmail.com",
         "DELETE",
         {
          "predicate": "[\"(Line_Number#3052 = 101)\"]"
         },
         null,
         [
          "1568999877190023"
         ],
         "1002-133533-ruymvarr",
         3,
         "WriteSerializable",
         false,
         {
          "executionTimeMs": "5009",
          "numAddedBytes": "0",
          "numAddedChangeFiles": "0",
          "numAddedFiles": "0",
          "numCopiedRows": "0",
          "numDeletedRows": "1",
          "numDeletionVectorsAdded": "0",
          "numDeletionVectorsRemoved": "0",
          "numDeletionVectorsUpdated": "0",
          "numRemovedBytes": "2417",
          "numRemovedFiles": "1",
          "rewriteTimeMs": "500",
          "scanTimeMs": "4469"
         },
         null,
         "Databricks-Runtime/15.4.x-scala2.12"
        ],
        [
         3,
         "2024-10-02T13:51:27Z",
         "2239208310904017",
         "lepina73@hotmail.com",
         "WRITE",
         {
          "mode": "Append",
          "partitionBy": "[]",
          "statsOnLoad": "false"
         },
         null,
         [
          "1568999877190023"
         ],
         "1002-133533-ruymvarr",
         2,
         "WriteSerializable",
         true,
         {
          "numFiles": "1",
          "numOutputBytes": "2416",
          "numOutputRows": "1"
         },
         null,
         "Databricks-Runtime/15.4.x-scala2.12"
        ],
        [
         2,
         "2024-10-02T13:50:23Z",
         "2239208310904017",
         "lepina73@hotmail.com",
         "WRITE",
         {
          "mode": "Append",
          "partitionBy": "[]",
          "statsOnLoad": "false"
         },
         null,
         [
          "1568999877190023"
         ],
         "1002-133533-ruymvarr",
         1,
         "WriteSerializable",
         true,
         {
          "numFiles": "1",
          "numOutputBytes": "2417",
          "numOutputRows": "1"
         },
         null,
         "Databricks-Runtime/15.4.x-scala2.12"
        ],
        [
         1,
         "2024-10-02T13:48:14Z",
         "2239208310904017",
         "lepina73@hotmail.com",
         "WRITE",
         {
          "mode": "Append",
          "partitionBy": "[]",
          "statsOnLoad": "false"
         },
         null,
         [
          "1568999877190023"
         ],
         "1002-133533-ruymvarr",
         0,
         "WriteSerializable",
         true,
         {
          "numFiles": "1",
          "numOutputBytes": "2417",
          "numOutputRows": "1"
         },
         null,
         "Databricks-Runtime/15.4.x-scala2.12"
        ],
        [
         0,
         "2024-10-02T13:43:43Z",
         "2239208310904017",
         "lepina73@hotmail.com",
         "CREATE TABLE",
         {
          "clusterBy": "[]",
          "description": null,
          "isManaged": "true",
          "partitionBy": "[]",
          "properties": "{\"delta.enableDeletionVectors\":\"true\"}",
          "statsOnLoad": "false"
         },
         null,
         [
          "1568999877190023"
         ],
         "1002-133533-ruymvarr",
         null,
         "WriteSerializable",
         true,
         {},
         null,
         "Databricks-Runtime/15.4.x-scala2.12"
        ]
       ],
       "datasetInfos": [],
       "dbfsResultPath": null,
       "isJsonSchema": true,
       "metadata": {
        "isDbfsCommandResult": false
       },
       "overflow": false,
       "plotOptions": {
        "customPlotOptions": {},
        "displayType": "table",
        "pivotAggregation": null,
        "pivotColumns": null,
        "xColumns": null,
        "yColumns": null
       },
       "removedWidgets": [],
       "schema": [
        {
         "metadata": "{}",
         "name": "version",
         "type": "\"long\""
        },
        {
         "metadata": "{}",
         "name": "timestamp",
         "type": "\"timestamp\""
        },
        {
         "metadata": "{}",
         "name": "userId",
         "type": "\"string\""
        },
        {
         "metadata": "{}",
         "name": "userName",
         "type": "\"string\""
        },
        {
         "metadata": "{}",
         "name": "operation",
         "type": "\"string\""
        },
        {
         "metadata": "{}",
         "name": "operationParameters",
         "type": "{\"type\":\"map\",\"keyType\":\"string\",\"valueType\":\"string\",\"valueContainsNull\":true}"
        },
        {
         "metadata": "{}",
         "name": "job",
         "type": "{\"type\":\"struct\",\"fields\":[{\"name\":\"jobId\",\"type\":\"string\",\"nullable\":true,\"metadata\":{}},{\"name\":\"jobName\",\"type\":\"string\",\"nullable\":true,\"metadata\":{}},{\"name\":\"jobRunId\",\"type\":\"string\",\"nullable\":true,\"metadata\":{}},{\"name\":\"runId\",\"type\":\"string\",\"nullable\":true,\"metadata\":{}},{\"name\":\"jobOwnerId\",\"type\":\"string\",\"nullable\":true,\"metadata\":{}},{\"name\":\"triggerType\",\"type\":\"string\",\"nullable\":true,\"metadata\":{}}]}"
        },
        {
         "metadata": "{}",
         "name": "notebook",
         "type": "{\"type\":\"struct\",\"fields\":[{\"name\":\"notebookId\",\"type\":\"string\",\"nullable\":true,\"metadata\":{}}]}"
        },
        {
         "metadata": "{}",
         "name": "clusterId",
         "type": "\"string\""
        },
        {
         "metadata": "{}",
         "name": "readVersion",
         "type": "\"long\""
        },
        {
         "metadata": "{}",
         "name": "isolationLevel",
         "type": "\"string\""
        },
        {
         "metadata": "{}",
         "name": "isBlindAppend",
         "type": "\"boolean\""
        },
        {
         "metadata": "{}",
         "name": "operationMetrics",
         "type": "{\"type\":\"map\",\"keyType\":\"string\",\"valueType\":\"string\",\"valueContainsNull\":true}"
        },
        {
         "metadata": "{}",
         "name": "userMetadata",
         "type": "\"string\""
        },
        {
         "metadata": "{}",
         "name": "engineInfo",
         "type": "\"string\""
        }
       ],
       "type": "table"
      }
     },
     "output_type": "display_data"
    }
   ],
   "source": [
    "describe history `delta`.OptimizeTable;"
   ]
  },
  {
   "cell_type": "code",
   "execution_count": 0,
   "metadata": {
    "application/vnd.databricks.v1+cell": {
     "cellMetadata": {
      "byteLimit": 2048000,
      "rowLimit": 10000
     },
     "inputWidgets": {},
     "nuid": "fd529c9a-a007-4ccd-a6b1-554fbacd4136",
     "showTitle": false,
     "title": ""
    }
   },
   "outputs": [
    {
     "output_type": "display_data",
     "data": {
      "text/html": [
       "<style scoped>\n",
       "  .table-result-container {\n",
       "    max-height: 300px;\n",
       "    overflow: auto;\n",
       "  }\n",
       "  table, th, td {\n",
       "    border: 1px solid black;\n",
       "    border-collapse: collapse;\n",
       "  }\n",
       "  th, td {\n",
       "    padding: 5px;\n",
       "  }\n",
       "  th {\n",
       "    text-align: left;\n",
       "  }\n",
       "</style><div class='table-result-container'><table class='table-result'><thead style='background-color: white'><tr><th>Education_Level</th><th>Line_Number</th><th>Employed</th><th>Unemployed</th><th>Industry</th><th>Gender</th><th>Date_Inserted</th><th>dense_rank</th></tr></thead><tbody><tr><td>Bachelor</td><td>100</td><td>4500</td><td>500</td><td>Networking</td><td>Male</td><td>2023-07-12</td><td>1</td></tr><tr><td>Master</td><td>102</td><td>6500</td><td>500</td><td>Networking</td><td>Female</td><td>2023-07-12</td><td>3</td></tr></tbody></table></div>"
      ]
     },
     "metadata": {
      "application/vnd.databricks.v1+output": {
       "addedWidgets": {},
       "aggData": [],
       "aggError": "",
       "aggOverflow": false,
       "aggSchema": [],
       "aggSeriesLimitReached": false,
       "aggType": "",
       "arguments": {},
       "columnCustomDisplayInfos": {},
       "data": [
        [
         "Bachelor",
         100,
         4500,
         500,
         "Networking",
         "Male",
         "2023-07-12",
         1
        ],
        [
         "Master",
         102,
         6500,
         500,
         "Networking",
         "Female",
         "2023-07-12",
         3
        ]
       ],
       "datasetInfos": [],
       "dbfsResultPath": null,
       "isJsonSchema": true,
       "metadata": {
        "isDbfsCommandResult": false
       },
       "overflow": false,
       "plotOptions": {
        "customPlotOptions": {},
        "displayType": "table",
        "pivotAggregation": null,
        "pivotColumns": null,
        "xColumns": null,
        "yColumns": null
       },
       "removedWidgets": [],
       "schema": [
        {
         "metadata": "{\"__CHAR_VARCHAR_TYPE_STRING\":\"varchar(50)\"}",
         "name": "Education_Level",
         "type": "\"string\""
        },
        {
         "metadata": "{}",
         "name": "Line_Number",
         "type": "\"integer\""
        },
        {
         "metadata": "{}",
         "name": "Employed",
         "type": "\"integer\""
        },
        {
         "metadata": "{}",
         "name": "Unemployed",
         "type": "\"integer\""
        },
        {
         "metadata": "{\"__CHAR_VARCHAR_TYPE_STRING\":\"varchar(50)\"}",
         "name": "Industry",
         "type": "\"string\""
        },
        {
         "metadata": "{\"__CHAR_VARCHAR_TYPE_STRING\":\"varchar(10)\"}",
         "name": "Gender",
         "type": "\"string\""
        },
        {
         "metadata": "{}",
         "name": "Date_Inserted",
         "type": "\"date\""
        },
        {
         "metadata": "{}",
         "name": "dense_rank",
         "type": "\"integer\""
        }
       ],
       "type": "table"
      }
     },
     "output_type": "display_data"
    }
   ],
   "source": [
    "SELECT *\n",
    "FROM `delta`.OptimizeTable VERSION AS OF 4"
   ]
  },
  {
   "cell_type": "code",
   "execution_count": 0,
   "metadata": {
    "application/vnd.databricks.v1+cell": {
     "cellMetadata": {},
     "inputWidgets": {},
     "nuid": "3edd9bc0-cda1-420b-b95b-bfb63adcfc3d",
     "showTitle": false,
     "title": ""
    }
   },
   "outputs": [],
   "source": []
  }
 ],
 "metadata": {
  "application/vnd.databricks.v1+notebook": {
   "dashboards": [],
   "environmentMetadata": null,
   "language": "sql",
   "notebookMetadata": {
    "pythonIndentUnit": 4
   },
   "notebookName": "09.Optimize Command",
   "widgets": {}
  }
 },
 "nbformat": 4,
 "nbformat_minor": 0
}
